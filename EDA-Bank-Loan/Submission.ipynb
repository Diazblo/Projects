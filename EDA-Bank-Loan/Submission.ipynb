{
 "cells": [
  {
   "cell_type": "code",
   "execution_count": 1,
   "metadata": {},
   "outputs": [],
   "source": [
    "import pandas as pd\n",
    "import numpy as np\n",
    "import matplotlib.pyplot as plt\n",
    "import seaborn as sns\n",
    "from tqdm import tqdm\n",
    "sns.set()"
   ]
  },
  {
   "cell_type": "code",
   "execution_count": 2,
   "metadata": {},
   "outputs": [],
   "source": [
    "og_data = pd.read_excel('loan.xlsx')"
   ]
  },
  {
   "cell_type": "markdown",
   "metadata": {},
   "source": [
    "Problem : To identify customers likly to default on thier loan.\n",
    "\n",
    "Approach : Identify the important features from the data that will help in training a logistic regression model to identify defaulters."
   ]
  },
  {
   "cell_type": "code",
   "execution_count": 3,
   "metadata": {},
   "outputs": [
    {
     "name": "stdout",
     "output_type": "stream",
     "text": [
      "<class 'pandas.core.frame.DataFrame'>\n",
      "RangeIndex: 39717 entries, 0 to 39716\n",
      "Data columns (total 111 columns):\n",
      "id                                int64\n",
      "member_id                         int64\n",
      "loan_amnt                         int64\n",
      "funded_amnt                       int64\n",
      "funded_amnt_inv                   float64\n",
      "term                              object\n",
      "int_rate                          float64\n",
      "installment                       float64\n",
      "grade                             object\n",
      "sub_grade                         object\n",
      "emp_title                         object\n",
      "emp_length                        object\n",
      "home_ownership                    object\n",
      "annual_inc                        float64\n",
      "verification_status               object\n",
      "issue_d                           datetime64[ns]\n",
      "loan_status                       object\n",
      "pymnt_plan                        object\n",
      "url                               object\n",
      "desc                              object\n",
      "purpose                           object\n",
      "title                             object\n",
      "zip_code                          object\n",
      "addr_state                        object\n",
      "dti                               float64\n",
      "delinq_2yrs                       int64\n",
      "earliest_cr_line                  datetime64[ns]\n",
      "inq_last_6mths                    int64\n",
      "mths_since_last_delinq            float64\n",
      "mths_since_last_record            float64\n",
      "open_acc                          int64\n",
      "pub_rec                           int64\n",
      "revol_bal                         int64\n",
      "revol_util                        float64\n",
      "total_acc                         int64\n",
      "initial_list_status               object\n",
      "out_prncp                         float64\n",
      "out_prncp_inv                     float64\n",
      "total_pymnt                       float64\n",
      "total_pymnt_inv                   float64\n",
      "total_rec_prncp                   float64\n",
      "total_rec_int                     float64\n",
      "total_rec_late_fee                float64\n",
      "recoveries                        float64\n",
      "collection_recovery_fee           float64\n",
      "last_pymnt_d                      datetime64[ns]\n",
      "last_pymnt_amnt                   float64\n",
      "next_pymnt_d                      datetime64[ns]\n",
      "last_credit_pull_d                datetime64[ns]\n",
      "collections_12_mths_ex_med        float64\n",
      "mths_since_last_major_derog       float64\n",
      "policy_code                       int64\n",
      "application_type                  object\n",
      "annual_inc_joint                  float64\n",
      "dti_joint                         float64\n",
      "verification_status_joint         float64\n",
      "acc_now_delinq                    int64\n",
      "tot_coll_amt                      float64\n",
      "tot_cur_bal                       float64\n",
      "open_acc_6m                       float64\n",
      "open_il_6m                        float64\n",
      "open_il_12m                       float64\n",
      "open_il_24m                       float64\n",
      "mths_since_rcnt_il                float64\n",
      "total_bal_il                      float64\n",
      "il_util                           float64\n",
      "open_rv_12m                       float64\n",
      "open_rv_24m                       float64\n",
      "max_bal_bc                        float64\n",
      "all_util                          float64\n",
      "total_rev_hi_lim                  float64\n",
      "inq_fi                            float64\n",
      "total_cu_tl                       float64\n",
      "inq_last_12m                      float64\n",
      "acc_open_past_24mths              float64\n",
      "avg_cur_bal                       float64\n",
      "bc_open_to_buy                    float64\n",
      "bc_util                           float64\n",
      "chargeoff_within_12_mths          float64\n",
      "delinq_amnt                       int64\n",
      "mo_sin_old_il_acct                float64\n",
      "mo_sin_old_rev_tl_op              float64\n",
      "mo_sin_rcnt_rev_tl_op             float64\n",
      "mo_sin_rcnt_tl                    float64\n",
      "mort_acc                          float64\n",
      "mths_since_recent_bc              float64\n",
      "mths_since_recent_bc_dlq          float64\n",
      "mths_since_recent_inq             float64\n",
      "mths_since_recent_revol_delinq    float64\n",
      "num_accts_ever_120_pd             float64\n",
      "num_actv_bc_tl                    float64\n",
      "num_actv_rev_tl                   float64\n",
      "num_bc_sats                       float64\n",
      "num_bc_tl                         float64\n",
      "num_il_tl                         float64\n",
      "num_op_rev_tl                     float64\n",
      "num_rev_accts                     float64\n",
      "num_rev_tl_bal_gt_0               float64\n",
      "num_sats                          float64\n",
      "num_tl_120dpd_2m                  float64\n",
      "num_tl_30dpd                      float64\n",
      "num_tl_90g_dpd_24m                float64\n",
      "num_tl_op_past_12m                float64\n",
      "pct_tl_nvr_dlq                    float64\n",
      "percent_bc_gt_75                  float64\n",
      "pub_rec_bankruptcies              float64\n",
      "tax_liens                         float64\n",
      "tot_hi_cred_lim                   float64\n",
      "total_bal_ex_mort                 float64\n",
      "total_bc_limit                    float64\n",
      "total_il_high_credit_limit        float64\n",
      "dtypes: datetime64[ns](5), float64(76), int64(13), object(17)\n",
      "memory usage: 33.6+ MB\n"
     ]
    }
   ],
   "source": [
    "og_data.info(verbose=True)"
   ]
  },
  {
   "cell_type": "markdown",
   "metadata": {},
   "source": [
    "Data contain 111 features and 39717 data points, data types are \"int\" , \"float\" and \"object\".\n",
    "As not all featues are important for model traning we will filter out only the important features, we will do EDA on the dataset to filter out important features."
   ]
  },
  {
   "cell_type": "code",
   "execution_count": 4,
   "metadata": {},
   "outputs": [
    {
     "data": {
      "text/html": [
       "<div>\n",
       "<style scoped>\n",
       "    .dataframe tbody tr th:only-of-type {\n",
       "        vertical-align: middle;\n",
       "    }\n",
       "\n",
       "    .dataframe tbody tr th {\n",
       "        vertical-align: top;\n",
       "    }\n",
       "\n",
       "    .dataframe thead th {\n",
       "        text-align: right;\n",
       "    }\n",
       "</style>\n",
       "<table border=\"1\" class=\"dataframe\">\n",
       "  <thead>\n",
       "    <tr style=\"text-align: right;\">\n",
       "      <th></th>\n",
       "      <th>id</th>\n",
       "      <th>member_id</th>\n",
       "      <th>loan_amnt</th>\n",
       "      <th>funded_amnt</th>\n",
       "      <th>funded_amnt_inv</th>\n",
       "      <th>term</th>\n",
       "      <th>int_rate</th>\n",
       "      <th>installment</th>\n",
       "      <th>grade</th>\n",
       "      <th>sub_grade</th>\n",
       "      <th>...</th>\n",
       "      <th>num_tl_90g_dpd_24m</th>\n",
       "      <th>num_tl_op_past_12m</th>\n",
       "      <th>pct_tl_nvr_dlq</th>\n",
       "      <th>percent_bc_gt_75</th>\n",
       "      <th>pub_rec_bankruptcies</th>\n",
       "      <th>tax_liens</th>\n",
       "      <th>tot_hi_cred_lim</th>\n",
       "      <th>total_bal_ex_mort</th>\n",
       "      <th>total_bc_limit</th>\n",
       "      <th>total_il_high_credit_limit</th>\n",
       "    </tr>\n",
       "  </thead>\n",
       "  <tbody>\n",
       "    <tr>\n",
       "      <th>0</th>\n",
       "      <td>1077501</td>\n",
       "      <td>1296599</td>\n",
       "      <td>5000</td>\n",
       "      <td>5000</td>\n",
       "      <td>4975.0</td>\n",
       "      <td>36 months</td>\n",
       "      <td>0.1065</td>\n",
       "      <td>162.87</td>\n",
       "      <td>B</td>\n",
       "      <td>B2</td>\n",
       "      <td>...</td>\n",
       "      <td>NaN</td>\n",
       "      <td>NaN</td>\n",
       "      <td>NaN</td>\n",
       "      <td>NaN</td>\n",
       "      <td>0.0</td>\n",
       "      <td>0.0</td>\n",
       "      <td>NaN</td>\n",
       "      <td>NaN</td>\n",
       "      <td>NaN</td>\n",
       "      <td>NaN</td>\n",
       "    </tr>\n",
       "    <tr>\n",
       "      <th>1</th>\n",
       "      <td>1077430</td>\n",
       "      <td>1314167</td>\n",
       "      <td>2500</td>\n",
       "      <td>2500</td>\n",
       "      <td>2500.0</td>\n",
       "      <td>60 months</td>\n",
       "      <td>0.1527</td>\n",
       "      <td>59.83</td>\n",
       "      <td>C</td>\n",
       "      <td>C4</td>\n",
       "      <td>...</td>\n",
       "      <td>NaN</td>\n",
       "      <td>NaN</td>\n",
       "      <td>NaN</td>\n",
       "      <td>NaN</td>\n",
       "      <td>0.0</td>\n",
       "      <td>0.0</td>\n",
       "      <td>NaN</td>\n",
       "      <td>NaN</td>\n",
       "      <td>NaN</td>\n",
       "      <td>NaN</td>\n",
       "    </tr>\n",
       "    <tr>\n",
       "      <th>2</th>\n",
       "      <td>1077175</td>\n",
       "      <td>1313524</td>\n",
       "      <td>2400</td>\n",
       "      <td>2400</td>\n",
       "      <td>2400.0</td>\n",
       "      <td>36 months</td>\n",
       "      <td>0.1596</td>\n",
       "      <td>84.33</td>\n",
       "      <td>C</td>\n",
       "      <td>C5</td>\n",
       "      <td>...</td>\n",
       "      <td>NaN</td>\n",
       "      <td>NaN</td>\n",
       "      <td>NaN</td>\n",
       "      <td>NaN</td>\n",
       "      <td>0.0</td>\n",
       "      <td>0.0</td>\n",
       "      <td>NaN</td>\n",
       "      <td>NaN</td>\n",
       "      <td>NaN</td>\n",
       "      <td>NaN</td>\n",
       "    </tr>\n",
       "    <tr>\n",
       "      <th>3</th>\n",
       "      <td>1076863</td>\n",
       "      <td>1277178</td>\n",
       "      <td>10000</td>\n",
       "      <td>10000</td>\n",
       "      <td>10000.0</td>\n",
       "      <td>36 months</td>\n",
       "      <td>0.1349</td>\n",
       "      <td>339.31</td>\n",
       "      <td>C</td>\n",
       "      <td>C1</td>\n",
       "      <td>...</td>\n",
       "      <td>NaN</td>\n",
       "      <td>NaN</td>\n",
       "      <td>NaN</td>\n",
       "      <td>NaN</td>\n",
       "      <td>0.0</td>\n",
       "      <td>0.0</td>\n",
       "      <td>NaN</td>\n",
       "      <td>NaN</td>\n",
       "      <td>NaN</td>\n",
       "      <td>NaN</td>\n",
       "    </tr>\n",
       "    <tr>\n",
       "      <th>4</th>\n",
       "      <td>1075358</td>\n",
       "      <td>1311748</td>\n",
       "      <td>3000</td>\n",
       "      <td>3000</td>\n",
       "      <td>3000.0</td>\n",
       "      <td>60 months</td>\n",
       "      <td>0.1269</td>\n",
       "      <td>67.79</td>\n",
       "      <td>B</td>\n",
       "      <td>B5</td>\n",
       "      <td>...</td>\n",
       "      <td>NaN</td>\n",
       "      <td>NaN</td>\n",
       "      <td>NaN</td>\n",
       "      <td>NaN</td>\n",
       "      <td>0.0</td>\n",
       "      <td>0.0</td>\n",
       "      <td>NaN</td>\n",
       "      <td>NaN</td>\n",
       "      <td>NaN</td>\n",
       "      <td>NaN</td>\n",
       "    </tr>\n",
       "  </tbody>\n",
       "</table>\n",
       "<p>5 rows × 111 columns</p>\n",
       "</div>"
      ],
      "text/plain": [
       "        id  member_id  loan_amnt  funded_amnt  funded_amnt_inv        term  \\\n",
       "0  1077501    1296599       5000         5000           4975.0   36 months   \n",
       "1  1077430    1314167       2500         2500           2500.0   60 months   \n",
       "2  1077175    1313524       2400         2400           2400.0   36 months   \n",
       "3  1076863    1277178      10000        10000          10000.0   36 months   \n",
       "4  1075358    1311748       3000         3000           3000.0   60 months   \n",
       "\n",
       "   int_rate  installment grade sub_grade            ...              \\\n",
       "0    0.1065       162.87     B        B2            ...               \n",
       "1    0.1527        59.83     C        C4            ...               \n",
       "2    0.1596        84.33     C        C5            ...               \n",
       "3    0.1349       339.31     C        C1            ...               \n",
       "4    0.1269        67.79     B        B5            ...               \n",
       "\n",
       "  num_tl_90g_dpd_24m num_tl_op_past_12m pct_tl_nvr_dlq  percent_bc_gt_75  \\\n",
       "0                NaN                NaN            NaN               NaN   \n",
       "1                NaN                NaN            NaN               NaN   \n",
       "2                NaN                NaN            NaN               NaN   \n",
       "3                NaN                NaN            NaN               NaN   \n",
       "4                NaN                NaN            NaN               NaN   \n",
       "\n",
       "  pub_rec_bankruptcies tax_liens tot_hi_cred_lim total_bal_ex_mort  \\\n",
       "0                  0.0       0.0             NaN               NaN   \n",
       "1                  0.0       0.0             NaN               NaN   \n",
       "2                  0.0       0.0             NaN               NaN   \n",
       "3                  0.0       0.0             NaN               NaN   \n",
       "4                  0.0       0.0             NaN               NaN   \n",
       "\n",
       "  total_bc_limit total_il_high_credit_limit  \n",
       "0            NaN                        NaN  \n",
       "1            NaN                        NaN  \n",
       "2            NaN                        NaN  \n",
       "3            NaN                        NaN  \n",
       "4            NaN                        NaN  \n",
       "\n",
       "[5 rows x 111 columns]"
      ]
     },
     "execution_count": 4,
     "metadata": {},
     "output_type": "execute_result"
    }
   ],
   "source": [
    "og_data.head()"
   ]
  },
  {
   "cell_type": "code",
   "execution_count": 5,
   "metadata": {},
   "outputs": [
    {
     "data": {
      "text/html": [
       "<div>\n",
       "<style scoped>\n",
       "    .dataframe tbody tr th:only-of-type {\n",
       "        vertical-align: middle;\n",
       "    }\n",
       "\n",
       "    .dataframe tbody tr th {\n",
       "        vertical-align: top;\n",
       "    }\n",
       "\n",
       "    .dataframe thead th {\n",
       "        text-align: right;\n",
       "    }\n",
       "</style>\n",
       "<table border=\"1\" class=\"dataframe\">\n",
       "  <thead>\n",
       "    <tr style=\"text-align: right;\">\n",
       "      <th></th>\n",
       "      <th>id</th>\n",
       "      <th>member_id</th>\n",
       "      <th>loan_amnt</th>\n",
       "      <th>funded_amnt</th>\n",
       "      <th>funded_amnt_inv</th>\n",
       "      <th>int_rate</th>\n",
       "      <th>installment</th>\n",
       "      <th>annual_inc</th>\n",
       "      <th>dti</th>\n",
       "      <th>delinq_2yrs</th>\n",
       "      <th>...</th>\n",
       "      <th>num_tl_90g_dpd_24m</th>\n",
       "      <th>num_tl_op_past_12m</th>\n",
       "      <th>pct_tl_nvr_dlq</th>\n",
       "      <th>percent_bc_gt_75</th>\n",
       "      <th>pub_rec_bankruptcies</th>\n",
       "      <th>tax_liens</th>\n",
       "      <th>tot_hi_cred_lim</th>\n",
       "      <th>total_bal_ex_mort</th>\n",
       "      <th>total_bc_limit</th>\n",
       "      <th>total_il_high_credit_limit</th>\n",
       "    </tr>\n",
       "  </thead>\n",
       "  <tbody>\n",
       "    <tr>\n",
       "      <th>count</th>\n",
       "      <td>3.971700e+04</td>\n",
       "      <td>3.971700e+04</td>\n",
       "      <td>39717.000000</td>\n",
       "      <td>39717.000000</td>\n",
       "      <td>39717.000000</td>\n",
       "      <td>39717.000000</td>\n",
       "      <td>39717.000000</td>\n",
       "      <td>3.971700e+04</td>\n",
       "      <td>39717.000000</td>\n",
       "      <td>39717.000000</td>\n",
       "      <td>...</td>\n",
       "      <td>0.0</td>\n",
       "      <td>0.0</td>\n",
       "      <td>0.0</td>\n",
       "      <td>0.0</td>\n",
       "      <td>39020.000000</td>\n",
       "      <td>39678.0</td>\n",
       "      <td>0.0</td>\n",
       "      <td>0.0</td>\n",
       "      <td>0.0</td>\n",
       "      <td>0.0</td>\n",
       "    </tr>\n",
       "    <tr>\n",
       "      <th>mean</th>\n",
       "      <td>6.831319e+05</td>\n",
       "      <td>8.504636e+05</td>\n",
       "      <td>11219.443815</td>\n",
       "      <td>10947.713196</td>\n",
       "      <td>10397.448868</td>\n",
       "      <td>0.120212</td>\n",
       "      <td>324.561922</td>\n",
       "      <td>6.896893e+04</td>\n",
       "      <td>13.315130</td>\n",
       "      <td>0.146512</td>\n",
       "      <td>...</td>\n",
       "      <td>NaN</td>\n",
       "      <td>NaN</td>\n",
       "      <td>NaN</td>\n",
       "      <td>NaN</td>\n",
       "      <td>0.043260</td>\n",
       "      <td>0.0</td>\n",
       "      <td>NaN</td>\n",
       "      <td>NaN</td>\n",
       "      <td>NaN</td>\n",
       "      <td>NaN</td>\n",
       "    </tr>\n",
       "    <tr>\n",
       "      <th>std</th>\n",
       "      <td>2.106941e+05</td>\n",
       "      <td>2.656783e+05</td>\n",
       "      <td>7456.670694</td>\n",
       "      <td>7187.238670</td>\n",
       "      <td>7128.450439</td>\n",
       "      <td>0.037248</td>\n",
       "      <td>208.874874</td>\n",
       "      <td>6.379377e+04</td>\n",
       "      <td>6.678594</td>\n",
       "      <td>0.491812</td>\n",
       "      <td>...</td>\n",
       "      <td>NaN</td>\n",
       "      <td>NaN</td>\n",
       "      <td>NaN</td>\n",
       "      <td>NaN</td>\n",
       "      <td>0.204324</td>\n",
       "      <td>0.0</td>\n",
       "      <td>NaN</td>\n",
       "      <td>NaN</td>\n",
       "      <td>NaN</td>\n",
       "      <td>NaN</td>\n",
       "    </tr>\n",
       "    <tr>\n",
       "      <th>min</th>\n",
       "      <td>5.473400e+04</td>\n",
       "      <td>7.069900e+04</td>\n",
       "      <td>500.000000</td>\n",
       "      <td>500.000000</td>\n",
       "      <td>0.000000</td>\n",
       "      <td>0.054200</td>\n",
       "      <td>15.690000</td>\n",
       "      <td>4.000000e+03</td>\n",
       "      <td>0.000000</td>\n",
       "      <td>0.000000</td>\n",
       "      <td>...</td>\n",
       "      <td>NaN</td>\n",
       "      <td>NaN</td>\n",
       "      <td>NaN</td>\n",
       "      <td>NaN</td>\n",
       "      <td>0.000000</td>\n",
       "      <td>0.0</td>\n",
       "      <td>NaN</td>\n",
       "      <td>NaN</td>\n",
       "      <td>NaN</td>\n",
       "      <td>NaN</td>\n",
       "    </tr>\n",
       "    <tr>\n",
       "      <th>25%</th>\n",
       "      <td>5.162210e+05</td>\n",
       "      <td>6.667800e+05</td>\n",
       "      <td>5500.000000</td>\n",
       "      <td>5400.000000</td>\n",
       "      <td>5000.000000</td>\n",
       "      <td>0.092500</td>\n",
       "      <td>167.020000</td>\n",
       "      <td>4.040400e+04</td>\n",
       "      <td>8.170000</td>\n",
       "      <td>0.000000</td>\n",
       "      <td>...</td>\n",
       "      <td>NaN</td>\n",
       "      <td>NaN</td>\n",
       "      <td>NaN</td>\n",
       "      <td>NaN</td>\n",
       "      <td>0.000000</td>\n",
       "      <td>0.0</td>\n",
       "      <td>NaN</td>\n",
       "      <td>NaN</td>\n",
       "      <td>NaN</td>\n",
       "      <td>NaN</td>\n",
       "    </tr>\n",
       "    <tr>\n",
       "      <th>50%</th>\n",
       "      <td>6.656650e+05</td>\n",
       "      <td>8.508120e+05</td>\n",
       "      <td>10000.000000</td>\n",
       "      <td>9600.000000</td>\n",
       "      <td>8975.000000</td>\n",
       "      <td>0.118600</td>\n",
       "      <td>280.220000</td>\n",
       "      <td>5.900000e+04</td>\n",
       "      <td>13.400000</td>\n",
       "      <td>0.000000</td>\n",
       "      <td>...</td>\n",
       "      <td>NaN</td>\n",
       "      <td>NaN</td>\n",
       "      <td>NaN</td>\n",
       "      <td>NaN</td>\n",
       "      <td>0.000000</td>\n",
       "      <td>0.0</td>\n",
       "      <td>NaN</td>\n",
       "      <td>NaN</td>\n",
       "      <td>NaN</td>\n",
       "      <td>NaN</td>\n",
       "    </tr>\n",
       "    <tr>\n",
       "      <th>75%</th>\n",
       "      <td>8.377550e+05</td>\n",
       "      <td>1.047339e+06</td>\n",
       "      <td>15000.000000</td>\n",
       "      <td>15000.000000</td>\n",
       "      <td>14400.000000</td>\n",
       "      <td>0.145900</td>\n",
       "      <td>430.780000</td>\n",
       "      <td>8.230000e+04</td>\n",
       "      <td>18.600000</td>\n",
       "      <td>0.000000</td>\n",
       "      <td>...</td>\n",
       "      <td>NaN</td>\n",
       "      <td>NaN</td>\n",
       "      <td>NaN</td>\n",
       "      <td>NaN</td>\n",
       "      <td>0.000000</td>\n",
       "      <td>0.0</td>\n",
       "      <td>NaN</td>\n",
       "      <td>NaN</td>\n",
       "      <td>NaN</td>\n",
       "      <td>NaN</td>\n",
       "    </tr>\n",
       "    <tr>\n",
       "      <th>max</th>\n",
       "      <td>1.077501e+06</td>\n",
       "      <td>1.314167e+06</td>\n",
       "      <td>35000.000000</td>\n",
       "      <td>35000.000000</td>\n",
       "      <td>35000.000000</td>\n",
       "      <td>0.245900</td>\n",
       "      <td>1305.190000</td>\n",
       "      <td>6.000000e+06</td>\n",
       "      <td>29.990000</td>\n",
       "      <td>11.000000</td>\n",
       "      <td>...</td>\n",
       "      <td>NaN</td>\n",
       "      <td>NaN</td>\n",
       "      <td>NaN</td>\n",
       "      <td>NaN</td>\n",
       "      <td>2.000000</td>\n",
       "      <td>0.0</td>\n",
       "      <td>NaN</td>\n",
       "      <td>NaN</td>\n",
       "      <td>NaN</td>\n",
       "      <td>NaN</td>\n",
       "    </tr>\n",
       "  </tbody>\n",
       "</table>\n",
       "<p>8 rows × 89 columns</p>\n",
       "</div>"
      ],
      "text/plain": [
       "                 id     member_id     loan_amnt   funded_amnt  \\\n",
       "count  3.971700e+04  3.971700e+04  39717.000000  39717.000000   \n",
       "mean   6.831319e+05  8.504636e+05  11219.443815  10947.713196   \n",
       "std    2.106941e+05  2.656783e+05   7456.670694   7187.238670   \n",
       "min    5.473400e+04  7.069900e+04    500.000000    500.000000   \n",
       "25%    5.162210e+05  6.667800e+05   5500.000000   5400.000000   \n",
       "50%    6.656650e+05  8.508120e+05  10000.000000   9600.000000   \n",
       "75%    8.377550e+05  1.047339e+06  15000.000000  15000.000000   \n",
       "max    1.077501e+06  1.314167e+06  35000.000000  35000.000000   \n",
       "\n",
       "       funded_amnt_inv      int_rate   installment    annual_inc  \\\n",
       "count     39717.000000  39717.000000  39717.000000  3.971700e+04   \n",
       "mean      10397.448868      0.120212    324.561922  6.896893e+04   \n",
       "std        7128.450439      0.037248    208.874874  6.379377e+04   \n",
       "min           0.000000      0.054200     15.690000  4.000000e+03   \n",
       "25%        5000.000000      0.092500    167.020000  4.040400e+04   \n",
       "50%        8975.000000      0.118600    280.220000  5.900000e+04   \n",
       "75%       14400.000000      0.145900    430.780000  8.230000e+04   \n",
       "max       35000.000000      0.245900   1305.190000  6.000000e+06   \n",
       "\n",
       "                dti   delinq_2yrs             ...              \\\n",
       "count  39717.000000  39717.000000             ...               \n",
       "mean      13.315130      0.146512             ...               \n",
       "std        6.678594      0.491812             ...               \n",
       "min        0.000000      0.000000             ...               \n",
       "25%        8.170000      0.000000             ...               \n",
       "50%       13.400000      0.000000             ...               \n",
       "75%       18.600000      0.000000             ...               \n",
       "max       29.990000     11.000000             ...               \n",
       "\n",
       "       num_tl_90g_dpd_24m  num_tl_op_past_12m  pct_tl_nvr_dlq  \\\n",
       "count                 0.0                 0.0             0.0   \n",
       "mean                  NaN                 NaN             NaN   \n",
       "std                   NaN                 NaN             NaN   \n",
       "min                   NaN                 NaN             NaN   \n",
       "25%                   NaN                 NaN             NaN   \n",
       "50%                   NaN                 NaN             NaN   \n",
       "75%                   NaN                 NaN             NaN   \n",
       "max                   NaN                 NaN             NaN   \n",
       "\n",
       "       percent_bc_gt_75  pub_rec_bankruptcies  tax_liens  tot_hi_cred_lim  \\\n",
       "count               0.0          39020.000000    39678.0              0.0   \n",
       "mean                NaN              0.043260        0.0              NaN   \n",
       "std                 NaN              0.204324        0.0              NaN   \n",
       "min                 NaN              0.000000        0.0              NaN   \n",
       "25%                 NaN              0.000000        0.0              NaN   \n",
       "50%                 NaN              0.000000        0.0              NaN   \n",
       "75%                 NaN              0.000000        0.0              NaN   \n",
       "max                 NaN              2.000000        0.0              NaN   \n",
       "\n",
       "       total_bal_ex_mort  total_bc_limit  total_il_high_credit_limit  \n",
       "count                0.0             0.0                         0.0  \n",
       "mean                 NaN             NaN                         NaN  \n",
       "std                  NaN             NaN                         NaN  \n",
       "min                  NaN             NaN                         NaN  \n",
       "25%                  NaN             NaN                         NaN  \n",
       "50%                  NaN             NaN                         NaN  \n",
       "75%                  NaN             NaN                         NaN  \n",
       "max                  NaN             NaN                         NaN  \n",
       "\n",
       "[8 rows x 89 columns]"
      ]
     },
     "execution_count": 5,
     "metadata": {},
     "output_type": "execute_result"
    }
   ],
   "source": [
    "og_data.describe()"
   ]
  },
  {
   "cell_type": "markdown",
   "metadata": {},
   "source": [
    "Let's convert term and emp length to numeric type"
   ]
  },
  {
   "cell_type": "code",
   "execution_count": 6,
   "metadata": {},
   "outputs": [],
   "source": [
    "try:\n",
    "    og_data = pd.read_excel('mark1.xlsx')    \n",
    "except:\n",
    "    for i in tqdm((range(len(og_data)))):\n",
    "         og_data['term'].iloc[i] = [int(s) for s in og_data['term'].iloc[i].split() if s.isdigit()][0]\n",
    "         if(og_data['emp_length'].iloc[i].find('+') != -1):\n",
    "            og_data['emp_length'].iloc[i] = int(og_data['emp_length'].iloc[i][0]+og_data['emp_length'].iloc[i][1])\n",
    "         else:\n",
    "            og_data['emp_length'].iloc[i] = [int(s) for s in og_data['emp_length'].iloc[i].split() if s.isdigit()][0]"
   ]
  },
  {
   "cell_type": "code",
   "execution_count": 7,
   "metadata": {},
   "outputs": [
    {
     "data": {
      "text/html": [
       "<div>\n",
       "<style scoped>\n",
       "    .dataframe tbody tr th:only-of-type {\n",
       "        vertical-align: middle;\n",
       "    }\n",
       "\n",
       "    .dataframe tbody tr th {\n",
       "        vertical-align: top;\n",
       "    }\n",
       "\n",
       "    .dataframe thead th {\n",
       "        text-align: right;\n",
       "    }\n",
       "</style>\n",
       "<table border=\"1\" class=\"dataframe\">\n",
       "  <thead>\n",
       "    <tr style=\"text-align: right;\">\n",
       "      <th></th>\n",
       "      <th>id</th>\n",
       "      <th>member_id</th>\n",
       "      <th>loan_amnt</th>\n",
       "      <th>funded_amnt</th>\n",
       "      <th>funded_amnt_inv</th>\n",
       "      <th>term</th>\n",
       "      <th>int_rate</th>\n",
       "      <th>installment</th>\n",
       "      <th>grade</th>\n",
       "      <th>sub_grade</th>\n",
       "      <th>...</th>\n",
       "      <th>num_tl_90g_dpd_24m</th>\n",
       "      <th>num_tl_op_past_12m</th>\n",
       "      <th>pct_tl_nvr_dlq</th>\n",
       "      <th>percent_bc_gt_75</th>\n",
       "      <th>pub_rec_bankruptcies</th>\n",
       "      <th>tax_liens</th>\n",
       "      <th>tot_hi_cred_lim</th>\n",
       "      <th>total_bal_ex_mort</th>\n",
       "      <th>total_bc_limit</th>\n",
       "      <th>total_il_high_credit_limit</th>\n",
       "    </tr>\n",
       "  </thead>\n",
       "  <tbody>\n",
       "    <tr>\n",
       "      <th>0</th>\n",
       "      <td>1077501</td>\n",
       "      <td>1296599</td>\n",
       "      <td>5000</td>\n",
       "      <td>5000</td>\n",
       "      <td>4975.0</td>\n",
       "      <td>36</td>\n",
       "      <td>0.1065</td>\n",
       "      <td>162.87</td>\n",
       "      <td>B</td>\n",
       "      <td>B2</td>\n",
       "      <td>...</td>\n",
       "      <td>NaN</td>\n",
       "      <td>NaN</td>\n",
       "      <td>NaN</td>\n",
       "      <td>NaN</td>\n",
       "      <td>0.0</td>\n",
       "      <td>0.0</td>\n",
       "      <td>NaN</td>\n",
       "      <td>NaN</td>\n",
       "      <td>NaN</td>\n",
       "      <td>NaN</td>\n",
       "    </tr>\n",
       "    <tr>\n",
       "      <th>1</th>\n",
       "      <td>1077430</td>\n",
       "      <td>1314167</td>\n",
       "      <td>2500</td>\n",
       "      <td>2500</td>\n",
       "      <td>2500.0</td>\n",
       "      <td>60</td>\n",
       "      <td>0.1527</td>\n",
       "      <td>59.83</td>\n",
       "      <td>C</td>\n",
       "      <td>C4</td>\n",
       "      <td>...</td>\n",
       "      <td>NaN</td>\n",
       "      <td>NaN</td>\n",
       "      <td>NaN</td>\n",
       "      <td>NaN</td>\n",
       "      <td>0.0</td>\n",
       "      <td>0.0</td>\n",
       "      <td>NaN</td>\n",
       "      <td>NaN</td>\n",
       "      <td>NaN</td>\n",
       "      <td>NaN</td>\n",
       "    </tr>\n",
       "    <tr>\n",
       "      <th>2</th>\n",
       "      <td>1077175</td>\n",
       "      <td>1313524</td>\n",
       "      <td>2400</td>\n",
       "      <td>2400</td>\n",
       "      <td>2400.0</td>\n",
       "      <td>36</td>\n",
       "      <td>0.1596</td>\n",
       "      <td>84.33</td>\n",
       "      <td>C</td>\n",
       "      <td>C5</td>\n",
       "      <td>...</td>\n",
       "      <td>NaN</td>\n",
       "      <td>NaN</td>\n",
       "      <td>NaN</td>\n",
       "      <td>NaN</td>\n",
       "      <td>0.0</td>\n",
       "      <td>0.0</td>\n",
       "      <td>NaN</td>\n",
       "      <td>NaN</td>\n",
       "      <td>NaN</td>\n",
       "      <td>NaN</td>\n",
       "    </tr>\n",
       "    <tr>\n",
       "      <th>3</th>\n",
       "      <td>1076863</td>\n",
       "      <td>1277178</td>\n",
       "      <td>10000</td>\n",
       "      <td>10000</td>\n",
       "      <td>10000.0</td>\n",
       "      <td>36</td>\n",
       "      <td>0.1349</td>\n",
       "      <td>339.31</td>\n",
       "      <td>C</td>\n",
       "      <td>C1</td>\n",
       "      <td>...</td>\n",
       "      <td>NaN</td>\n",
       "      <td>NaN</td>\n",
       "      <td>NaN</td>\n",
       "      <td>NaN</td>\n",
       "      <td>0.0</td>\n",
       "      <td>0.0</td>\n",
       "      <td>NaN</td>\n",
       "      <td>NaN</td>\n",
       "      <td>NaN</td>\n",
       "      <td>NaN</td>\n",
       "    </tr>\n",
       "    <tr>\n",
       "      <th>4</th>\n",
       "      <td>1075358</td>\n",
       "      <td>1311748</td>\n",
       "      <td>3000</td>\n",
       "      <td>3000</td>\n",
       "      <td>3000.0</td>\n",
       "      <td>60</td>\n",
       "      <td>0.1269</td>\n",
       "      <td>67.79</td>\n",
       "      <td>B</td>\n",
       "      <td>B5</td>\n",
       "      <td>...</td>\n",
       "      <td>NaN</td>\n",
       "      <td>NaN</td>\n",
       "      <td>NaN</td>\n",
       "      <td>NaN</td>\n",
       "      <td>0.0</td>\n",
       "      <td>0.0</td>\n",
       "      <td>NaN</td>\n",
       "      <td>NaN</td>\n",
       "      <td>NaN</td>\n",
       "      <td>NaN</td>\n",
       "    </tr>\n",
       "  </tbody>\n",
       "</table>\n",
       "<p>5 rows × 111 columns</p>\n",
       "</div>"
      ],
      "text/plain": [
       "        id  member_id  loan_amnt  funded_amnt  funded_amnt_inv  term  \\\n",
       "0  1077501    1296599       5000         5000           4975.0    36   \n",
       "1  1077430    1314167       2500         2500           2500.0    60   \n",
       "2  1077175    1313524       2400         2400           2400.0    36   \n",
       "3  1076863    1277178      10000        10000          10000.0    36   \n",
       "4  1075358    1311748       3000         3000           3000.0    60   \n",
       "\n",
       "   int_rate  installment grade sub_grade            ...              \\\n",
       "0    0.1065       162.87     B        B2            ...               \n",
       "1    0.1527        59.83     C        C4            ...               \n",
       "2    0.1596        84.33     C        C5            ...               \n",
       "3    0.1349       339.31     C        C1            ...               \n",
       "4    0.1269        67.79     B        B5            ...               \n",
       "\n",
       "  num_tl_90g_dpd_24m  num_tl_op_past_12m pct_tl_nvr_dlq  percent_bc_gt_75  \\\n",
       "0                NaN                 NaN            NaN               NaN   \n",
       "1                NaN                 NaN            NaN               NaN   \n",
       "2                NaN                 NaN            NaN               NaN   \n",
       "3                NaN                 NaN            NaN               NaN   \n",
       "4                NaN                 NaN            NaN               NaN   \n",
       "\n",
       "  pub_rec_bankruptcies tax_liens tot_hi_cred_lim total_bal_ex_mort  \\\n",
       "0                  0.0       0.0             NaN               NaN   \n",
       "1                  0.0       0.0             NaN               NaN   \n",
       "2                  0.0       0.0             NaN               NaN   \n",
       "3                  0.0       0.0             NaN               NaN   \n",
       "4                  0.0       0.0             NaN               NaN   \n",
       "\n",
       "  total_bc_limit total_il_high_credit_limit  \n",
       "0            NaN                        NaN  \n",
       "1            NaN                        NaN  \n",
       "2            NaN                        NaN  \n",
       "3            NaN                        NaN  \n",
       "4            NaN                        NaN  \n",
       "\n",
       "[5 rows x 111 columns]"
      ]
     },
     "execution_count": 7,
     "metadata": {},
     "output_type": "execute_result"
    }
   ],
   "source": [
    "og_data.head()"
   ]
  },
  {
   "cell_type": "code",
   "execution_count": 8,
   "metadata": {},
   "outputs": [
    {
     "name": "stdout",
     "output_type": "stream",
     "text": [
      "<class 'pandas.core.frame.DataFrame'>\n",
      "Int64Index: 38642 entries, 0 to 39716\n",
      "Data columns (total 111 columns):\n",
      "id                                int64\n",
      "member_id                         int64\n",
      "loan_amnt                         int64\n",
      "funded_amnt                       int64\n",
      "funded_amnt_inv                   float64\n",
      "term                              int64\n",
      "int_rate                          float64\n",
      "installment                       float64\n",
      "grade                             object\n",
      "sub_grade                         object\n",
      "emp_title                         object\n",
      "emp_length                        int64\n",
      "home_ownership                    object\n",
      "annual_inc                        float64\n",
      "verification_status               object\n",
      "issue_d                           datetime64[ns]\n",
      "loan_status                       object\n",
      "pymnt_plan                        object\n",
      "url                               object\n",
      "desc                              object\n",
      "purpose                           object\n",
      "title                             object\n",
      "zip_code                          object\n",
      "addr_state                        object\n",
      "dti                               float64\n",
      "delinq_2yrs                       int64\n",
      "earliest_cr_line                  datetime64[ns]\n",
      "inq_last_6mths                    int64\n",
      "mths_since_last_delinq            float64\n",
      "mths_since_last_record            float64\n",
      "open_acc                          int64\n",
      "pub_rec                           int64\n",
      "revol_bal                         int64\n",
      "revol_util                        float64\n",
      "total_acc                         int64\n",
      "initial_list_status               object\n",
      "out_prncp                         float64\n",
      "out_prncp_inv                     float64\n",
      "total_pymnt                       float64\n",
      "total_pymnt_inv                   float64\n",
      "total_rec_prncp                   float64\n",
      "total_rec_int                     float64\n",
      "total_rec_late_fee                float64\n",
      "recoveries                        float64\n",
      "collection_recovery_fee           float64\n",
      "last_pymnt_d                      datetime64[ns]\n",
      "last_pymnt_amnt                   float64\n",
      "next_pymnt_d                      datetime64[ns]\n",
      "last_credit_pull_d                datetime64[ns]\n",
      "collections_12_mths_ex_med        float64\n",
      "mths_since_last_major_derog       float64\n",
      "policy_code                       int64\n",
      "application_type                  object\n",
      "annual_inc_joint                  float64\n",
      "dti_joint                         float64\n",
      "verification_status_joint         float64\n",
      "acc_now_delinq                    int64\n",
      "tot_coll_amt                      float64\n",
      "tot_cur_bal                       float64\n",
      "open_acc_6m                       float64\n",
      "open_il_6m                        float64\n",
      "open_il_12m                       float64\n",
      "open_il_24m                       float64\n",
      "mths_since_rcnt_il                float64\n",
      "total_bal_il                      float64\n",
      "il_util                           float64\n",
      "open_rv_12m                       float64\n",
      "open_rv_24m                       float64\n",
      "max_bal_bc                        float64\n",
      "all_util                          float64\n",
      "total_rev_hi_lim                  float64\n",
      "inq_fi                            float64\n",
      "total_cu_tl                       float64\n",
      "inq_last_12m                      float64\n",
      "acc_open_past_24mths              float64\n",
      "avg_cur_bal                       float64\n",
      "bc_open_to_buy                    float64\n",
      "bc_util                           float64\n",
      "chargeoff_within_12_mths          float64\n",
      "delinq_amnt                       int64\n",
      "mo_sin_old_il_acct                float64\n",
      "mo_sin_old_rev_tl_op              float64\n",
      "mo_sin_rcnt_rev_tl_op             float64\n",
      "mo_sin_rcnt_tl                    float64\n",
      "mort_acc                          float64\n",
      "mths_since_recent_bc              float64\n",
      "mths_since_recent_bc_dlq          float64\n",
      "mths_since_recent_inq             float64\n",
      "mths_since_recent_revol_delinq    float64\n",
      "num_accts_ever_120_pd             float64\n",
      "num_actv_bc_tl                    float64\n",
      "num_actv_rev_tl                   float64\n",
      "num_bc_sats                       float64\n",
      "num_bc_tl                         float64\n",
      "num_il_tl                         float64\n",
      "num_op_rev_tl                     float64\n",
      "num_rev_accts                     float64\n",
      "num_rev_tl_bal_gt_0               float64\n",
      "num_sats                          float64\n",
      "num_tl_120dpd_2m                  float64\n",
      "num_tl_30dpd                      float64\n",
      "num_tl_90g_dpd_24m                float64\n",
      "num_tl_op_past_12m                float64\n",
      "pct_tl_nvr_dlq                    float64\n",
      "percent_bc_gt_75                  float64\n",
      "pub_rec_bankruptcies              float64\n",
      "tax_liens                         float64\n",
      "tot_hi_cred_lim                   float64\n",
      "total_bal_ex_mort                 float64\n",
      "total_bc_limit                    float64\n",
      "total_il_high_credit_limit        float64\n",
      "dtypes: datetime64[ns](5), float64(76), int64(15), object(15)\n",
      "memory usage: 33.0+ MB\n"
     ]
    }
   ],
   "source": [
    "og_data.info(verbose=True)"
   ]
  },
  {
   "cell_type": "code",
   "execution_count": 9,
   "metadata": {},
   "outputs": [
    {
     "data": {
      "text/plain": [
       "id                                    0\n",
       "member_id                             0\n",
       "loan_amnt                             0\n",
       "funded_amnt                           0\n",
       "funded_amnt_inv                       0\n",
       "term                                  0\n",
       "int_rate                              0\n",
       "installment                           0\n",
       "grade                                 0\n",
       "sub_grade                             0\n",
       "emp_title                          1440\n",
       "emp_length                            0\n",
       "home_ownership                        0\n",
       "annual_inc                            0\n",
       "verification_status                   0\n",
       "issue_d                               0\n",
       "loan_status                           0\n",
       "pymnt_plan                            0\n",
       "url                                   0\n",
       "desc                              12495\n",
       "purpose                               0\n",
       "title                                11\n",
       "zip_code                              0\n",
       "addr_state                            0\n",
       "dti                                   0\n",
       "delinq_2yrs                           0\n",
       "earliest_cr_line                      0\n",
       "inq_last_6mths                        0\n",
       "mths_since_last_delinq            24952\n",
       "mths_since_last_record            35979\n",
       "                                  ...  \n",
       "mo_sin_old_rev_tl_op              38642\n",
       "mo_sin_rcnt_rev_tl_op             38642\n",
       "mo_sin_rcnt_tl                    38642\n",
       "mort_acc                          38642\n",
       "mths_since_recent_bc              38642\n",
       "mths_since_recent_bc_dlq          38642\n",
       "mths_since_recent_inq             38642\n",
       "mths_since_recent_revol_delinq    38642\n",
       "num_accts_ever_120_pd             38642\n",
       "num_actv_bc_tl                    38642\n",
       "num_actv_rev_tl                   38642\n",
       "num_bc_sats                       38642\n",
       "num_bc_tl                         38642\n",
       "num_il_tl                         38642\n",
       "num_op_rev_tl                     38642\n",
       "num_rev_accts                     38642\n",
       "num_rev_tl_bal_gt_0               38642\n",
       "num_sats                          38642\n",
       "num_tl_120dpd_2m                  38642\n",
       "num_tl_30dpd                      38642\n",
       "num_tl_90g_dpd_24m                38642\n",
       "num_tl_op_past_12m                38642\n",
       "pct_tl_nvr_dlq                    38642\n",
       "percent_bc_gt_75                  38642\n",
       "pub_rec_bankruptcies                697\n",
       "tax_liens                            39\n",
       "tot_hi_cred_lim                   38642\n",
       "total_bal_ex_mort                 38642\n",
       "total_bc_limit                    38642\n",
       "total_il_high_credit_limit        38642\n",
       "Length: 111, dtype: int64"
      ]
     },
     "execution_count": 9,
     "metadata": {},
     "output_type": "execute_result"
    }
   ],
   "source": [
    "#count number of missing data\n",
    "og_data.isna().sum()"
   ]
  },
  {
   "cell_type": "code",
   "execution_count": 10,
   "metadata": {},
   "outputs": [],
   "source": [
    "og_data = og_data.drop(['emp_title','desc','title','mths_since_last_delinq','mths_since_last_record','next_pymnt_d','pub_rec_bankruptcies',], axis=1)"
   ]
  },
  {
   "cell_type": "code",
   "execution_count": 11,
   "metadata": {},
   "outputs": [
    {
     "data": {
      "text/plain": [
       "id                             0\n",
       "member_id                      0\n",
       "loan_amnt                      0\n",
       "funded_amnt                    0\n",
       "funded_amnt_inv                0\n",
       "term                           0\n",
       "int_rate                       0\n",
       "installment                    0\n",
       "grade                          0\n",
       "sub_grade                      0\n",
       "emp_length                     0\n",
       "home_ownership                 0\n",
       "annual_inc                     0\n",
       "verification_status            0\n",
       "issue_d                        0\n",
       "loan_status                    0\n",
       "pymnt_plan                     0\n",
       "url                            0\n",
       "purpose                        0\n",
       "zip_code                       0\n",
       "addr_state                     0\n",
       "dti                            0\n",
       "delinq_2yrs                    0\n",
       "earliest_cr_line               0\n",
       "inq_last_6mths                 0\n",
       "open_acc                       0\n",
       "pub_rec                        0\n",
       "revol_bal                      0\n",
       "revol_util                    47\n",
       "total_acc                      0\n",
       "initial_list_status            0\n",
       "out_prncp                      0\n",
       "out_prncp_inv                  0\n",
       "total_pymnt                    0\n",
       "total_pymnt_inv                0\n",
       "total_rec_prncp                0\n",
       "total_rec_int                  0\n",
       "total_rec_late_fee             0\n",
       "recoveries                     0\n",
       "collection_recovery_fee        0\n",
       "last_pymnt_d                  66\n",
       "last_pymnt_amnt                0\n",
       "last_credit_pull_d             2\n",
       "collections_12_mths_ex_med    56\n",
       "policy_code                    0\n",
       "application_type               0\n",
       "acc_now_delinq                 0\n",
       "chargeoff_within_12_mths      56\n",
       "delinq_amnt                    0\n",
       "tax_liens                     39\n",
       "dtype: int64"
      ]
     },
     "execution_count": 11,
     "metadata": {},
     "output_type": "execute_result"
    }
   ],
   "source": [
    "#drop column with all missing data\n",
    "og_data = og_data[[ cols for cols in og_data if og_data[cols].count() > 0 ]]\n",
    "og_data.isna().sum()"
   ]
  },
  {
   "cell_type": "markdown",
   "metadata": {},
   "source": [
    "#Let's take care of missing values"
   ]
  },
  {
   "cell_type": "code",
   "execution_count": 12,
   "metadata": {},
   "outputs": [],
   "source": [
    "og_data.dropna(inplace=True)"
   ]
  },
  {
   "cell_type": "code",
   "execution_count": 13,
   "metadata": {},
   "outputs": [
    {
     "name": "stdout",
     "output_type": "stream",
     "text": [
      "<class 'pandas.core.frame.DataFrame'>\n",
      "Int64Index: 38475 entries, 0 to 39665\n",
      "Data columns (total 50 columns):\n",
      "id                            38475 non-null int64\n",
      "member_id                     38475 non-null int64\n",
      "loan_amnt                     38475 non-null int64\n",
      "funded_amnt                   38475 non-null int64\n",
      "funded_amnt_inv               38475 non-null float64\n",
      "term                          38475 non-null int64\n",
      "int_rate                      38475 non-null float64\n",
      "installment                   38475 non-null float64\n",
      "grade                         38475 non-null object\n",
      "sub_grade                     38475 non-null object\n",
      "emp_length                    38475 non-null int64\n",
      "home_ownership                38475 non-null object\n",
      "annual_inc                    38475 non-null float64\n",
      "verification_status           38475 non-null object\n",
      "issue_d                       38475 non-null datetime64[ns]\n",
      "loan_status                   38475 non-null object\n",
      "pymnt_plan                    38475 non-null object\n",
      "url                           38475 non-null object\n",
      "purpose                       38475 non-null object\n",
      "zip_code                      38475 non-null object\n",
      "addr_state                    38475 non-null object\n",
      "dti                           38475 non-null float64\n",
      "delinq_2yrs                   38475 non-null int64\n",
      "earliest_cr_line              38475 non-null datetime64[ns]\n",
      "inq_last_6mths                38475 non-null int64\n",
      "open_acc                      38475 non-null int64\n",
      "pub_rec                       38475 non-null int64\n",
      "revol_bal                     38475 non-null int64\n",
      "revol_util                    38475 non-null float64\n",
      "total_acc                     38475 non-null int64\n",
      "initial_list_status           38475 non-null object\n",
      "out_prncp                     38475 non-null float64\n",
      "out_prncp_inv                 38475 non-null float64\n",
      "total_pymnt                   38475 non-null float64\n",
      "total_pymnt_inv               38475 non-null float64\n",
      "total_rec_prncp               38475 non-null float64\n",
      "total_rec_int                 38475 non-null float64\n",
      "total_rec_late_fee            38475 non-null float64\n",
      "recoveries                    38475 non-null float64\n",
      "collection_recovery_fee       38475 non-null float64\n",
      "last_pymnt_d                  38475 non-null datetime64[ns]\n",
      "last_pymnt_amnt               38475 non-null float64\n",
      "last_credit_pull_d            38475 non-null datetime64[ns]\n",
      "collections_12_mths_ex_med    38475 non-null float64\n",
      "policy_code                   38475 non-null int64\n",
      "application_type              38475 non-null object\n",
      "acc_now_delinq                38475 non-null int64\n",
      "chargeoff_within_12_mths      38475 non-null float64\n",
      "delinq_amnt                   38475 non-null int64\n",
      "tax_liens                     38475 non-null float64\n",
      "dtypes: datetime64[ns](4), float64(19), int64(15), object(12)\n",
      "memory usage: 15.0+ MB\n"
     ]
    }
   ],
   "source": [
    "og_data.info(verbose=True)"
   ]
  },
  {
   "cell_type": "code",
   "execution_count": 14,
   "metadata": {},
   "outputs": [],
   "source": [
    "#drop the irrelevant columns \n",
    "#last payment date won't have any relation wheather a person will default or not same with the earliest_cr_line\n",
    "#I think tax\n",
    "og_data = og_data.drop(['last_pymnt_d','earliest_cr_line'], axis=1)"
   ]
  },
  {
   "cell_type": "code",
   "execution_count": 15,
   "metadata": {},
   "outputs": [],
   "source": [
    "#drop columns with 0 values\n",
    "og_data = og_data.drop(['collections_12_mths_ex_med','policy_code','acc_now_delinq','delinq_amnt','tax_liens'], axis=1)"
   ]
  },
  {
   "cell_type": "code",
   "execution_count": 16,
   "metadata": {},
   "outputs": [
    {
     "data": {
      "text/html": [
       "<div>\n",
       "<style scoped>\n",
       "    .dataframe tbody tr th:only-of-type {\n",
       "        vertical-align: middle;\n",
       "    }\n",
       "\n",
       "    .dataframe tbody tr th {\n",
       "        vertical-align: top;\n",
       "    }\n",
       "\n",
       "    .dataframe thead th {\n",
       "        text-align: right;\n",
       "    }\n",
       "</style>\n",
       "<table border=\"1\" class=\"dataframe\">\n",
       "  <thead>\n",
       "    <tr style=\"text-align: right;\">\n",
       "      <th></th>\n",
       "      <th>loan_amnt</th>\n",
       "      <th>funded_amnt</th>\n",
       "      <th>funded_amnt_inv</th>\n",
       "      <th>term</th>\n",
       "      <th>int_rate</th>\n",
       "      <th>installment</th>\n",
       "      <th>emp_length</th>\n",
       "      <th>annual_inc</th>\n",
       "      <th>dti</th>\n",
       "      <th>delinq_2yrs</th>\n",
       "      <th>...</th>\n",
       "      <th>out_prncp_inv</th>\n",
       "      <th>total_pymnt</th>\n",
       "      <th>total_pymnt_inv</th>\n",
       "      <th>total_rec_prncp</th>\n",
       "      <th>total_rec_int</th>\n",
       "      <th>total_rec_late_fee</th>\n",
       "      <th>recoveries</th>\n",
       "      <th>collection_recovery_fee</th>\n",
       "      <th>last_pymnt_amnt</th>\n",
       "      <th>chargeoff_within_12_mths</th>\n",
       "    </tr>\n",
       "  </thead>\n",
       "  <tbody>\n",
       "    <tr>\n",
       "      <th>count</th>\n",
       "      <td>38475.000000</td>\n",
       "      <td>38475.000000</td>\n",
       "      <td>38475.000000</td>\n",
       "      <td>38475.000000</td>\n",
       "      <td>38475.000000</td>\n",
       "      <td>38475.000000</td>\n",
       "      <td>38475.000000</td>\n",
       "      <td>3.847500e+04</td>\n",
       "      <td>38475.000000</td>\n",
       "      <td>38475.000000</td>\n",
       "      <td>...</td>\n",
       "      <td>38475.000000</td>\n",
       "      <td>38475.000000</td>\n",
       "      <td>38475.000000</td>\n",
       "      <td>38475.000000</td>\n",
       "      <td>38475.000000</td>\n",
       "      <td>38475.000000</td>\n",
       "      <td>38475.000000</td>\n",
       "      <td>38475.000000</td>\n",
       "      <td>38475.000000</td>\n",
       "      <td>38475.0</td>\n",
       "    </tr>\n",
       "    <tr>\n",
       "      <th>mean</th>\n",
       "      <td>11311.444444</td>\n",
       "      <td>11035.738142</td>\n",
       "      <td>10482.199524</td>\n",
       "      <td>42.448031</td>\n",
       "      <td>0.120487</td>\n",
       "      <td>327.251158</td>\n",
       "      <td>5.098428</td>\n",
       "      <td>6.964306e+04</td>\n",
       "      <td>13.338617</td>\n",
       "      <td>0.146693</td>\n",
       "      <td>...</td>\n",
       "      <td>51.206671</td>\n",
       "      <td>12280.333526</td>\n",
       "      <td>11687.558352</td>\n",
       "      <td>9894.787458</td>\n",
       "      <td>2289.284049</td>\n",
       "      <td>1.374316</td>\n",
       "      <td>94.887788</td>\n",
       "      <td>12.353368</td>\n",
       "      <td>2712.289091</td>\n",
       "      <td>0.0</td>\n",
       "    </tr>\n",
       "    <tr>\n",
       "      <th>std</th>\n",
       "      <td>7461.485373</td>\n",
       "      <td>7191.910888</td>\n",
       "      <td>7135.743122</td>\n",
       "      <td>10.638542</td>\n",
       "      <td>0.037167</td>\n",
       "      <td>209.116109</td>\n",
       "      <td>3.408905</td>\n",
       "      <td>6.428838e+04</td>\n",
       "      <td>6.663076</td>\n",
       "      <td>0.491918</td>\n",
       "      <td>...</td>\n",
       "      <td>376.020399</td>\n",
       "      <td>9054.068391</td>\n",
       "      <td>8955.809822</td>\n",
       "      <td>7072.270137</td>\n",
       "      <td>2618.143859</td>\n",
       "      <td>7.344227</td>\n",
       "      <td>692.025612</td>\n",
       "      <td>149.652260</td>\n",
       "      <td>4474.103441</td>\n",
       "      <td>0.0</td>\n",
       "    </tr>\n",
       "    <tr>\n",
       "      <th>min</th>\n",
       "      <td>500.000000</td>\n",
       "      <td>500.000000</td>\n",
       "      <td>0.000000</td>\n",
       "      <td>36.000000</td>\n",
       "      <td>0.054200</td>\n",
       "      <td>15.690000</td>\n",
       "      <td>1.000000</td>\n",
       "      <td>4.000000e+03</td>\n",
       "      <td>0.000000</td>\n",
       "      <td>0.000000</td>\n",
       "      <td>...</td>\n",
       "      <td>0.000000</td>\n",
       "      <td>33.730000</td>\n",
       "      <td>0.000000</td>\n",
       "      <td>0.000000</td>\n",
       "      <td>6.220000</td>\n",
       "      <td>0.000000</td>\n",
       "      <td>0.000000</td>\n",
       "      <td>0.000000</td>\n",
       "      <td>0.010000</td>\n",
       "      <td>0.0</td>\n",
       "    </tr>\n",
       "    <tr>\n",
       "      <th>25%</th>\n",
       "      <td>5600.000000</td>\n",
       "      <td>5500.000000</td>\n",
       "      <td>5000.000000</td>\n",
       "      <td>36.000000</td>\n",
       "      <td>0.093200</td>\n",
       "      <td>168.740000</td>\n",
       "      <td>2.000000</td>\n",
       "      <td>4.152000e+04</td>\n",
       "      <td>8.220000</td>\n",
       "      <td>0.000000</td>\n",
       "      <td>...</td>\n",
       "      <td>0.000000</td>\n",
       "      <td>5643.266006</td>\n",
       "      <td>5222.200000</td>\n",
       "      <td>4800.000000</td>\n",
       "      <td>676.910000</td>\n",
       "      <td>0.000000</td>\n",
       "      <td>0.000000</td>\n",
       "      <td>0.000000</td>\n",
       "      <td>224.040000</td>\n",
       "      <td>0.0</td>\n",
       "    </tr>\n",
       "    <tr>\n",
       "      <th>50%</th>\n",
       "      <td>10000.000000</td>\n",
       "      <td>10000.000000</td>\n",
       "      <td>9000.000000</td>\n",
       "      <td>36.000000</td>\n",
       "      <td>0.118600</td>\n",
       "      <td>283.370000</td>\n",
       "      <td>4.000000</td>\n",
       "      <td>6.000000e+04</td>\n",
       "      <td>13.420000</td>\n",
       "      <td>0.000000</td>\n",
       "      <td>...</td>\n",
       "      <td>0.000000</td>\n",
       "      <td>10061.750000</td>\n",
       "      <td>9419.380000</td>\n",
       "      <td>8000.000000</td>\n",
       "      <td>1373.270000</td>\n",
       "      <td>0.000000</td>\n",
       "      <td>0.000000</td>\n",
       "      <td>0.000000</td>\n",
       "      <td>558.590000</td>\n",
       "      <td>0.0</td>\n",
       "    </tr>\n",
       "    <tr>\n",
       "      <th>75%</th>\n",
       "      <td>15000.000000</td>\n",
       "      <td>15000.000000</td>\n",
       "      <td>14450.000000</td>\n",
       "      <td>60.000000</td>\n",
       "      <td>0.145900</td>\n",
       "      <td>435.070000</td>\n",
       "      <td>9.000000</td>\n",
       "      <td>8.320000e+04</td>\n",
       "      <td>18.600000</td>\n",
       "      <td>0.000000</td>\n",
       "      <td>...</td>\n",
       "      <td>0.000000</td>\n",
       "      <td>16678.383050</td>\n",
       "      <td>15954.830000</td>\n",
       "      <td>14000.000000</td>\n",
       "      <td>2866.945000</td>\n",
       "      <td>0.000000</td>\n",
       "      <td>0.000000</td>\n",
       "      <td>0.000000</td>\n",
       "      <td>3358.345000</td>\n",
       "      <td>0.0</td>\n",
       "    </tr>\n",
       "    <tr>\n",
       "      <th>max</th>\n",
       "      <td>35000.000000</td>\n",
       "      <td>35000.000000</td>\n",
       "      <td>35000.000000</td>\n",
       "      <td>60.000000</td>\n",
       "      <td>0.245900</td>\n",
       "      <td>1305.190000</td>\n",
       "      <td>10.000000</td>\n",
       "      <td>6.000000e+06</td>\n",
       "      <td>29.990000</td>\n",
       "      <td>11.000000</td>\n",
       "      <td>...</td>\n",
       "      <td>6307.370000</td>\n",
       "      <td>58563.679930</td>\n",
       "      <td>58563.680000</td>\n",
       "      <td>35000.020000</td>\n",
       "      <td>23563.680000</td>\n",
       "      <td>180.200000</td>\n",
       "      <td>29623.350000</td>\n",
       "      <td>7002.190000</td>\n",
       "      <td>36115.200000</td>\n",
       "      <td>0.0</td>\n",
       "    </tr>\n",
       "  </tbody>\n",
       "</table>\n",
       "<p>8 rows × 27 columns</p>\n",
       "</div>"
      ],
      "text/plain": [
       "          loan_amnt   funded_amnt  funded_amnt_inv          term  \\\n",
       "count  38475.000000  38475.000000     38475.000000  38475.000000   \n",
       "mean   11311.444444  11035.738142     10482.199524     42.448031   \n",
       "std     7461.485373   7191.910888      7135.743122     10.638542   \n",
       "min      500.000000    500.000000         0.000000     36.000000   \n",
       "25%     5600.000000   5500.000000      5000.000000     36.000000   \n",
       "50%    10000.000000  10000.000000      9000.000000     36.000000   \n",
       "75%    15000.000000  15000.000000     14450.000000     60.000000   \n",
       "max    35000.000000  35000.000000     35000.000000     60.000000   \n",
       "\n",
       "           int_rate   installment    emp_length    annual_inc           dti  \\\n",
       "count  38475.000000  38475.000000  38475.000000  3.847500e+04  38475.000000   \n",
       "mean       0.120487    327.251158      5.098428  6.964306e+04     13.338617   \n",
       "std        0.037167    209.116109      3.408905  6.428838e+04      6.663076   \n",
       "min        0.054200     15.690000      1.000000  4.000000e+03      0.000000   \n",
       "25%        0.093200    168.740000      2.000000  4.152000e+04      8.220000   \n",
       "50%        0.118600    283.370000      4.000000  6.000000e+04     13.420000   \n",
       "75%        0.145900    435.070000      9.000000  8.320000e+04     18.600000   \n",
       "max        0.245900   1305.190000     10.000000  6.000000e+06     29.990000   \n",
       "\n",
       "        delinq_2yrs            ...             out_prncp_inv   total_pymnt  \\\n",
       "count  38475.000000            ...              38475.000000  38475.000000   \n",
       "mean       0.146693            ...                 51.206671  12280.333526   \n",
       "std        0.491918            ...                376.020399   9054.068391   \n",
       "min        0.000000            ...                  0.000000     33.730000   \n",
       "25%        0.000000            ...                  0.000000   5643.266006   \n",
       "50%        0.000000            ...                  0.000000  10061.750000   \n",
       "75%        0.000000            ...                  0.000000  16678.383050   \n",
       "max       11.000000            ...               6307.370000  58563.679930   \n",
       "\n",
       "       total_pymnt_inv  total_rec_prncp  total_rec_int  total_rec_late_fee  \\\n",
       "count     38475.000000     38475.000000   38475.000000        38475.000000   \n",
       "mean      11687.558352      9894.787458    2289.284049            1.374316   \n",
       "std        8955.809822      7072.270137    2618.143859            7.344227   \n",
       "min           0.000000         0.000000       6.220000            0.000000   \n",
       "25%        5222.200000      4800.000000     676.910000            0.000000   \n",
       "50%        9419.380000      8000.000000    1373.270000            0.000000   \n",
       "75%       15954.830000     14000.000000    2866.945000            0.000000   \n",
       "max       58563.680000     35000.020000   23563.680000          180.200000   \n",
       "\n",
       "         recoveries  collection_recovery_fee  last_pymnt_amnt  \\\n",
       "count  38475.000000             38475.000000     38475.000000   \n",
       "mean      94.887788                12.353368      2712.289091   \n",
       "std      692.025612               149.652260      4474.103441   \n",
       "min        0.000000                 0.000000         0.010000   \n",
       "25%        0.000000                 0.000000       224.040000   \n",
       "50%        0.000000                 0.000000       558.590000   \n",
       "75%        0.000000                 0.000000      3358.345000   \n",
       "max    29623.350000              7002.190000     36115.200000   \n",
       "\n",
       "       chargeoff_within_12_mths  \n",
       "count                   38475.0  \n",
       "mean                        0.0  \n",
       "std                         0.0  \n",
       "min                         0.0  \n",
       "25%                         0.0  \n",
       "50%                         0.0  \n",
       "75%                         0.0  \n",
       "max                         0.0  \n",
       "\n",
       "[8 rows x 27 columns]"
      ]
     },
     "execution_count": 16,
     "metadata": {},
     "output_type": "execute_result"
    }
   ],
   "source": [
    "og_data = og_data.drop(['id','member_id'],axis=1)\n",
    "og_data.describe()"
   ]
  },
  {
   "cell_type": "code",
   "execution_count": 17,
   "metadata": {},
   "outputs": [],
   "source": [
    "og_data.drop('chargeoff_within_12_mths',axis=1,inplace=True)"
   ]
  },
  {
   "cell_type": "markdown",
   "metadata": {},
   "source": [
    "Seperating numerical and categorical columns"
   ]
  },
  {
   "cell_type": "code",
   "execution_count": 18,
   "metadata": {},
   "outputs": [],
   "source": [
    "numeric_data = og_data.select_dtypes(include = ['int64','float64'])\n",
    "categorical_data = og_data.select_dtypes(include = ['O'])"
   ]
  },
  {
   "cell_type": "code",
   "execution_count": 19,
   "metadata": {},
   "outputs": [
    {
     "data": {
      "text/plain": [
       "Index(['loan_amnt', 'funded_amnt', 'funded_amnt_inv', 'term', 'int_rate',\n",
       "       'installment', 'emp_length', 'annual_inc', 'dti', 'delinq_2yrs',\n",
       "       'inq_last_6mths', 'open_acc', 'pub_rec', 'revol_bal', 'revol_util',\n",
       "       'total_acc', 'out_prncp', 'out_prncp_inv', 'total_pymnt',\n",
       "       'total_pymnt_inv', 'total_rec_prncp', 'total_rec_int',\n",
       "       'total_rec_late_fee', 'recoveries', 'collection_recovery_fee',\n",
       "       'last_pymnt_amnt'],\n",
       "      dtype='object')"
      ]
     },
     "execution_count": 19,
     "metadata": {},
     "output_type": "execute_result"
    }
   ],
   "source": [
    "numeric_data.columns"
   ]
  },
  {
   "cell_type": "code",
   "execution_count": 20,
   "metadata": {},
   "outputs": [
    {
     "data": {
      "text/plain": [
       "Index(['grade', 'sub_grade', 'home_ownership', 'verification_status',\n",
       "       'loan_status', 'pymnt_plan', 'url', 'purpose', 'zip_code', 'addr_state',\n",
       "       'initial_list_status', 'application_type'],\n",
       "      dtype='object')"
      ]
     },
     "execution_count": 20,
     "metadata": {},
     "output_type": "execute_result"
    }
   ],
   "source": [
    "categorical_data.columns"
   ]
  },
  {
   "cell_type": "markdown",
   "metadata": {},
   "source": [
    "Lets join the loan_status to numeric cols for analysis"
   ]
  },
  {
   "cell_type": "code",
   "execution_count": 21,
   "metadata": {},
   "outputs": [
    {
     "name": "stderr",
     "output_type": "stream",
     "text": [
      "/home/dettrax/.local/lib/python3.6/site-packages/ipykernel_launcher.py:1: SettingWithCopyWarning: \n",
      "A value is trying to be set on a copy of a slice from a DataFrame.\n",
      "Try using .loc[row_indexer,col_indexer] = value instead\n",
      "\n",
      "See the caveats in the documentation: http://pandas.pydata.org/pandas-docs/stable/indexing.html#indexing-view-versus-copy\n",
      "  \"\"\"Entry point for launching an IPython kernel.\n"
     ]
    }
   ],
   "source": [
    "numeric_data['loan_status'] = og_data['loan_status']"
   ]
  },
  {
   "cell_type": "code",
   "execution_count": 22,
   "metadata": {},
   "outputs": [
    {
     "data": {
      "text/html": [
       "<div>\n",
       "<style scoped>\n",
       "    .dataframe tbody tr th:only-of-type {\n",
       "        vertical-align: middle;\n",
       "    }\n",
       "\n",
       "    .dataframe tbody tr th {\n",
       "        vertical-align: top;\n",
       "    }\n",
       "\n",
       "    .dataframe thead th {\n",
       "        text-align: right;\n",
       "    }\n",
       "</style>\n",
       "<table border=\"1\" class=\"dataframe\">\n",
       "  <thead>\n",
       "    <tr style=\"text-align: right;\">\n",
       "      <th></th>\n",
       "      <th>loan_amnt</th>\n",
       "      <th>funded_amnt</th>\n",
       "      <th>funded_amnt_inv</th>\n",
       "      <th>term</th>\n",
       "      <th>int_rate</th>\n",
       "      <th>installment</th>\n",
       "      <th>emp_length</th>\n",
       "      <th>annual_inc</th>\n",
       "      <th>dti</th>\n",
       "      <th>delinq_2yrs</th>\n",
       "      <th>...</th>\n",
       "      <th>out_prncp_inv</th>\n",
       "      <th>total_pymnt</th>\n",
       "      <th>total_pymnt_inv</th>\n",
       "      <th>total_rec_prncp</th>\n",
       "      <th>total_rec_int</th>\n",
       "      <th>total_rec_late_fee</th>\n",
       "      <th>recoveries</th>\n",
       "      <th>collection_recovery_fee</th>\n",
       "      <th>last_pymnt_amnt</th>\n",
       "      <th>loan_status</th>\n",
       "    </tr>\n",
       "  </thead>\n",
       "  <tbody>\n",
       "    <tr>\n",
       "      <th>0</th>\n",
       "      <td>5000</td>\n",
       "      <td>5000</td>\n",
       "      <td>4975.0</td>\n",
       "      <td>36</td>\n",
       "      <td>0.1065</td>\n",
       "      <td>162.87</td>\n",
       "      <td>10</td>\n",
       "      <td>24000.0</td>\n",
       "      <td>27.65</td>\n",
       "      <td>0</td>\n",
       "      <td>...</td>\n",
       "      <td>0.00</td>\n",
       "      <td>5863.155187</td>\n",
       "      <td>5833.84</td>\n",
       "      <td>5000.00</td>\n",
       "      <td>863.16</td>\n",
       "      <td>0.00</td>\n",
       "      <td>0.00</td>\n",
       "      <td>0.00</td>\n",
       "      <td>171.62</td>\n",
       "      <td>Fully Paid</td>\n",
       "    </tr>\n",
       "    <tr>\n",
       "      <th>1</th>\n",
       "      <td>2500</td>\n",
       "      <td>2500</td>\n",
       "      <td>2500.0</td>\n",
       "      <td>60</td>\n",
       "      <td>0.1527</td>\n",
       "      <td>59.83</td>\n",
       "      <td>1</td>\n",
       "      <td>30000.0</td>\n",
       "      <td>1.00</td>\n",
       "      <td>0</td>\n",
       "      <td>...</td>\n",
       "      <td>0.00</td>\n",
       "      <td>1008.710000</td>\n",
       "      <td>1008.71</td>\n",
       "      <td>456.46</td>\n",
       "      <td>435.17</td>\n",
       "      <td>0.00</td>\n",
       "      <td>117.08</td>\n",
       "      <td>1.11</td>\n",
       "      <td>119.66</td>\n",
       "      <td>Charged Off</td>\n",
       "    </tr>\n",
       "    <tr>\n",
       "      <th>2</th>\n",
       "      <td>2400</td>\n",
       "      <td>2400</td>\n",
       "      <td>2400.0</td>\n",
       "      <td>36</td>\n",
       "      <td>0.1596</td>\n",
       "      <td>84.33</td>\n",
       "      <td>10</td>\n",
       "      <td>12252.0</td>\n",
       "      <td>8.72</td>\n",
       "      <td>0</td>\n",
       "      <td>...</td>\n",
       "      <td>0.00</td>\n",
       "      <td>3005.666844</td>\n",
       "      <td>3005.67</td>\n",
       "      <td>2400.00</td>\n",
       "      <td>605.67</td>\n",
       "      <td>0.00</td>\n",
       "      <td>0.00</td>\n",
       "      <td>0.00</td>\n",
       "      <td>649.91</td>\n",
       "      <td>Fully Paid</td>\n",
       "    </tr>\n",
       "    <tr>\n",
       "      <th>3</th>\n",
       "      <td>10000</td>\n",
       "      <td>10000</td>\n",
       "      <td>10000.0</td>\n",
       "      <td>36</td>\n",
       "      <td>0.1349</td>\n",
       "      <td>339.31</td>\n",
       "      <td>10</td>\n",
       "      <td>49200.0</td>\n",
       "      <td>20.00</td>\n",
       "      <td>0</td>\n",
       "      <td>...</td>\n",
       "      <td>0.00</td>\n",
       "      <td>12231.890000</td>\n",
       "      <td>12231.89</td>\n",
       "      <td>10000.00</td>\n",
       "      <td>2214.92</td>\n",
       "      <td>16.97</td>\n",
       "      <td>0.00</td>\n",
       "      <td>0.00</td>\n",
       "      <td>357.48</td>\n",
       "      <td>Fully Paid</td>\n",
       "    </tr>\n",
       "    <tr>\n",
       "      <th>4</th>\n",
       "      <td>3000</td>\n",
       "      <td>3000</td>\n",
       "      <td>3000.0</td>\n",
       "      <td>60</td>\n",
       "      <td>0.1269</td>\n",
       "      <td>67.79</td>\n",
       "      <td>1</td>\n",
       "      <td>80000.0</td>\n",
       "      <td>17.94</td>\n",
       "      <td>0</td>\n",
       "      <td>...</td>\n",
       "      <td>524.06</td>\n",
       "      <td>3513.330000</td>\n",
       "      <td>3513.33</td>\n",
       "      <td>2475.94</td>\n",
       "      <td>1037.39</td>\n",
       "      <td>0.00</td>\n",
       "      <td>0.00</td>\n",
       "      <td>0.00</td>\n",
       "      <td>67.79</td>\n",
       "      <td>Current</td>\n",
       "    </tr>\n",
       "  </tbody>\n",
       "</table>\n",
       "<p>5 rows × 27 columns</p>\n",
       "</div>"
      ],
      "text/plain": [
       "   loan_amnt  funded_amnt  funded_amnt_inv  term  int_rate  installment  \\\n",
       "0       5000         5000           4975.0    36    0.1065       162.87   \n",
       "1       2500         2500           2500.0    60    0.1527        59.83   \n",
       "2       2400         2400           2400.0    36    0.1596        84.33   \n",
       "3      10000        10000          10000.0    36    0.1349       339.31   \n",
       "4       3000         3000           3000.0    60    0.1269        67.79   \n",
       "\n",
       "   emp_length  annual_inc    dti  delinq_2yrs     ...       out_prncp_inv  \\\n",
       "0          10     24000.0  27.65            0     ...                0.00   \n",
       "1           1     30000.0   1.00            0     ...                0.00   \n",
       "2          10     12252.0   8.72            0     ...                0.00   \n",
       "3          10     49200.0  20.00            0     ...                0.00   \n",
       "4           1     80000.0  17.94            0     ...              524.06   \n",
       "\n",
       "    total_pymnt  total_pymnt_inv  total_rec_prncp  total_rec_int  \\\n",
       "0   5863.155187          5833.84          5000.00         863.16   \n",
       "1   1008.710000          1008.71           456.46         435.17   \n",
       "2   3005.666844          3005.67          2400.00         605.67   \n",
       "3  12231.890000         12231.89         10000.00        2214.92   \n",
       "4   3513.330000          3513.33          2475.94        1037.39   \n",
       "\n",
       "   total_rec_late_fee  recoveries  collection_recovery_fee  last_pymnt_amnt  \\\n",
       "0                0.00        0.00                     0.00           171.62   \n",
       "1                0.00      117.08                     1.11           119.66   \n",
       "2                0.00        0.00                     0.00           649.91   \n",
       "3               16.97        0.00                     0.00           357.48   \n",
       "4                0.00        0.00                     0.00            67.79   \n",
       "\n",
       "   loan_status  \n",
       "0   Fully Paid  \n",
       "1  Charged Off  \n",
       "2   Fully Paid  \n",
       "3   Fully Paid  \n",
       "4      Current  \n",
       "\n",
       "[5 rows x 27 columns]"
      ]
     },
     "execution_count": 22,
     "metadata": {},
     "output_type": "execute_result"
    }
   ],
   "source": [
    "numeric_data.head()"
   ]
  },
  {
   "cell_type": "code",
   "execution_count": 23,
   "metadata": {},
   "outputs": [
    {
     "data": {
      "text/plain": [
       "<matplotlib.axes._subplots.AxesSubplot at 0x7f02cbd2e6d8>"
      ]
     },
     "execution_count": 23,
     "metadata": {},
     "output_type": "execute_result"
    },
    {
     "data": {
      "image/png": "[encoded data removed]",
      "text/plain": [
       "<Figure size 6000x2000 with 1 Axes>"
      ]
     },
     "metadata": {
      "needs_background": "light"
     },
     "output_type": "display_data"
    }
   ],
   "source": [
    "plt.figure(figsize=(30,10),dpi=200)\n",
    "numeric_data.boxplot()"
   ]
  },
  {
   "cell_type": "markdown",
   "metadata": {},
   "source": [
    "We can see annual_inc has potential outliers, it is understandable as some people have higher income than average like if this data contain record of some rich peoples"
   ]
  },
  {
   "cell_type": "code",
   "execution_count": 24,
   "metadata": {},
   "outputs": [
    {
     "name": "stdout",
     "output_type": "stream",
     "text": [
      "0.99    235000.0\n",
      "Name: annual_inc, dtype: float64\n"
     ]
    }
   ],
   "source": [
    "# Reference : https://stackoverflow.com/questions/23199796/detect-and-exclude-outliers-in-pandas-data-frame/46740476\n",
    "print(numeric_data['annual_inc'].quantile([0.99]))"
   ]
  },
  {
   "cell_type": "code",
   "execution_count": 25,
   "metadata": {},
   "outputs": [
    {
     "name": "stdout",
     "output_type": "stream",
     "text": [
      "38084\n"
     ]
    }
   ],
   "source": [
    "numeric_data = numeric_data[numeric_data['annual_inc'] < 235000]\n",
    "print(len(numeric_data))"
   ]
  },
  {
   "cell_type": "code",
   "execution_count": 26,
   "metadata": {},
   "outputs": [
    {
     "data": {
      "text/html": [
       "<div>\n",
       "<style scoped>\n",
       "    .dataframe tbody tr th:only-of-type {\n",
       "        vertical-align: middle;\n",
       "    }\n",
       "\n",
       "    .dataframe tbody tr th {\n",
       "        vertical-align: top;\n",
       "    }\n",
       "\n",
       "    .dataframe thead th {\n",
       "        text-align: right;\n",
       "    }\n",
       "</style>\n",
       "<table border=\"1\" class=\"dataframe\">\n",
       "  <thead>\n",
       "    <tr style=\"text-align: right;\">\n",
       "      <th></th>\n",
       "      <th>loan_amnt</th>\n",
       "      <th>funded_amnt</th>\n",
       "      <th>funded_amnt_inv</th>\n",
       "      <th>term</th>\n",
       "      <th>int_rate</th>\n",
       "      <th>installment</th>\n",
       "      <th>emp_length</th>\n",
       "      <th>annual_inc</th>\n",
       "      <th>dti</th>\n",
       "      <th>delinq_2yrs</th>\n",
       "      <th>...</th>\n",
       "      <th>out_prncp</th>\n",
       "      <th>out_prncp_inv</th>\n",
       "      <th>total_pymnt</th>\n",
       "      <th>total_pymnt_inv</th>\n",
       "      <th>total_rec_prncp</th>\n",
       "      <th>total_rec_int</th>\n",
       "      <th>total_rec_late_fee</th>\n",
       "      <th>recoveries</th>\n",
       "      <th>collection_recovery_fee</th>\n",
       "      <th>last_pymnt_amnt</th>\n",
       "    </tr>\n",
       "  </thead>\n",
       "  <tbody>\n",
       "    <tr>\n",
       "      <th>count</th>\n",
       "      <td>38084.000000</td>\n",
       "      <td>38084.000000</td>\n",
       "      <td>38084.000000</td>\n",
       "      <td>38084.000000</td>\n",
       "      <td>38084.000000</td>\n",
       "      <td>38084.000000</td>\n",
       "      <td>38084.000000</td>\n",
       "      <td>38084.000000</td>\n",
       "      <td>38084.000000</td>\n",
       "      <td>38084.000000</td>\n",
       "      <td>...</td>\n",
       "      <td>38084.000000</td>\n",
       "      <td>38084.000000</td>\n",
       "      <td>38084.000000</td>\n",
       "      <td>38084.000000</td>\n",
       "      <td>38084.000000</td>\n",
       "      <td>38084.000000</td>\n",
       "      <td>38084.000000</td>\n",
       "      <td>38084.000000</td>\n",
       "      <td>38084.000000</td>\n",
       "      <td>38084.000000</td>\n",
       "    </tr>\n",
       "    <tr>\n",
       "      <th>mean</th>\n",
       "      <td>11223.159988</td>\n",
       "      <td>10951.151402</td>\n",
       "      <td>10402.349870</td>\n",
       "      <td>42.438609</td>\n",
       "      <td>0.120336</td>\n",
       "      <td>324.620267</td>\n",
       "      <td>5.089486</td>\n",
       "      <td>66147.798662</td>\n",
       "      <td>13.400561</td>\n",
       "      <td>0.145730</td>\n",
       "      <td>...</td>\n",
       "      <td>50.928334</td>\n",
       "      <td>50.683806</td>\n",
       "      <td>12174.626087</td>\n",
       "      <td>11587.368689</td>\n",
       "      <td>9813.018742</td>\n",
       "      <td>2265.799666</td>\n",
       "      <td>1.372680</td>\n",
       "      <td>94.435082</td>\n",
       "      <td>12.156593</td>\n",
       "      <td>2685.561299</td>\n",
       "    </tr>\n",
       "    <tr>\n",
       "      <th>std</th>\n",
       "      <td>7379.301154</td>\n",
       "      <td>7111.765467</td>\n",
       "      <td>7055.449071</td>\n",
       "      <td>10.633621</td>\n",
       "      <td>0.037089</td>\n",
       "      <td>206.395606</td>\n",
       "      <td>3.406025</td>\n",
       "      <td>35151.895672</td>\n",
       "      <td>6.647538</td>\n",
       "      <td>0.490414</td>\n",
       "      <td>...</td>\n",
       "      <td>373.692349</td>\n",
       "      <td>372.314963</td>\n",
       "      <td>8938.947783</td>\n",
       "      <td>8840.842452</td>\n",
       "      <td>6987.651747</td>\n",
       "      <td>2581.300974</td>\n",
       "      <td>7.338228</td>\n",
       "      <td>689.273826</td>\n",
       "      <td>147.529009</td>\n",
       "      <td>4428.773736</td>\n",
       "    </tr>\n",
       "    <tr>\n",
       "      <th>min</th>\n",
       "      <td>500.000000</td>\n",
       "      <td>500.000000</td>\n",
       "      <td>0.000000</td>\n",
       "      <td>36.000000</td>\n",
       "      <td>0.054200</td>\n",
       "      <td>15.690000</td>\n",
       "      <td>1.000000</td>\n",
       "      <td>4000.000000</td>\n",
       "      <td>0.000000</td>\n",
       "      <td>0.000000</td>\n",
       "      <td>...</td>\n",
       "      <td>0.000000</td>\n",
       "      <td>0.000000</td>\n",
       "      <td>33.730000</td>\n",
       "      <td>0.000000</td>\n",
       "      <td>0.000000</td>\n",
       "      <td>6.220000</td>\n",
       "      <td>0.000000</td>\n",
       "      <td>0.000000</td>\n",
       "      <td>0.000000</td>\n",
       "      <td>0.010000</td>\n",
       "    </tr>\n",
       "    <tr>\n",
       "      <th>25%</th>\n",
       "      <td>5500.000000</td>\n",
       "      <td>5500.000000</td>\n",
       "      <td>5000.000000</td>\n",
       "      <td>36.000000</td>\n",
       "      <td>0.093200</td>\n",
       "      <td>168.402500</td>\n",
       "      <td>2.000000</td>\n",
       "      <td>41000.000000</td>\n",
       "      <td>8.310000</td>\n",
       "      <td>0.000000</td>\n",
       "      <td>...</td>\n",
       "      <td>0.000000</td>\n",
       "      <td>0.000000</td>\n",
       "      <td>5630.042125</td>\n",
       "      <td>5197.702500</td>\n",
       "      <td>4750.000000</td>\n",
       "      <td>672.947500</td>\n",
       "      <td>0.000000</td>\n",
       "      <td>0.000000</td>\n",
       "      <td>0.000000</td>\n",
       "      <td>222.840000</td>\n",
       "    </tr>\n",
       "    <tr>\n",
       "      <th>50%</th>\n",
       "      <td>10000.000000</td>\n",
       "      <td>9800.000000</td>\n",
       "      <td>9000.000000</td>\n",
       "      <td>36.000000</td>\n",
       "      <td>0.118600</td>\n",
       "      <td>281.530000</td>\n",
       "      <td>4.000000</td>\n",
       "      <td>59800.000000</td>\n",
       "      <td>13.500000</td>\n",
       "      <td>0.000000</td>\n",
       "      <td>...</td>\n",
       "      <td>0.000000</td>\n",
       "      <td>0.000000</td>\n",
       "      <td>9992.312409</td>\n",
       "      <td>9367.040000</td>\n",
       "      <td>8000.000000</td>\n",
       "      <td>1362.640000</td>\n",
       "      <td>0.000000</td>\n",
       "      <td>0.000000</td>\n",
       "      <td>0.000000</td>\n",
       "      <td>553.850000</td>\n",
       "    </tr>\n",
       "    <tr>\n",
       "      <th>75%</th>\n",
       "      <td>15000.000000</td>\n",
       "      <td>15000.000000</td>\n",
       "      <td>14400.000000</td>\n",
       "      <td>60.000000</td>\n",
       "      <td>0.145400</td>\n",
       "      <td>430.400000</td>\n",
       "      <td>9.000000</td>\n",
       "      <td>82000.000000</td>\n",
       "      <td>18.650000</td>\n",
       "      <td>0.000000</td>\n",
       "      <td>...</td>\n",
       "      <td>0.000000</td>\n",
       "      <td>0.000000</td>\n",
       "      <td>16534.569337</td>\n",
       "      <td>15808.662500</td>\n",
       "      <td>13676.020000</td>\n",
       "      <td>2840.505000</td>\n",
       "      <td>0.000000</td>\n",
       "      <td>0.000000</td>\n",
       "      <td>0.000000</td>\n",
       "      <td>3326.567500</td>\n",
       "    </tr>\n",
       "    <tr>\n",
       "      <th>max</th>\n",
       "      <td>35000.000000</td>\n",
       "      <td>35000.000000</td>\n",
       "      <td>35000.000000</td>\n",
       "      <td>60.000000</td>\n",
       "      <td>0.245900</td>\n",
       "      <td>1305.190000</td>\n",
       "      <td>10.000000</td>\n",
       "      <td>234996.000000</td>\n",
       "      <td>29.990000</td>\n",
       "      <td>11.000000</td>\n",
       "      <td>...</td>\n",
       "      <td>6311.470000</td>\n",
       "      <td>6307.370000</td>\n",
       "      <td>58563.679930</td>\n",
       "      <td>58563.680000</td>\n",
       "      <td>35000.020000</td>\n",
       "      <td>23563.680000</td>\n",
       "      <td>180.200000</td>\n",
       "      <td>29623.350000</td>\n",
       "      <td>7002.190000</td>\n",
       "      <td>36115.200000</td>\n",
       "    </tr>\n",
       "  </tbody>\n",
       "</table>\n",
       "<p>8 rows × 26 columns</p>\n",
       "</div>"
      ],
      "text/plain": [
       "          loan_amnt   funded_amnt  funded_amnt_inv          term  \\\n",
       "count  38084.000000  38084.000000     38084.000000  38084.000000   \n",
       "mean   11223.159988  10951.151402     10402.349870     42.438609   \n",
       "std     7379.301154   7111.765467      7055.449071     10.633621   \n",
       "min      500.000000    500.000000         0.000000     36.000000   \n",
       "25%     5500.000000   5500.000000      5000.000000     36.000000   \n",
       "50%    10000.000000   9800.000000      9000.000000     36.000000   \n",
       "75%    15000.000000  15000.000000     14400.000000     60.000000   \n",
       "max    35000.000000  35000.000000     35000.000000     60.000000   \n",
       "\n",
       "           int_rate   installment    emp_length     annual_inc           dti  \\\n",
       "count  38084.000000  38084.000000  38084.000000   38084.000000  38084.000000   \n",
       "mean       0.120336    324.620267      5.089486   66147.798662     13.400561   \n",
       "std        0.037089    206.395606      3.406025   35151.895672      6.647538   \n",
       "min        0.054200     15.690000      1.000000    4000.000000      0.000000   \n",
       "25%        0.093200    168.402500      2.000000   41000.000000      8.310000   \n",
       "50%        0.118600    281.530000      4.000000   59800.000000     13.500000   \n",
       "75%        0.145400    430.400000      9.000000   82000.000000     18.650000   \n",
       "max        0.245900   1305.190000     10.000000  234996.000000     29.990000   \n",
       "\n",
       "        delinq_2yrs       ...            out_prncp  out_prncp_inv  \\\n",
       "count  38084.000000       ...         38084.000000   38084.000000   \n",
       "mean       0.145730       ...            50.928334      50.683806   \n",
       "std        0.490414       ...           373.692349     372.314963   \n",
       "min        0.000000       ...             0.000000       0.000000   \n",
       "25%        0.000000       ...             0.000000       0.000000   \n",
       "50%        0.000000       ...             0.000000       0.000000   \n",
       "75%        0.000000       ...             0.000000       0.000000   \n",
       "max       11.000000       ...          6311.470000    6307.370000   \n",
       "\n",
       "        total_pymnt  total_pymnt_inv  total_rec_prncp  total_rec_int  \\\n",
       "count  38084.000000     38084.000000     38084.000000   38084.000000   \n",
       "mean   12174.626087     11587.368689      9813.018742    2265.799666   \n",
       "std     8938.947783      8840.842452      6987.651747    2581.300974   \n",
       "min       33.730000         0.000000         0.000000       6.220000   \n",
       "25%     5630.042125      5197.702500      4750.000000     672.947500   \n",
       "50%     9992.312409      9367.040000      8000.000000    1362.640000   \n",
       "75%    16534.569337     15808.662500     13676.020000    2840.505000   \n",
       "max    58563.679930     58563.680000     35000.020000   23563.680000   \n",
       "\n",
       "       total_rec_late_fee    recoveries  collection_recovery_fee  \\\n",
       "count        38084.000000  38084.000000             38084.000000   \n",
       "mean             1.372680     94.435082                12.156593   \n",
       "std              7.338228    689.273826               147.529009   \n",
       "min              0.000000      0.000000                 0.000000   \n",
       "25%              0.000000      0.000000                 0.000000   \n",
       "50%              0.000000      0.000000                 0.000000   \n",
       "75%              0.000000      0.000000                 0.000000   \n",
       "max            180.200000  29623.350000              7002.190000   \n",
       "\n",
       "       last_pymnt_amnt  \n",
       "count     38084.000000  \n",
       "mean       2685.561299  \n",
       "std        4428.773736  \n",
       "min           0.010000  \n",
       "25%         222.840000  \n",
       "50%         553.850000  \n",
       "75%        3326.567500  \n",
       "max       36115.200000  \n",
       "\n",
       "[8 rows x 26 columns]"
      ]
     },
     "execution_count": 26,
     "metadata": {},
     "output_type": "execute_result"
    }
   ],
   "source": [
    "numeric_data.describe()"
   ]
  },
  {
   "cell_type": "code",
   "execution_count": 27,
   "metadata": {},
   "outputs": [],
   "source": [
    "numeric_data['revol_util'] = numeric_data['revol_util']*100"
   ]
  },
  {
   "cell_type": "code",
   "execution_count": 28,
   "metadata": {},
   "outputs": [],
   "source": [
    "numeric_data['int_rate'] = numeric_data['int_rate']*100"
   ]
  },
  {
   "cell_type": "code",
   "execution_count": 29,
   "metadata": {},
   "outputs": [
    {
     "data": {
      "text/html": [
       "<div>\n",
       "<style scoped>\n",
       "    .dataframe tbody tr th:only-of-type {\n",
       "        vertical-align: middle;\n",
       "    }\n",
       "\n",
       "    .dataframe tbody tr th {\n",
       "        vertical-align: top;\n",
       "    }\n",
       "\n",
       "    .dataframe thead th {\n",
       "        text-align: right;\n",
       "    }\n",
       "</style>\n",
       "<table border=\"1\" class=\"dataframe\">\n",
       "  <thead>\n",
       "    <tr style=\"text-align: right;\">\n",
       "      <th></th>\n",
       "      <th>loan_amnt</th>\n",
       "      <th>funded_amnt</th>\n",
       "      <th>funded_amnt_inv</th>\n",
       "      <th>term</th>\n",
       "      <th>int_rate</th>\n",
       "      <th>installment</th>\n",
       "      <th>emp_length</th>\n",
       "      <th>annual_inc</th>\n",
       "      <th>dti</th>\n",
       "      <th>delinq_2yrs</th>\n",
       "      <th>...</th>\n",
       "      <th>out_prncp</th>\n",
       "      <th>out_prncp_inv</th>\n",
       "      <th>total_pymnt</th>\n",
       "      <th>total_pymnt_inv</th>\n",
       "      <th>total_rec_prncp</th>\n",
       "      <th>total_rec_int</th>\n",
       "      <th>total_rec_late_fee</th>\n",
       "      <th>recoveries</th>\n",
       "      <th>collection_recovery_fee</th>\n",
       "      <th>last_pymnt_amnt</th>\n",
       "    </tr>\n",
       "  </thead>\n",
       "  <tbody>\n",
       "    <tr>\n",
       "      <th>count</th>\n",
       "      <td>38084.000000</td>\n",
       "      <td>38084.000000</td>\n",
       "      <td>38084.000000</td>\n",
       "      <td>38084.000000</td>\n",
       "      <td>38084.000000</td>\n",
       "      <td>38084.000000</td>\n",
       "      <td>38084.000000</td>\n",
       "      <td>38084.000000</td>\n",
       "      <td>38084.000000</td>\n",
       "      <td>38084.000000</td>\n",
       "      <td>...</td>\n",
       "      <td>38084.000000</td>\n",
       "      <td>38084.000000</td>\n",
       "      <td>38084.000000</td>\n",
       "      <td>38084.000000</td>\n",
       "      <td>38084.000000</td>\n",
       "      <td>38084.000000</td>\n",
       "      <td>38084.000000</td>\n",
       "      <td>38084.000000</td>\n",
       "      <td>38084.000000</td>\n",
       "      <td>38084.000000</td>\n",
       "    </tr>\n",
       "    <tr>\n",
       "      <th>mean</th>\n",
       "      <td>11223.159988</td>\n",
       "      <td>10951.151402</td>\n",
       "      <td>10402.349870</td>\n",
       "      <td>42.438609</td>\n",
       "      <td>12.033604</td>\n",
       "      <td>324.620267</td>\n",
       "      <td>5.089486</td>\n",
       "      <td>66147.798662</td>\n",
       "      <td>13.400561</td>\n",
       "      <td>0.145730</td>\n",
       "      <td>...</td>\n",
       "      <td>50.928334</td>\n",
       "      <td>50.683806</td>\n",
       "      <td>12174.626087</td>\n",
       "      <td>11587.368689</td>\n",
       "      <td>9813.018742</td>\n",
       "      <td>2265.799666</td>\n",
       "      <td>1.372680</td>\n",
       "      <td>94.435082</td>\n",
       "      <td>12.156593</td>\n",
       "      <td>2685.561299</td>\n",
       "    </tr>\n",
       "    <tr>\n",
       "      <th>std</th>\n",
       "      <td>7379.301154</td>\n",
       "      <td>7111.765467</td>\n",
       "      <td>7055.449071</td>\n",
       "      <td>10.633621</td>\n",
       "      <td>3.708860</td>\n",
       "      <td>206.395606</td>\n",
       "      <td>3.406025</td>\n",
       "      <td>35151.895672</td>\n",
       "      <td>6.647538</td>\n",
       "      <td>0.490414</td>\n",
       "      <td>...</td>\n",
       "      <td>373.692349</td>\n",
       "      <td>372.314963</td>\n",
       "      <td>8938.947783</td>\n",
       "      <td>8840.842452</td>\n",
       "      <td>6987.651747</td>\n",
       "      <td>2581.300974</td>\n",
       "      <td>7.338228</td>\n",
       "      <td>689.273826</td>\n",
       "      <td>147.529009</td>\n",
       "      <td>4428.773736</td>\n",
       "    </tr>\n",
       "    <tr>\n",
       "      <th>min</th>\n",
       "      <td>500.000000</td>\n",
       "      <td>500.000000</td>\n",
       "      <td>0.000000</td>\n",
       "      <td>36.000000</td>\n",
       "      <td>5.420000</td>\n",
       "      <td>15.690000</td>\n",
       "      <td>1.000000</td>\n",
       "      <td>4000.000000</td>\n",
       "      <td>0.000000</td>\n",
       "      <td>0.000000</td>\n",
       "      <td>...</td>\n",
       "      <td>0.000000</td>\n",
       "      <td>0.000000</td>\n",
       "      <td>33.730000</td>\n",
       "      <td>0.000000</td>\n",
       "      <td>0.000000</td>\n",
       "      <td>6.220000</td>\n",
       "      <td>0.000000</td>\n",
       "      <td>0.000000</td>\n",
       "      <td>0.000000</td>\n",
       "      <td>0.010000</td>\n",
       "    </tr>\n",
       "    <tr>\n",
       "      <th>25%</th>\n",
       "      <td>5500.000000</td>\n",
       "      <td>5500.000000</td>\n",
       "      <td>5000.000000</td>\n",
       "      <td>36.000000</td>\n",
       "      <td>9.320000</td>\n",
       "      <td>168.402500</td>\n",
       "      <td>2.000000</td>\n",
       "      <td>41000.000000</td>\n",
       "      <td>8.310000</td>\n",
       "      <td>0.000000</td>\n",
       "      <td>...</td>\n",
       "      <td>0.000000</td>\n",
       "      <td>0.000000</td>\n",
       "      <td>5630.042125</td>\n",
       "      <td>5197.702500</td>\n",
       "      <td>4750.000000</td>\n",
       "      <td>672.947500</td>\n",
       "      <td>0.000000</td>\n",
       "      <td>0.000000</td>\n",
       "      <td>0.000000</td>\n",
       "      <td>222.840000</td>\n",
       "    </tr>\n",
       "    <tr>\n",
       "      <th>50%</th>\n",
       "      <td>10000.000000</td>\n",
       "      <td>9800.000000</td>\n",
       "      <td>9000.000000</td>\n",
       "      <td>36.000000</td>\n",
       "      <td>11.860000</td>\n",
       "      <td>281.530000</td>\n",
       "      <td>4.000000</td>\n",
       "      <td>59800.000000</td>\n",
       "      <td>13.500000</td>\n",
       "      <td>0.000000</td>\n",
       "      <td>...</td>\n",
       "      <td>0.000000</td>\n",
       "      <td>0.000000</td>\n",
       "      <td>9992.312409</td>\n",
       "      <td>9367.040000</td>\n",
       "      <td>8000.000000</td>\n",
       "      <td>1362.640000</td>\n",
       "      <td>0.000000</td>\n",
       "      <td>0.000000</td>\n",
       "      <td>0.000000</td>\n",
       "      <td>553.850000</td>\n",
       "    </tr>\n",
       "    <tr>\n",
       "      <th>75%</th>\n",
       "      <td>15000.000000</td>\n",
       "      <td>15000.000000</td>\n",
       "      <td>14400.000000</td>\n",
       "      <td>60.000000</td>\n",
       "      <td>14.540000</td>\n",
       "      <td>430.400000</td>\n",
       "      <td>9.000000</td>\n",
       "      <td>82000.000000</td>\n",
       "      <td>18.650000</td>\n",
       "      <td>0.000000</td>\n",
       "      <td>...</td>\n",
       "      <td>0.000000</td>\n",
       "      <td>0.000000</td>\n",
       "      <td>16534.569337</td>\n",
       "      <td>15808.662500</td>\n",
       "      <td>13676.020000</td>\n",
       "      <td>2840.505000</td>\n",
       "      <td>0.000000</td>\n",
       "      <td>0.000000</td>\n",
       "      <td>0.000000</td>\n",
       "      <td>3326.567500</td>\n",
       "    </tr>\n",
       "    <tr>\n",
       "      <th>max</th>\n",
       "      <td>35000.000000</td>\n",
       "      <td>35000.000000</td>\n",
       "      <td>35000.000000</td>\n",
       "      <td>60.000000</td>\n",
       "      <td>24.590000</td>\n",
       "      <td>1305.190000</td>\n",
       "      <td>10.000000</td>\n",
       "      <td>234996.000000</td>\n",
       "      <td>29.990000</td>\n",
       "      <td>11.000000</td>\n",
       "      <td>...</td>\n",
       "      <td>6311.470000</td>\n",
       "      <td>6307.370000</td>\n",
       "      <td>58563.679930</td>\n",
       "      <td>58563.680000</td>\n",
       "      <td>35000.020000</td>\n",
       "      <td>23563.680000</td>\n",
       "      <td>180.200000</td>\n",
       "      <td>29623.350000</td>\n",
       "      <td>7002.190000</td>\n",
       "      <td>36115.200000</td>\n",
       "    </tr>\n",
       "  </tbody>\n",
       "</table>\n",
       "<p>8 rows × 26 columns</p>\n",
       "</div>"
      ],
      "text/plain": [
       "          loan_amnt   funded_amnt  funded_amnt_inv          term  \\\n",
       "count  38084.000000  38084.000000     38084.000000  38084.000000   \n",
       "mean   11223.159988  10951.151402     10402.349870     42.438609   \n",
       "std     7379.301154   7111.765467      7055.449071     10.633621   \n",
       "min      500.000000    500.000000         0.000000     36.000000   \n",
       "25%     5500.000000   5500.000000      5000.000000     36.000000   \n",
       "50%    10000.000000   9800.000000      9000.000000     36.000000   \n",
       "75%    15000.000000  15000.000000     14400.000000     60.000000   \n",
       "max    35000.000000  35000.000000     35000.000000     60.000000   \n",
       "\n",
       "           int_rate   installment    emp_length     annual_inc           dti  \\\n",
       "count  38084.000000  38084.000000  38084.000000   38084.000000  38084.000000   \n",
       "mean      12.033604    324.620267      5.089486   66147.798662     13.400561   \n",
       "std        3.708860    206.395606      3.406025   35151.895672      6.647538   \n",
       "min        5.420000     15.690000      1.000000    4000.000000      0.000000   \n",
       "25%        9.320000    168.402500      2.000000   41000.000000      8.310000   \n",
       "50%       11.860000    281.530000      4.000000   59800.000000     13.500000   \n",
       "75%       14.540000    430.400000      9.000000   82000.000000     18.650000   \n",
       "max       24.590000   1305.190000     10.000000  234996.000000     29.990000   \n",
       "\n",
       "        delinq_2yrs       ...            out_prncp  out_prncp_inv  \\\n",
       "count  38084.000000       ...         38084.000000   38084.000000   \n",
       "mean       0.145730       ...            50.928334      50.683806   \n",
       "std        0.490414       ...           373.692349     372.314963   \n",
       "min        0.000000       ...             0.000000       0.000000   \n",
       "25%        0.000000       ...             0.000000       0.000000   \n",
       "50%        0.000000       ...             0.000000       0.000000   \n",
       "75%        0.000000       ...             0.000000       0.000000   \n",
       "max       11.000000       ...          6311.470000    6307.370000   \n",
       "\n",
       "        total_pymnt  total_pymnt_inv  total_rec_prncp  total_rec_int  \\\n",
       "count  38084.000000     38084.000000     38084.000000   38084.000000   \n",
       "mean   12174.626087     11587.368689      9813.018742    2265.799666   \n",
       "std     8938.947783      8840.842452      6987.651747    2581.300974   \n",
       "min       33.730000         0.000000         0.000000       6.220000   \n",
       "25%     5630.042125      5197.702500      4750.000000     672.947500   \n",
       "50%     9992.312409      9367.040000      8000.000000    1362.640000   \n",
       "75%    16534.569337     15808.662500     13676.020000    2840.505000   \n",
       "max    58563.679930     58563.680000     35000.020000   23563.680000   \n",
       "\n",
       "       total_rec_late_fee    recoveries  collection_recovery_fee  \\\n",
       "count        38084.000000  38084.000000             38084.000000   \n",
       "mean             1.372680     94.435082                12.156593   \n",
       "std              7.338228    689.273826               147.529009   \n",
       "min              0.000000      0.000000                 0.000000   \n",
       "25%              0.000000      0.000000                 0.000000   \n",
       "50%              0.000000      0.000000                 0.000000   \n",
       "75%              0.000000      0.000000                 0.000000   \n",
       "max            180.200000  29623.350000              7002.190000   \n",
       "\n",
       "       last_pymnt_amnt  \n",
       "count     38084.000000  \n",
       "mean       2685.561299  \n",
       "std        4428.773736  \n",
       "min           0.010000  \n",
       "25%         222.840000  \n",
       "50%         553.850000  \n",
       "75%        3326.567500  \n",
       "max       36115.200000  \n",
       "\n",
       "[8 rows x 26 columns]"
      ]
     },
     "execution_count": 29,
     "metadata": {},
     "output_type": "execute_result"
    }
   ],
   "source": [
    "numeric_data.describe()"
   ]
  },
  {
   "cell_type": "code",
   "execution_count": 30,
   "metadata": {},
   "outputs": [],
   "source": [
    "numeric_backup = numeric_data.copy()"
   ]
  },
  {
   "cell_type": "code",
   "execution_count": 31,
   "metadata": {},
   "outputs": [
    {
     "data": {
      "text/plain": [
       "Index(['grade', 'sub_grade', 'home_ownership', 'verification_status',\n",
       "       'loan_status', 'pymnt_plan', 'url', 'purpose', 'zip_code', 'addr_state',\n",
       "       'initial_list_status', 'application_type'],\n",
       "      dtype='object')"
      ]
     },
     "execution_count": 31,
     "metadata": {},
     "output_type": "execute_result"
    }
   ],
   "source": [
    "categorical_data.columns"
   ]
  },
  {
   "cell_type": "code",
   "execution_count": 32,
   "metadata": {},
   "outputs": [
    {
     "data": {
      "text/html": [
       "<div>\n",
       "<style scoped>\n",
       "    .dataframe tbody tr th:only-of-type {\n",
       "        vertical-align: middle;\n",
       "    }\n",
       "\n",
       "    .dataframe tbody tr th {\n",
       "        vertical-align: top;\n",
       "    }\n",
       "\n",
       "    .dataframe thead th {\n",
       "        text-align: right;\n",
       "    }\n",
       "</style>\n",
       "<table border=\"1\" class=\"dataframe\">\n",
       "  <thead>\n",
       "    <tr style=\"text-align: right;\">\n",
       "      <th></th>\n",
       "      <th>grade</th>\n",
       "      <th>sub_grade</th>\n",
       "      <th>home_ownership</th>\n",
       "      <th>verification_status</th>\n",
       "      <th>loan_status</th>\n",
       "      <th>pymnt_plan</th>\n",
       "      <th>url</th>\n",
       "      <th>purpose</th>\n",
       "      <th>zip_code</th>\n",
       "      <th>addr_state</th>\n",
       "      <th>initial_list_status</th>\n",
       "      <th>application_type</th>\n",
       "    </tr>\n",
       "  </thead>\n",
       "  <tbody>\n",
       "    <tr>\n",
       "      <th>count</th>\n",
       "      <td>38475</td>\n",
       "      <td>38475</td>\n",
       "      <td>38475</td>\n",
       "      <td>38475</td>\n",
       "      <td>38475</td>\n",
       "      <td>38475</td>\n",
       "      <td>38475</td>\n",
       "      <td>38475</td>\n",
       "      <td>38475</td>\n",
       "      <td>38475</td>\n",
       "      <td>38475</td>\n",
       "      <td>38475</td>\n",
       "    </tr>\n",
       "    <tr>\n",
       "      <th>unique</th>\n",
       "      <td>7</td>\n",
       "      <td>35</td>\n",
       "      <td>5</td>\n",
       "      <td>3</td>\n",
       "      <td>3</td>\n",
       "      <td>1</td>\n",
       "      <td>38475</td>\n",
       "      <td>14</td>\n",
       "      <td>820</td>\n",
       "      <td>50</td>\n",
       "      <td>1</td>\n",
       "      <td>1</td>\n",
       "    </tr>\n",
       "    <tr>\n",
       "      <th>top</th>\n",
       "      <td>B</td>\n",
       "      <td>B3</td>\n",
       "      <td>RENT</td>\n",
       "      <td>Not Verified</td>\n",
       "      <td>Fully Paid</td>\n",
       "      <td>n</td>\n",
       "      <td>https://lendingclub.com/browse/loanDetail.acti...</td>\n",
       "      <td>debt_consolidation</td>\n",
       "      <td>100xx</td>\n",
       "      <td>CA</td>\n",
       "      <td>f</td>\n",
       "      <td>INDIVIDUAL</td>\n",
       "    </tr>\n",
       "    <tr>\n",
       "      <th>freq</th>\n",
       "      <td>11658</td>\n",
       "      <td>2832</td>\n",
       "      <td>18390</td>\n",
       "      <td>16380</td>\n",
       "      <td>32062</td>\n",
       "      <td>38475</td>\n",
       "      <td>1</td>\n",
       "      <td>18191</td>\n",
       "      <td>585</td>\n",
       "      <td>6884</td>\n",
       "      <td>38475</td>\n",
       "      <td>38475</td>\n",
       "    </tr>\n",
       "  </tbody>\n",
       "</table>\n",
       "</div>"
      ],
      "text/plain": [
       "        grade sub_grade home_ownership verification_status loan_status  \\\n",
       "count   38475     38475          38475               38475       38475   \n",
       "unique      7        35              5                   3           3   \n",
       "top         B        B3           RENT        Not Verified  Fully Paid   \n",
       "freq    11658      2832          18390               16380       32062   \n",
       "\n",
       "       pymnt_plan                                                url  \\\n",
       "count       38475                                              38475   \n",
       "unique          1                                              38475   \n",
       "top             n  https://lendingclub.com/browse/loanDetail.acti...   \n",
       "freq        38475                                                  1   \n",
       "\n",
       "                   purpose zip_code addr_state initial_list_status  \\\n",
       "count                38475    38475      38475               38475   \n",
       "unique                  14      820         50                   1   \n",
       "top     debt_consolidation    100xx         CA                   f   \n",
       "freq                 18191      585       6884               38475   \n",
       "\n",
       "       application_type  \n",
       "count             38475  \n",
       "unique                1  \n",
       "top          INDIVIDUAL  \n",
       "freq              38475  "
      ]
     },
     "execution_count": 32,
     "metadata": {},
     "output_type": "execute_result"
    }
   ],
   "source": [
    "categorical_data.describe()"
   ]
  },
  {
   "cell_type": "code",
   "execution_count": 33,
   "metadata": {},
   "outputs": [
    {
     "name": "stdout",
     "output_type": "stream",
     "text": [
      "Index(['grade', 'sub_grade', 'home_ownership', 'verification_status',\n",
      "       'loan_status', 'purpose', 'addr_state'],\n",
      "      dtype='object')\n"
     ]
    },
    {
     "name": "stderr",
     "output_type": "stream",
     "text": [
      "/home/dettrax/.local/lib/python3.6/site-packages/pandas/core/frame.py:3697: SettingWithCopyWarning: \n",
      "A value is trying to be set on a copy of a slice from a DataFrame\n",
      "\n",
      "See the caveats in the documentation: http://pandas.pydata.org/pandas-docs/stable/indexing.html#indexing-view-versus-copy\n",
      "  errors=errors)\n"
     ]
    }
   ],
   "source": [
    "categorical_data.drop(['pymnt_plan','url','zip_code','initial_list_status','application_type'],axis=1,inplace=True)\n",
    "print(categorical_data.columns)"
   ]
  },
  {
   "cell_type": "code",
   "execution_count": 34,
   "metadata": {},
   "outputs": [
    {
     "data": {
      "text/plain": [
       "Index(['loan_amnt', 'funded_amnt', 'funded_amnt_inv', 'term', 'int_rate',\n",
       "       'installment', 'emp_length', 'annual_inc', 'dti', 'delinq_2yrs',\n",
       "       'inq_last_6mths', 'open_acc', 'pub_rec', 'revol_bal', 'revol_util',\n",
       "       'total_acc', 'out_prncp', 'out_prncp_inv', 'total_pymnt',\n",
       "       'total_pymnt_inv', 'total_rec_prncp', 'total_rec_int',\n",
       "       'total_rec_late_fee', 'recoveries', 'collection_recovery_fee',\n",
       "       'last_pymnt_amnt', 'loan_status'],\n",
       "      dtype='object')"
      ]
     },
     "execution_count": 34,
     "metadata": {},
     "output_type": "execute_result"
    }
   ],
   "source": [
    "numeric_data.columns"
   ]
  },
  {
   "cell_type": "markdown",
   "metadata": {},
   "source": [
    "Add Date to categorical column"
   ]
  },
  {
   "cell_type": "code",
   "execution_count": 35,
   "metadata": {},
   "outputs": [
    {
     "name": "stdout",
     "output_type": "stream",
     "text": [
      "<class 'pandas.core.frame.DataFrame'>\n",
      "Int64Index: 38475 entries, 0 to 39665\n",
      "Data columns (total 40 columns):\n",
      "loan_amnt                  38475 non-null int64\n",
      "funded_amnt                38475 non-null int64\n",
      "funded_amnt_inv            38475 non-null float64\n",
      "term                       38475 non-null int64\n",
      "int_rate                   38475 non-null float64\n",
      "installment                38475 non-null float64\n",
      "grade                      38475 non-null object\n",
      "sub_grade                  38475 non-null object\n",
      "emp_length                 38475 non-null int64\n",
      "home_ownership             38475 non-null object\n",
      "annual_inc                 38475 non-null float64\n",
      "verification_status        38475 non-null object\n",
      "issue_d                    38475 non-null datetime64[ns]\n",
      "loan_status                38475 non-null object\n",
      "pymnt_plan                 38475 non-null object\n",
      "url                        38475 non-null object\n",
      "purpose                    38475 non-null object\n",
      "zip_code                   38475 non-null object\n",
      "addr_state                 38475 non-null object\n",
      "dti                        38475 non-null float64\n",
      "delinq_2yrs                38475 non-null int64\n",
      "inq_last_6mths             38475 non-null int64\n",
      "open_acc                   38475 non-null int64\n",
      "pub_rec                    38475 non-null int64\n",
      "revol_bal                  38475 non-null int64\n",
      "revol_util                 38475 non-null float64\n",
      "total_acc                  38475 non-null int64\n",
      "initial_list_status        38475 non-null object\n",
      "out_prncp                  38475 non-null float64\n",
      "out_prncp_inv              38475 non-null float64\n",
      "total_pymnt                38475 non-null float64\n",
      "total_pymnt_inv            38475 non-null float64\n",
      "total_rec_prncp            38475 non-null float64\n",
      "total_rec_int              38475 non-null float64\n",
      "total_rec_late_fee         38475 non-null float64\n",
      "recoveries                 38475 non-null float64\n",
      "collection_recovery_fee    38475 non-null float64\n",
      "last_pymnt_amnt            38475 non-null float64\n",
      "last_credit_pull_d         38475 non-null datetime64[ns]\n",
      "application_type           38475 non-null object\n",
      "dtypes: datetime64[ns](2), float64(16), int64(10), object(12)\n",
      "memory usage: 12.0+ MB\n"
     ]
    }
   ],
   "source": [
    "og_data.info(verbose=True)"
   ]
  },
  {
   "cell_type": "code",
   "execution_count": 36,
   "metadata": {},
   "outputs": [
    {
     "data": {
      "text/plain": [
       "Timestamp('2011-12-01 00:00:00')"
      ]
     },
     "execution_count": 36,
     "metadata": {},
     "output_type": "execute_result"
    }
   ],
   "source": [
    "og_data['issue_d'].iloc[0]"
   ]
  },
  {
   "cell_type": "code",
   "execution_count": 37,
   "metadata": {},
   "outputs": [
    {
     "name": "stderr",
     "output_type": "stream",
     "text": [
      "/home/dettrax/.local/lib/python3.6/site-packages/ipykernel_launcher.py:2: SettingWithCopyWarning: \n",
      "A value is trying to be set on a copy of a slice from a DataFrame.\n",
      "Try using .loc[row_indexer,col_indexer] = value instead\n",
      "\n",
      "See the caveats in the documentation: http://pandas.pydata.org/pandas-docs/stable/indexing.html#indexing-view-versus-copy\n",
      "  \n",
      "/home/dettrax/.local/lib/python3.6/site-packages/ipykernel_launcher.py:4: SettingWithCopyWarning: \n",
      "A value is trying to be set on a copy of a slice from a DataFrame.\n",
      "Try using .loc[row_indexer,col_indexer] = value instead\n",
      "\n",
      "See the caveats in the documentation: http://pandas.pydata.org/pandas-docs/stable/indexing.html#indexing-view-versus-copy\n",
      "  after removing the cwd from sys.path.\n"
     ]
    }
   ],
   "source": [
    "#Extract month\n",
    "categorical_data['issue_mnth'] = og_data['issue_d'].map(lambda x : x.month)\n",
    "#Extract year\n",
    "categorical_data['issue_year'] = og_data['issue_d'].map(lambda x : x.year)"
   ]
  },
  {
   "cell_type": "code",
   "execution_count": 38,
   "metadata": {},
   "outputs": [
    {
     "data": {
      "text/html": [
       "<div>\n",
       "<style scoped>\n",
       "    .dataframe tbody tr th:only-of-type {\n",
       "        vertical-align: middle;\n",
       "    }\n",
       "\n",
       "    .dataframe tbody tr th {\n",
       "        vertical-align: top;\n",
       "    }\n",
       "\n",
       "    .dataframe thead th {\n",
       "        text-align: right;\n",
       "    }\n",
       "</style>\n",
       "<table border=\"1\" class=\"dataframe\">\n",
       "  <thead>\n",
       "    <tr style=\"text-align: right;\">\n",
       "      <th></th>\n",
       "      <th>grade</th>\n",
       "      <th>sub_grade</th>\n",
       "      <th>home_ownership</th>\n",
       "      <th>verification_status</th>\n",
       "      <th>loan_status</th>\n",
       "      <th>purpose</th>\n",
       "      <th>addr_state</th>\n",
       "      <th>issue_mnth</th>\n",
       "      <th>issue_year</th>\n",
       "    </tr>\n",
       "  </thead>\n",
       "  <tbody>\n",
       "    <tr>\n",
       "      <th>0</th>\n",
       "      <td>B</td>\n",
       "      <td>B2</td>\n",
       "      <td>RENT</td>\n",
       "      <td>Verified</td>\n",
       "      <td>Fully Paid</td>\n",
       "      <td>credit_card</td>\n",
       "      <td>AZ</td>\n",
       "      <td>12</td>\n",
       "      <td>2011</td>\n",
       "    </tr>\n",
       "    <tr>\n",
       "      <th>1</th>\n",
       "      <td>C</td>\n",
       "      <td>C4</td>\n",
       "      <td>RENT</td>\n",
       "      <td>Source Verified</td>\n",
       "      <td>Charged Off</td>\n",
       "      <td>car</td>\n",
       "      <td>GA</td>\n",
       "      <td>12</td>\n",
       "      <td>2011</td>\n",
       "    </tr>\n",
       "    <tr>\n",
       "      <th>2</th>\n",
       "      <td>C</td>\n",
       "      <td>C5</td>\n",
       "      <td>RENT</td>\n",
       "      <td>Not Verified</td>\n",
       "      <td>Fully Paid</td>\n",
       "      <td>small_business</td>\n",
       "      <td>IL</td>\n",
       "      <td>12</td>\n",
       "      <td>2011</td>\n",
       "    </tr>\n",
       "    <tr>\n",
       "      <th>3</th>\n",
       "      <td>C</td>\n",
       "      <td>C1</td>\n",
       "      <td>RENT</td>\n",
       "      <td>Source Verified</td>\n",
       "      <td>Fully Paid</td>\n",
       "      <td>other</td>\n",
       "      <td>CA</td>\n",
       "      <td>12</td>\n",
       "      <td>2011</td>\n",
       "    </tr>\n",
       "    <tr>\n",
       "      <th>4</th>\n",
       "      <td>B</td>\n",
       "      <td>B5</td>\n",
       "      <td>RENT</td>\n",
       "      <td>Source Verified</td>\n",
       "      <td>Current</td>\n",
       "      <td>other</td>\n",
       "      <td>OR</td>\n",
       "      <td>12</td>\n",
       "      <td>2011</td>\n",
       "    </tr>\n",
       "  </tbody>\n",
       "</table>\n",
       "</div>"
      ],
      "text/plain": [
       "  grade sub_grade home_ownership verification_status  loan_status  \\\n",
       "0     B        B2           RENT            Verified   Fully Paid   \n",
       "1     C        C4           RENT     Source Verified  Charged Off   \n",
       "2     C        C5           RENT        Not Verified   Fully Paid   \n",
       "3     C        C1           RENT     Source Verified   Fully Paid   \n",
       "4     B        B5           RENT     Source Verified      Current   \n",
       "\n",
       "          purpose addr_state  issue_mnth  issue_year  \n",
       "0     credit_card         AZ          12        2011  \n",
       "1             car         GA          12        2011  \n",
       "2  small_business         IL          12        2011  \n",
       "3           other         CA          12        2011  \n",
       "4           other         OR          12        2011  "
      ]
     },
     "execution_count": 38,
     "metadata": {},
     "output_type": "execute_result"
    }
   ],
   "source": [
    "categorical_data.head()"
   ]
  },
  {
   "cell_type": "code",
   "execution_count": 39,
   "metadata": {},
   "outputs": [
    {
     "data": {
      "text/plain": [
       "<matplotlib.axes._subplots.AxesSubplot at 0x7f02c732d9e8>"
      ]
     },
     "execution_count": 39,
     "metadata": {},
     "output_type": "execute_result"
    },
    {
     "data": {
      "image/png": "[encoded data removed]",
      "text/plain": [
       "<Figure size 432x288 with 1 Axes>"
      ]
     },
     "metadata": {
      "needs_background": "light"
     },
     "output_type": "display_data"
    }
   ],
   "source": [
    "#Seperated issue year counts\n",
    "sns.barplot(x=\"issue_year\",y=\"count\",data=categorical_data.groupby('issue_year')['issue_year'].count().reset_index(name= 'count'))"
   ]
  },
  {
   "cell_type": "markdown",
   "metadata": {},
   "source": [
    "Let's start data analysis"
   ]
  },
  {
   "cell_type": "code",
   "execution_count": 40,
   "metadata": {},
   "outputs": [],
   "source": [
    "#We will drop the current loan_status value and analyse \"paid\" and \"default\" ones.\n",
    "analyse_cat = categorical_data[categorical_data['loan_status'] != 'Current']\n",
    "analyse_num = numeric_data[numeric_data['loan_status'] != 'Current']"
   ]
  },
  {
   "cell_type": "code",
   "execution_count": 41,
   "metadata": {},
   "outputs": [
    {
     "data": {
      "text/plain": [
       "Index(['grade', 'sub_grade', 'home_ownership', 'verification_status',\n",
       "       'loan_status', 'purpose', 'addr_state', 'issue_mnth', 'issue_year'],\n",
       "      dtype='object')"
      ]
     },
     "execution_count": 41,
     "metadata": {},
     "output_type": "execute_result"
    }
   ],
   "source": [
    "analyse_cat.columns"
   ]
  },
  {
   "cell_type": "markdown",
   "metadata": {},
   "source": [
    "Question = How grades and sub grade of customers related to likelihood their payment?"
   ]
  },
  {
   "cell_type": "code",
   "execution_count": 42,
   "metadata": {},
   "outputs": [
    {
     "data": {
      "text/plain": [
       "<matplotlib.axes._subplots.AxesSubplot at 0x7f02c6872588>"
      ]
     },
     "execution_count": 42,
     "metadata": {},
     "output_type": "execute_result"
    },
    {
     "data": {
      "image/png": "[encoded data removed]",
      "text/plain": [
       "<Figure size 432x288 with 1 Axes>"
      ]
     },
     "metadata": {
      "needs_background": "light"
     },
     "output_type": "display_data"
    }
   ],
   "source": [
    "grade = analyse_cat.groupby(['loan_status','grade'])['grade'].count()\n",
    "grade_percent = grade.groupby(level=0).apply(lambda x : round(100 * x/float(x.sum()), 2)).reset_index(name='total_percent')\n",
    "sns.barplot(y=\"total_percent\",x=\"grade\",hue=\"loan_status\",data=grade_percent)"
   ]
  },
  {
   "cell_type": "markdown",
   "metadata": {},
   "source": [
    "There are more defaulters in from grade C to G"
   ]
  },
  {
   "cell_type": "code",
   "execution_count": 43,
   "metadata": {},
   "outputs": [
    {
     "data": {
      "text/plain": [
       "<matplotlib.axes._subplots.AxesSubplot at 0x7f02c6b34198>"
      ]
     },
     "execution_count": 43,
     "metadata": {},
     "output_type": "execute_result"
    },
    {
     "data": {
      "image/png": "[encoded data removed]",
      "text/plain": [
       "<Figure size 1296x576 with 1 Axes>"
      ]
     },
     "metadata": {
      "needs_background": "light"
     },
     "output_type": "display_data"
    }
   ],
   "source": [
    "plt.figure(figsize=(18,8))\n",
    "sub_grade = analyse_cat.groupby(['loan_status','sub_grade'])['sub_grade'].count()\n",
    "sub_grade_percent = sub_grade.groupby(level=0).apply(lambda x : round(100 * x/float(x.sum()), 2)).reset_index(name='total_percent')\n",
    "sns.barplot(y=\"total_percent\",x=\"sub_grade\",hue=\"loan_status\",data=sub_grade_percent)"
   ]
  },
  {
   "cell_type": "markdown",
   "metadata": {},
   "source": [
    "There are more defaulters in between sub_grade C1 and G5\n",
    "\n",
    "Answer : Customers falling in between grade C and G are less likly to repay thier loan."
   ]
  },
  {
   "cell_type": "markdown",
   "metadata": {},
   "source": [
    "Question : How can people's home ownership effect their chances of loan repayment?"
   ]
  },
  {
   "cell_type": "code",
   "execution_count": 44,
   "metadata": {},
   "outputs": [
    {
     "data": {
      "text/plain": [
       "<matplotlib.axes._subplots.AxesSubplot at 0x7f02c76ed160>"
      ]
     },
     "execution_count": 44,
     "metadata": {},
     "output_type": "execute_result"
    },
    {
     "data": {
      "image/png": "[encoded data removed]",
      "text/plain": [
       "<Figure size 432x288 with 1 Axes>"
      ]
     },
     "metadata": {
      "needs_background": "light"
     },
     "output_type": "display_data"
    }
   ],
   "source": [
    "home_ownership = analyse_cat.groupby(['loan_status','home_ownership'])['home_ownership'].count()\n",
    "home_ownership_percent = home_ownership.groupby(level=0).apply(lambda x : round(100 * x/float(x.sum()), 2)).reset_index(name='total_percent')\n",
    "sns.barplot(y=\"total_percent\",x=\"home_ownership\",hue=\"loan_status\",data=home_ownership_percent)"
   ]
  },
  {
   "cell_type": "markdown",
   "metadata": {},
   "source": [
    "People staying on rent are more likely to default.\n",
    "Answer : As people living in their own aparment are somewhat financially stable than people on rent, they are less likly to default. "
   ]
  },
  {
   "cell_type": "code",
   "execution_count": 45,
   "metadata": {},
   "outputs": [
    {
     "data": {
      "text/plain": [
       "<matplotlib.axes._subplots.AxesSubplot at 0x7f02c739c7b8>"
      ]
     },
     "execution_count": 45,
     "metadata": {},
     "output_type": "execute_result"
    },
    {
     "data": {
      "image/png": "[encoded data removed]",
      "text/plain": [
       "<Figure size 432x288 with 1 Axes>"
      ]
     },
     "metadata": {
      "needs_background": "light"
     },
     "output_type": "display_data"
    }
   ],
   "source": [
    "verification_status = analyse_cat.groupby(['loan_status','verification_status'])['verification_status'].count()\n",
    "verification_status_percent = verification_status.groupby(level=0).apply(lambda x : round(100 * x/float(x.sum()), 2)).reset_index(name='total_percent')\n",
    "sns.barplot(y=\"total_percent\",x=\"verification_status\",hue=\"loan_status\",data=verification_status_percent)"
   ]
  },
  {
   "cell_type": "markdown",
   "metadata": {},
   "source": [
    "We cannot see any significant difference here."
   ]
  },
  {
   "cell_type": "code",
   "execution_count": 46,
   "metadata": {},
   "outputs": [
    {
     "data": {
      "text/plain": [
       "<matplotlib.axes._subplots.AxesSubplot at 0x7f02c723b8d0>"
      ]
     },
     "execution_count": 46,
     "metadata": {},
     "output_type": "execute_result"
    },
    {
     "data": {
      "image/png": "[encoded data removed]",
      "text/plain": [
       "<Figure size 1800x576 with 1 Axes>"
      ]
     },
     "metadata": {
      "needs_background": "light"
     },
     "output_type": "display_data"
    }
   ],
   "source": [
    "plt.figure(figsize=(25,8))\n",
    "purpose = analyse_cat.groupby(['loan_status','purpose'])['purpose'].count()\n",
    "purpose_percent = purpose.groupby(level=0).apply(lambda x : round(100 * x/float(x.sum()), 2)).reset_index(name='total_percent')\n",
    "sns.barplot(y=\"total_percent\",x=\"purpose\",hue=\"loan_status\",data=purpose_percent)"
   ]
  },
  {
   "cell_type": "markdown",
   "metadata": {},
   "source": [
    "According to the data, loan taken to pay other loans or for small businesses are less likly to repay, but we cannot conclude anything."
   ]
  },
  {
   "cell_type": "code",
   "execution_count": 47,
   "metadata": {},
   "outputs": [
    {
     "data": {
      "text/plain": [
       "<matplotlib.axes._subplots.AxesSubplot at 0x7f02c5caef98>"
      ]
     },
     "execution_count": 47,
     "metadata": {},
     "output_type": "execute_result"
    },
    {
     "data": {
      "image/png": "[encoded data removed]",
      "text/plain": [
       "<Figure size 1800x576 with 1 Axes>"
      ]
     },
     "metadata": {
      "needs_background": "light"
     },
     "output_type": "display_data"
    }
   ],
   "source": [
    "plt.figure(figsize=(25,8))\n",
    "addr_state = analyse_cat.groupby(['loan_status','addr_state'])['addr_state'].count()\n",
    "addr_state_percent = addr_state.groupby(level=0).apply(lambda x : round(100 * x/float(x.sum()), 2)).reset_index(name='total_percent')\n",
    "sns.barplot(y=\"total_percent\",x=\"addr_state\",hue=\"loan_status\",data=addr_state_percent)"
   ]
  },
  {
   "cell_type": "markdown",
   "metadata": {},
   "source": [
    "We can see no pattern here."
   ]
  },
  {
   "cell_type": "code",
   "execution_count": 48,
   "metadata": {},
   "outputs": [
    {
     "data": {
      "text/plain": [
       "<matplotlib.axes._subplots.AxesSubplot at 0x7f02c8a5d550>"
      ]
     },
     "execution_count": 48,
     "metadata": {},
     "output_type": "execute_result"
    },
    {
     "data": {
      "image/png": "[encoded data removed]",
      "text/plain": [
       "<Figure size 432x288 with 1 Axes>"
      ]
     },
     "metadata": {
      "needs_background": "light"
     },
     "output_type": "display_data"
    }
   ],
   "source": [
    "issue_year = analyse_cat.groupby(['loan_status','issue_year'])['issue_year'].count()\n",
    "issue_year_percent = issue_year.groupby(level=0).apply(lambda x : round(100 * x/float(x.sum()), 2)).reset_index(name='total_percent')\n",
    "sns.barplot(y=\"total_percent\",x=\"issue_year\",hue=\"loan_status\",data=issue_year_percent)"
   ]
  },
  {
   "cell_type": "markdown",
   "metadata": {},
   "source": [
    "We cannot see any pattern here"
   ]
  },
  {
   "cell_type": "markdown",
   "metadata": {},
   "source": [
    "Numerical column analysis"
   ]
  },
  {
   "cell_type": "code",
   "execution_count": 49,
   "metadata": {},
   "outputs": [
    {
     "data": {
      "text/plain": [
       "Index(['loan_amnt', 'funded_amnt', 'funded_amnt_inv', 'term', 'int_rate',\n",
       "       'installment', 'emp_length', 'annual_inc', 'dti', 'delinq_2yrs',\n",
       "       'inq_last_6mths', 'open_acc', 'pub_rec', 'revol_bal', 'revol_util',\n",
       "       'total_acc', 'out_prncp', 'out_prncp_inv', 'total_pymnt',\n",
       "       'total_pymnt_inv', 'total_rec_prncp', 'total_rec_int',\n",
       "       'total_rec_late_fee', 'recoveries', 'collection_recovery_fee',\n",
       "       'last_pymnt_amnt', 'loan_status'],\n",
       "      dtype='object')"
      ]
     },
     "execution_count": 49,
     "metadata": {},
     "output_type": "execute_result"
    }
   ],
   "source": [
    "analyse_num.columns"
   ]
  },
  {
   "cell_type": "code",
   "execution_count": 50,
   "metadata": {},
   "outputs": [
    {
     "data": {
      "text/plain": [
       "count    37000.000000\n",
       "mean     11051.433108\n",
       "std       7269.454331\n",
       "min        500.000000\n",
       "25%       5500.000000\n",
       "50%       9800.000000\n",
       "75%      15000.000000\n",
       "max      35000.000000\n",
       "Name: loan_amnt, dtype: float64"
      ]
     },
     "execution_count": 50,
     "metadata": {},
     "output_type": "execute_result"
    }
   ],
   "source": [
    "analyse_num['loan_amnt'].describe()"
   ]
  },
  {
   "cell_type": "code",
   "execution_count": 51,
   "metadata": {},
   "outputs": [
    {
     "name": "stderr",
     "output_type": "stream",
     "text": [
      "/home/dettrax/.local/lib/python3.6/site-packages/ipykernel_launcher.py:3: SettingWithCopyWarning: \n",
      "A value is trying to be set on a copy of a slice from a DataFrame.\n",
      "Try using .loc[row_indexer,col_indexer] = value instead\n",
      "\n",
      "See the caveats in the documentation: http://pandas.pydata.org/pandas-docs/stable/indexing.html#indexing-view-versus-copy\n",
      "  This is separate from the ipykernel package so we can avoid doing imports until\n"
     ]
    }
   ],
   "source": [
    "bins = [0, 5000, 10000, 15000, 20000, 25000, 30000, 35000]\n",
    "labels = [ '<5000','5000-10000','10000-15000','15000-20000','20000-25000','25000-30000','30000-35000']\n",
    "analyse_num['loan_amnt_cat'] = pd.cut(analyse_num['loan_amnt'], bins=bins, labels=labels)"
   ]
  },
  {
   "cell_type": "code",
   "execution_count": 52,
   "metadata": {},
   "outputs": [
    {
     "data": {
      "text/plain": [
       "<matplotlib.axes._subplots.AxesSubplot at 0x7f02c5eaa898>"
      ]
     },
     "execution_count": 52,
     "metadata": {},
     "output_type": "execute_result"
    },
    {
     "data": {
      "image/png": "[encoded data removed]",
      "text/plain": [
       "<Figure size 864x360 with 1 Axes>"
      ]
     },
     "metadata": {
      "needs_background": "light"
     },
     "output_type": "display_data"
    }
   ],
   "source": [
    "plt.figure(figsize=(12,5))\n",
    "loan_amnt_cat = analyse_num.groupby(['loan_status','loan_amnt_cat'])['loan_amnt_cat'].count()\n",
    "loan_amnt_cat_percent = loan_amnt_cat.groupby(level=0).apply(lambda x : round(100 * x/float(x.sum()), 2)).reset_index(name='total_percent')\n",
    "sns.barplot(y=\"total_percent\",x=\"loan_amnt_cat\",hue=\"loan_status\",data=loan_amnt_cat_percent)"
   ]
  },
  {
   "cell_type": "markdown",
   "metadata": {},
   "source": [
    "Questions : How does loan amount effect likelihood of defaulter?\n",
    "Answer : From the data loan amount above than 15000 are more likly to default, but in real case we can't predict defaulter from only loan amount."
   ]
  },
  {
   "cell_type": "code",
   "execution_count": 53,
   "metadata": {},
   "outputs": [
    {
     "name": "stderr",
     "output_type": "stream",
     "text": [
      "/home/dettrax/.local/lib/python3.6/site-packages/ipykernel_launcher.py:3: SettingWithCopyWarning: \n",
      "A value is trying to be set on a copy of a slice from a DataFrame.\n",
      "Try using .loc[row_indexer,col_indexer] = value instead\n",
      "\n",
      "See the caveats in the documentation: http://pandas.pydata.org/pandas-docs/stable/indexing.html#indexing-view-versus-copy\n",
      "  This is separate from the ipykernel package so we can avoid doing imports until\n",
      "/home/dettrax/.local/lib/python3.6/site-packages/ipykernel_launcher.py:4: SettingWithCopyWarning: \n",
      "A value is trying to be set on a copy of a slice from a DataFrame.\n",
      "Try using .loc[row_indexer,col_indexer] = value instead\n",
      "\n",
      "See the caveats in the documentation: http://pandas.pydata.org/pandas-docs/stable/indexing.html#indexing-view-versus-copy\n",
      "  after removing the cwd from sys.path.\n"
     ]
    }
   ],
   "source": [
    "bins = [0, 5000, 10000, 15000, 20000, 25000, 30000, 35000]\n",
    "labels = [ '<5000','5000-10000','10000-15000','15000-20000','20000-25000','25000-30000','30000-35000']\n",
    "analyse_num['loan_funded_cat'] = pd.cut(analyse_num['funded_amnt'], bins=bins, labels=labels)\n",
    "analyse_num['loan_funded_inv_cat'] = pd.cut(analyse_num['funded_amnt_inv'], bins=bins, labels=labels)"
   ]
  },
  {
   "cell_type": "code",
   "execution_count": 54,
   "metadata": {},
   "outputs": [
    {
     "data": {
      "text/plain": [
       "<matplotlib.axes._subplots.AxesSubplot at 0x7f02c637ac50>"
      ]
     },
     "execution_count": 54,
     "metadata": {},
     "output_type": "execute_result"
    },
    {
     "data": {
      "image/png": "[encoded data removed]",
      "text/plain": [
       "<Figure size 864x360 with 1 Axes>"
      ]
     },
     "metadata": {
      "needs_background": "light"
     },
     "output_type": "display_data"
    }
   ],
   "source": [
    "plt.figure(figsize=(12,5))\n",
    "loan_funded_cat = analyse_num.groupby(['loan_status','loan_funded_cat'])['loan_funded_cat'].count()\n",
    "funded_amnt_inv = analyse_num.groupby(['loan_status','loan_funded_inv_cat'])['loan_funded_inv_cat'].count()\n",
    "\n",
    "loan_funded_cat_percent = loan_funded_cat.groupby(level=0).apply(lambda x : round(100 * x/float(x.sum()), 2)).reset_index(name='total_percent')\n",
    "loan_funded_inv_cat_percent = funded_amnt_inv.groupby(level=0).apply(lambda x : round(100 * x/float(x.sum()), 2)).reset_index(name='total_percent')\n",
    "sns.barplot(y=\"total_percent\",x=\"loan_funded_cat\",hue=\"loan_status\",data=loan_funded_cat_percent)"
   ]
  },
  {
   "cell_type": "code",
   "execution_count": 55,
   "metadata": {},
   "outputs": [
    {
     "data": {
      "text/plain": [
       "<matplotlib.axes._subplots.AxesSubplot at 0x7f02c645aac8>"
      ]
     },
     "execution_count": 55,
     "metadata": {},
     "output_type": "execute_result"
    },
    {
     "data": {
      "image/png": "[encoded data removed]",
      "text/plain": [
       "<Figure size 864x576 with 1 Axes>"
      ]
     },
     "metadata": {
      "needs_background": "light"
     },
     "output_type": "display_data"
    }
   ],
   "source": [
    "plt.figure(figsize=(12,8))\n",
    "sns.barplot(y=\"total_percent\",x=\"loan_funded_inv_cat\",hue=\"loan_status\",data=loan_funded_inv_cat_percent)"
   ]
  },
  {
   "cell_type": "markdown",
   "metadata": {},
   "source": [
    "funded_amnt and funded_amnt_inv are highly correlated with loan_amnt therefore we can drop this columns"
   ]
  },
  {
   "cell_type": "code",
   "execution_count": 56,
   "metadata": {},
   "outputs": [
    {
     "data": {
      "text/plain": [
       "count    37000.000000\n",
       "mean        11.944693\n",
       "std          3.675155\n",
       "min          5.420000\n",
       "25%          8.940000\n",
       "50%         11.830000\n",
       "75%         14.350000\n",
       "max         24.400000\n",
       "Name: int_rate, dtype: float64"
      ]
     },
     "execution_count": 56,
     "metadata": {},
     "output_type": "execute_result"
    }
   ],
   "source": [
    "analyse_num['int_rate'].describe()"
   ]
  },
  {
   "cell_type": "code",
   "execution_count": 57,
   "metadata": {},
   "outputs": [
    {
     "name": "stderr",
     "output_type": "stream",
     "text": [
      "/home/dettrax/.local/lib/python3.6/site-packages/ipykernel_launcher.py:3: SettingWithCopyWarning: \n",
      "A value is trying to be set on a copy of a slice from a DataFrame.\n",
      "Try using .loc[row_indexer,col_indexer] = value instead\n",
      "\n",
      "See the caveats in the documentation: http://pandas.pydata.org/pandas-docs/stable/indexing.html#indexing-view-versus-copy\n",
      "  This is separate from the ipykernel package so we can avoid doing imports until\n"
     ]
    },
    {
     "data": {
      "text/plain": [
       "<matplotlib.axes._subplots.AxesSubplot at 0x7f02c65bd470>"
      ]
     },
     "execution_count": 57,
     "metadata": {},
     "output_type": "execute_result"
    },
    {
     "data": {
      "image/png": "[encoded data removed]",
      "text/plain": [
       "<Figure size 864x360 with 1 Axes>"
      ]
     },
     "metadata": {
      "needs_background": "light"
     },
     "output_type": "display_data"
    }
   ],
   "source": [
    "bins = [i for i in range(26)]\n",
    "labels = [i for i in range(25)]\n",
    "analyse_num['int_rate_cat'] = pd.cut(analyse_num['int_rate'], bins=bins, labels=labels)\n",
    "plt.figure(figsize=(12,5))\n",
    "int_rate_cat = analyse_num.groupby(['loan_status','int_rate_cat'])['int_rate_cat'].count()\n",
    "int_rate_cat_percent = int_rate_cat.groupby(level=0).apply(lambda x : round(100 * x/float(x.sum()), 2)).reset_index(name='total_percent')\n",
    "sns.barplot(y=\"total_percent\",x=\"int_rate_cat\",hue=\"loan_status\",data=int_rate_cat_percent)"
   ]
  },
  {
   "cell_type": "markdown",
   "metadata": {},
   "source": [
    "Loan on interest rate greater than 11% are more likly to be default."
   ]
  },
  {
   "cell_type": "code",
   "execution_count": 58,
   "metadata": {},
   "outputs": [
    {
     "data": {
      "text/plain": [
       "count    37000.000000\n",
       "mean       322.528858\n",
       "std        206.127582\n",
       "min         15.690000\n",
       "25%        167.340000\n",
       "50%        279.160000\n",
       "75%        425.227500\n",
       "max       1305.190000\n",
       "Name: installment, dtype: float64"
      ]
     },
     "execution_count": 58,
     "metadata": {},
     "output_type": "execute_result"
    }
   ],
   "source": [
    "analyse_num['installment'].describe()"
   ]
  },
  {
   "cell_type": "code",
   "execution_count": 59,
   "metadata": {},
   "outputs": [
    {
     "name": "stderr",
     "output_type": "stream",
     "text": [
      "/home/dettrax/.local/lib/python3.6/site-packages/ipykernel_launcher.py:4: SettingWithCopyWarning: \n",
      "A value is trying to be set on a copy of a slice from a DataFrame.\n",
      "Try using .loc[row_indexer,col_indexer] = value instead\n",
      "\n",
      "See the caveats in the documentation: http://pandas.pydata.org/pandas-docs/stable/indexing.html#indexing-view-versus-copy\n",
      "  after removing the cwd from sys.path.\n"
     ]
    },
    {
     "data": {
      "text/plain": [
       "<matplotlib.axes._subplots.AxesSubplot at 0x7f02c65a3d68>"
      ]
     },
     "execution_count": 59,
     "metadata": {},
     "output_type": "execute_result"
    },
    {
     "data": {
      "image/png": "[encoded data removed]",
      "text/plain": [
       "<Figure size 720x360 with 1 Axes>"
      ]
     },
     "metadata": {
      "needs_background": "light"
     },
     "output_type": "display_data"
    }
   ],
   "source": [
    "plt.figure(figsize=(10,5))\n",
    "bins = [0, 200, 400, 600, 800, 1000, 1200, 1400]\n",
    "labels = [ '<200','200-400','400-600','600-800','800-1000','1000-1200','>1200']\n",
    "analyse_num['installment_cat'] = pd.cut(analyse_num['installment'], bins=bins, labels=labels)\n",
    "installment_cat = analyse_num.groupby(['loan_status','installment_cat'])['installment_cat'].count()\n",
    "installment_cat_percent = installment_cat.groupby(level=0).apply(lambda x : round(100 * x/float(x.sum()), 2)).reset_index(name='total_percent')\n",
    "sns.barplot(y=\"total_percent\",x=\"installment_cat\",hue=\"loan_status\",data=installment_cat_percent)"
   ]
  },
  {
   "cell_type": "markdown",
   "metadata": {},
   "source": [
    "There is no pattern here, so I can't conclude anything."
   ]
  },
  {
   "cell_type": "code",
   "execution_count": 60,
   "metadata": {},
   "outputs": [
    {
     "data": {
      "text/plain": [
       "<matplotlib.axes._subplots.AxesSubplot at 0x7f02c67db978>"
      ]
     },
     "execution_count": 60,
     "metadata": {},
     "output_type": "execute_result"
    },
    {
     "data": {
      "image/png": "[encoded data removed]",
      "text/plain": [
       "<Figure size 432x288 with 1 Axes>"
      ]
     },
     "metadata": {
      "needs_background": "light"
     },
     "output_type": "display_data"
    }
   ],
   "source": [
    "emp_length = analyse_num.groupby(['loan_status','emp_length'])['emp_length'].count()\n",
    "emp_length_cat_percent = emp_length.groupby(level=0).apply(lambda x : round(100 * x/float(x.sum()), 2)).reset_index(name='total_percent')\n",
    "sns.barplot(y=\"total_percent\",x=\"emp_length\",hue=\"loan_status\",data=emp_length_cat_percent)"
   ]
  },
  {
   "cell_type": "markdown",
   "metadata": {},
   "source": [
    "As we don't have data above 10 year, we can just say employee working for more than 10 years are more likly to default"
   ]
  },
  {
   "cell_type": "code",
   "execution_count": 61,
   "metadata": {},
   "outputs": [
    {
     "name": "stderr",
     "output_type": "stream",
     "text": [
      "/home/dettrax/.local/lib/python3.6/site-packages/ipykernel_launcher.py:4: SettingWithCopyWarning: \n",
      "A value is trying to be set on a copy of a slice from a DataFrame.\n",
      "Try using .loc[row_indexer,col_indexer] = value instead\n",
      "\n",
      "See the caveats in the documentation: http://pandas.pydata.org/pandas-docs/stable/indexing.html#indexing-view-versus-copy\n",
      "  after removing the cwd from sys.path.\n"
     ]
    },
    {
     "data": {
      "text/plain": [
       "<matplotlib.axes._subplots.AxesSubplot at 0x7f02c6aedc50>"
      ]
     },
     "execution_count": 61,
     "metadata": {},
     "output_type": "execute_result"
    },
    {
     "data": {
      "image/png": "[encoded data removed]",
      "text/plain": [
       "<Figure size 1224x360 with 1 Axes>"
      ]
     },
     "metadata": {
      "needs_background": "light"
     },
     "output_type": "display_data"
    }
   ],
   "source": [
    "plt.figure(figsize=(17,5))\n",
    "bins = [0, 10000, 20000, 30000, 40000, 50000, 60000, 70000, 80000, 90000, 100000, 250000]\n",
    "labels = [ '<10000','10000-20000','20000-30000','30000-40000','40000-50000','50000-60000','60000-70000','70000-80000','80000-90000','90000-100000','>100000']\n",
    "analyse_num['annual_inc_cat'] = pd.cut(analyse_num['annual_inc'], bins=bins, labels=labels)\n",
    "annual_inc_cat = analyse_num.groupby(['loan_status','annual_inc_cat'])['annual_inc_cat'].count()\n",
    "annual_inc_cat_percent = annual_inc_cat.groupby(level=0).apply(lambda x : round(100 * x/float(x.sum()), 2)).reset_index(name='total_percent')\n",
    "sns.barplot(y=\"total_percent\",x=\"annual_inc_cat\",hue=\"loan_status\",data=annual_inc_cat_percent)"
   ]
  },
  {
   "cell_type": "markdown",
   "metadata": {},
   "source": [
    "Question : How does applicant's income determine the likelihood of him/her defaulting the loan?\n",
    "\n",
    "Answer : Data shows annual income less than 50000 are more likely to default."
   ]
  },
  {
   "cell_type": "code",
   "execution_count": 62,
   "metadata": {},
   "outputs": [
    {
     "name": "stderr",
     "output_type": "stream",
     "text": [
      "/home/dettrax/.local/lib/python3.6/site-packages/ipykernel_launcher.py:3: SettingWithCopyWarning: \n",
      "A value is trying to be set on a copy of a slice from a DataFrame.\n",
      "Try using .loc[row_indexer,col_indexer] = value instead\n",
      "\n",
      "See the caveats in the documentation: http://pandas.pydata.org/pandas-docs/stable/indexing.html#indexing-view-versus-copy\n",
      "  This is separate from the ipykernel package so we can avoid doing imports until\n"
     ]
    },
    {
     "data": {
      "text/plain": [
       "<matplotlib.axes._subplots.AxesSubplot at 0x7f02ca465ac8>"
      ]
     },
     "execution_count": 62,
     "metadata": {},
     "output_type": "execute_result"
    },
    {
     "data": {
      "image/png": "[encoded data removed]",
      "text/plain": [
       "<Figure size 720x360 with 1 Axes>"
      ]
     },
     "metadata": {
      "needs_background": "light"
     },
     "output_type": "display_data"
    }
   ],
   "source": [
    "bins = [0, 5, 10, 15, 20, 25, 30]\n",
    "labels = [ '<5','5-10','10-15','15-20','20-25','>25']\n",
    "analyse_num['dti_cat'] = pd.cut(analyse_num['dti'], bins=bins, labels=labels)\n",
    "\n",
    "#Get the count of Grouped by loan_status and plot\n",
    "dti_cat = analyse_num.groupby(['loan_status','dti_cat'])['dti_cat'].count()\n",
    "dti_cat_per = dti_cat.groupby(level=0).apply(lambda x : round(100 * x/float(x.sum()), 2)).reset_index(name='total_per')\n",
    "plt.figure(figsize=(10,5))\n",
    "sns.barplot(x='dti_cat', y='total_per', hue='loan_status',data=dti_cat_per)"
   ]
  },
  {
   "cell_type": "markdown",
   "metadata": {},
   "source": [
    "Dti more than 15 have defaults."
   ]
  },
  {
   "cell_type": "code",
   "execution_count": 63,
   "metadata": {},
   "outputs": [
    {
     "data": {
      "text/plain": [
       "<matplotlib.axes._subplots.AxesSubplot at 0x7f02ca447470>"
      ]
     },
     "execution_count": 63,
     "metadata": {},
     "output_type": "execute_result"
    },
    {
     "data": {
      "image/png": "[encoded data removed]",
      "text/plain": [
       "<Figure size 576x288 with 1 Axes>"
      ]
     },
     "metadata": {
      "needs_background": "light"
     },
     "output_type": "display_data"
    }
   ],
   "source": [
    "delinq_2yrs = analyse_num.groupby(['loan_status','delinq_2yrs'])['delinq_2yrs'].count()\n",
    "delinq_2yrs_per = delinq_2yrs.groupby(level=0).apply(lambda x : round(100 * x/float(x.sum()), 2)).reset_index(name='total_per')\n",
    "plt.figure(figsize=(8,4))\n",
    "sns.barplot(x='delinq_2yrs', y='total_per', hue='loan_status',data=delinq_2yrs_per)"
   ]
  },
  {
   "cell_type": "markdown",
   "metadata": {},
   "source": [
    "delinq_2yrs greater than 0 has more defaulters"
   ]
  },
  {
   "cell_type": "code",
   "execution_count": 64,
   "metadata": {},
   "outputs": [
    {
     "data": {
      "text/plain": [
       "<matplotlib.axes._subplots.AxesSubplot at 0x7f02ca3d4c88>"
      ]
     },
     "execution_count": 64,
     "metadata": {},
     "output_type": "execute_result"
    },
    {
     "data": {
      "image/png": "[encoded data removed]",
      "text/plain": [
       "<Figure size 576x288 with 1 Axes>"
      ]
     },
     "metadata": {
      "needs_background": "light"
     },
     "output_type": "display_data"
    }
   ],
   "source": [
    "inq_last_6mths = analyse_num.groupby(['loan_status','inq_last_6mths'])['inq_last_6mths'].count()\n",
    "inq_last_6mths_per = inq_last_6mths.groupby(level=0).apply(lambda x : round(100 * x/float(x.sum()), 2)).reset_index(name='total_per')\n",
    "plt.figure(figsize=(8,4))\n",
    "sns.barplot(x='inq_last_6mths', y='total_per', hue='loan_status',data=inq_last_6mths_per)"
   ]
  },
  {
   "cell_type": "markdown",
   "metadata": {},
   "source": [
    "inq_last_6mths greater than 0 have more defaulters."
   ]
  },
  {
   "cell_type": "code",
   "execution_count": 65,
   "metadata": {},
   "outputs": [
    {
     "name": "stderr",
     "output_type": "stream",
     "text": [
      "/home/dettrax/.local/lib/python3.6/site-packages/ipykernel_launcher.py:3: SettingWithCopyWarning: \n",
      "A value is trying to be set on a copy of a slice from a DataFrame.\n",
      "Try using .loc[row_indexer,col_indexer] = value instead\n",
      "\n",
      "See the caveats in the documentation: http://pandas.pydata.org/pandas-docs/stable/indexing.html#indexing-view-versus-copy\n",
      "  This is separate from the ipykernel package so we can avoid doing imports until\n"
     ]
    },
    {
     "data": {
      "text/plain": [
       "<matplotlib.axes._subplots.AxesSubplot at 0x7f02ca2f75c0>"
      ]
     },
     "execution_count": 65,
     "metadata": {},
     "output_type": "execute_result"
    },
    {
     "data": {
      "image/png": "[encoded data removed]",
      "text/plain": [
       "<Figure size 1080x432 with 1 Axes>"
      ]
     },
     "metadata": {
      "needs_background": "light"
     },
     "output_type": "display_data"
    }
   ],
   "source": [
    "bins = [0, 5, 10, 15, 20, 25, 30, 35, 40, 45]\n",
    "labels = [ '<5','5-10','10-15','15-20','20-25','25-30','30-35','35-40','>40']\n",
    "analyse_num['open_acc_cat'] = pd.cut(analyse_num['open_acc'], bins=bins, labels=labels)\n",
    "open_acc_cat = analyse_num.groupby(['loan_status','open_acc_cat'])['open_acc_cat'].count()\n",
    "open_acc_cat_per = open_acc_cat.groupby(level=0).apply(lambda x : round(100 * x/float(x.sum()), 2)).reset_index(name='total_per')\n",
    "plt.figure(figsize=(15,6))\n",
    "sns.barplot(x='open_acc_cat', y='total_per', hue='loan_status',data=open_acc_cat_per)"
   ]
  },
  {
   "cell_type": "markdown",
   "metadata": {},
   "source": [
    "Open_acc more than 25 have more defaulters , and less than 5 has more defaulters."
   ]
  },
  {
   "cell_type": "code",
   "execution_count": 66,
   "metadata": {},
   "outputs": [
    {
     "data": {
      "text/plain": [
       "<matplotlib.axes._subplots.AxesSubplot at 0x7f02ca2770f0>"
      ]
     },
     "execution_count": 66,
     "metadata": {},
     "output_type": "execute_result"
    },
    {
     "data": {
      "image/png": "[encoded data removed]",
      "text/plain": [
       "<Figure size 720x360 with 1 Axes>"
      ]
     },
     "metadata": {
      "needs_background": "light"
     },
     "output_type": "display_data"
    }
   ],
   "source": [
    "pub_rec = analyse_num.groupby(['loan_status','pub_rec'])['pub_rec'].count()\n",
    "pub_rec_per = pub_rec.groupby(level=0).apply(lambda x : round(100 * x/float(x.sum()), 2)).reset_index(name='total_per')\n",
    "plt.figure(figsize=(10,5))\n",
    "sns.barplot(x='pub_rec', y='total_per', hue='loan_status',data=pub_rec_per)"
   ]
  },
  {
   "cell_type": "markdown",
   "metadata": {},
   "source": [
    "pub_rec more than 0 has defaulters."
   ]
  },
  {
   "cell_type": "code",
   "execution_count": 67,
   "metadata": {},
   "outputs": [
    {
     "name": "stderr",
     "output_type": "stream",
     "text": [
      "/home/dettrax/.local/lib/python3.6/site-packages/ipykernel_launcher.py:3: SettingWithCopyWarning: \n",
      "A value is trying to be set on a copy of a slice from a DataFrame.\n",
      "Try using .loc[row_indexer,col_indexer] = value instead\n",
      "\n",
      "See the caveats in the documentation: http://pandas.pydata.org/pandas-docs/stable/indexing.html#indexing-view-versus-copy\n",
      "  This is separate from the ipykernel package so we can avoid doing imports until\n"
     ]
    },
    {
     "data": {
      "text/plain": [
       "<matplotlib.axes._subplots.AxesSubplot at 0x7f02ca1e23c8>"
      ]
     },
     "execution_count": 67,
     "metadata": {},
     "output_type": "execute_result"
    },
    {
     "data": {
      "image/png": "[encoded data removed]",
      "text/plain": [
       "<Figure size 720x360 with 1 Axes>"
      ]
     },
     "metadata": {
      "needs_background": "light"
     },
     "output_type": "display_data"
    }
   ],
   "source": [
    "bins = [0, 10, 20, 30, 40, 50, 60, 70, 80, 90, 100]\n",
    "labels = [ '<10','10-20','20-30','30-40','40-50','50-60','60-70','70-80','80-90', '>90']\n",
    "analyse_num['revol_util_cat'] = pd.cut(analyse_num['revol_util'], bins=bins, labels=labels)\n",
    "revol_util_cat = analyse_num.groupby(['loan_status','revol_util_cat'])['revol_util_cat'].count()\n",
    "revol_util_cat_per = revol_util_cat.groupby(level=0).apply(lambda x : round(100 * x/float(x.sum()), 2)).reset_index(name='total_per')\n",
    "plt.figure(figsize=(10,5))\n",
    "sns.barplot(x='revol_util_cat', y='total_per', hue='loan_status',data=revol_util_cat_per)\n"
   ]
  },
  {
   "cell_type": "markdown",
   "metadata": {},
   "source": [
    "revol_util more than 50 have defaulters."
   ]
  },
  {
   "cell_type": "code",
   "execution_count": 68,
   "metadata": {},
   "outputs": [
    {
     "name": "stderr",
     "output_type": "stream",
     "text": [
      "/home/dettrax/.local/lib/python3.6/site-packages/ipykernel_launcher.py:3: SettingWithCopyWarning: \n",
      "A value is trying to be set on a copy of a slice from a DataFrame.\n",
      "Try using .loc[row_indexer,col_indexer] = value instead\n",
      "\n",
      "See the caveats in the documentation: http://pandas.pydata.org/pandas-docs/stable/indexing.html#indexing-view-versus-copy\n",
      "  This is separate from the ipykernel package so we can avoid doing imports until\n"
     ]
    },
    {
     "data": {
      "text/plain": [
       "<matplotlib.axes._subplots.AxesSubplot at 0x7f02c98fe320>"
      ]
     },
     "execution_count": 68,
     "metadata": {},
     "output_type": "execute_result"
    },
    {
     "data": {
      "image/png": "[encoded data removed]",
      "text/plain": [
       "<Figure size 720x360 with 1 Axes>"
      ]
     },
     "metadata": {
      "needs_background": "light"
     },
     "output_type": "display_data"
    }
   ],
   "source": [
    "bins = [0, 10, 20, 30, 40, 50, 60, 70, 80, 90, 100]\n",
    "labels = [ '<10','10-20','20-30','30-40','40-50','50-60','60-70','70-80','80-90', '>90']\n",
    "analyse_num['total_acc_cat'] = pd.cut(analyse_num['total_acc'], bins=bins, labels=labels)\n",
    "total_acc_cat = analyse_num.groupby(['loan_status','total_acc_cat'])['total_acc_cat'].count()\n",
    "total_acc_cat_per = total_acc_cat.groupby(level=0).apply(lambda x : round(100 * x/float(x.sum()), 2)).reset_index(name='total_per')\n",
    "plt.figure(figsize=(10,5))\n",
    "sns.barplot(x='total_acc_cat', y='total_per', hue='loan_status',data=total_acc_cat_per)"
   ]
  },
  {
   "cell_type": "markdown",
   "metadata": {},
   "source": [
    "There is no pattern here.\n",
    "The out_prncp and out_prncp_inv contains single values so they won't contribute towards insights."
   ]
  },
  {
   "cell_type": "code",
   "execution_count": 69,
   "metadata": {},
   "outputs": [
    {
     "data": {
      "text/plain": [
       "Index(['loan_amnt', 'funded_amnt', 'funded_amnt_inv', 'term', 'int_rate',\n",
       "       'installment', 'emp_length', 'annual_inc', 'dti', 'delinq_2yrs',\n",
       "       'inq_last_6mths', 'open_acc', 'pub_rec', 'revol_bal', 'revol_util',\n",
       "       'total_acc', 'out_prncp', 'out_prncp_inv', 'total_pymnt',\n",
       "       'total_pymnt_inv', 'total_rec_prncp', 'total_rec_int',\n",
       "       'total_rec_late_fee', 'recoveries', 'collection_recovery_fee',\n",
       "       'last_pymnt_amnt', 'loan_status'],\n",
       "      dtype='object')"
      ]
     },
     "execution_count": 69,
     "metadata": {},
     "output_type": "execute_result"
    }
   ],
   "source": [
    "numeric_data.columns"
   ]
  },
  {
   "cell_type": "markdown",
   "metadata": {},
   "source": [
    "If we are to predict future defaulters than they won't have total_pymnt, total_pymnt_inv, total_rec_prncp, total_rec_int,total_rec_late_fee, recoviers,collection_recovery_fee, last_pymnt_amnt in thier data, so drop these columns."
   ]
  },
  {
   "cell_type": "code",
   "execution_count": 70,
   "metadata": {},
   "outputs": [
    {
     "name": "stderr",
     "output_type": "stream",
     "text": [
      "/home/dettrax/.local/lib/python3.6/site-packages/pandas/core/generic.py:4405: SettingWithCopyWarning: \n",
      "A value is trying to be set on a copy of a slice from a DataFrame.\n",
      "Try using .loc[row_indexer,col_indexer] = value instead\n",
      "\n",
      "See the caveats in the documentation: http://pandas.pydata.org/pandas-docs/stable/indexing.html#indexing-view-versus-copy\n",
      "  self[name] = value\n"
     ]
    },
    {
     "data": {
      "text/plain": [
       "<matplotlib.axes._subplots.AxesSubplot at 0x7f02c97adc50>"
      ]
     },
     "execution_count": 70,
     "metadata": {},
     "output_type": "execute_result"
    },
    {
     "data": {
      "image/png": "[encoded data removed]",
      "text/plain": [
       "<Figure size 720x576 with 2 Axes>"
      ]
     },
     "metadata": {
      "needs_background": "light"
     },
     "output_type": "display_data"
    }
   ],
   "source": [
    "#So totally we have this columns based on EDA:\n",
    "\n",
    "#Select the identified variables\n",
    "og_data_final = og_data[['sub_grade','annual_inc','inq_last_6mths','pub_rec','delinq_2yrs','dti','revol_util','home_ownership','open_acc','loan_amnt','int_rate','grade','loan_status']]\n",
    "\n",
    "#label encoding the category columns to find correlation \n",
    "labels, levels = pd.factorize(og_data_final.home_ownership)\n",
    "og_data_final.home_ownership = labels\n",
    "\n",
    "labels, levels = pd.factorize(og_data_final.grade)\n",
    "og_data_final.grade = labels\n",
    "\n",
    "labels, levels = pd.factorize(og_data_final.sub_grade)\n",
    "og_data_final.sub_grade = labels\n",
    "\n",
    "labels, levels = pd.factorize(og_data_final.loan_status)\n",
    "og_data_final.loan_status = labels\n",
    "\n",
    "plt.figure(figsize=(10,8))\n",
    "sns.heatmap(og_data_final.corr(), annot=True, fmt=\".2f\")"
   ]
  },
  {
   "cell_type": "markdown",
   "metadata": {},
   "source": [
    "Conclusion :\n",
    "    \n",
    "1> We can also drop sub_grade as it has correlation above threshold(which I took as 0.5) with grade, means grade will get the work for the model and we can drop sub_grade without effecting accuracy of model.\n",
    "\n",
    "2> Annual income is negetively correlated with loan_status, so increase in annual income will result in less likelihood to be a defaulter.\n",
    "\n",
    "3> grade , int_rate , loan_amnt features will contribute more about prediction on defaulter / not - defaulter"
   ]
  },
  {
   "cell_type": "markdown",
   "metadata": {},
   "source": [
    "Lets build a model for predicting defaulters."
   ]
  },
  {
   "cell_type": "code",
   "execution_count": 71,
   "metadata": {},
   "outputs": [
    {
     "data": {
      "text/html": [
       "<div>\n",
       "<style scoped>\n",
       "    .dataframe tbody tr th:only-of-type {\n",
       "        vertical-align: middle;\n",
       "    }\n",
       "\n",
       "    .dataframe tbody tr th {\n",
       "        vertical-align: top;\n",
       "    }\n",
       "\n",
       "    .dataframe thead th {\n",
       "        text-align: right;\n",
       "    }\n",
       "</style>\n",
       "<table border=\"1\" class=\"dataframe\">\n",
       "  <thead>\n",
       "    <tr style=\"text-align: right;\">\n",
       "      <th></th>\n",
       "      <th>sub_grade</th>\n",
       "      <th>annual_inc</th>\n",
       "      <th>inq_last_6mths</th>\n",
       "      <th>pub_rec</th>\n",
       "      <th>delinq_2yrs</th>\n",
       "      <th>dti</th>\n",
       "      <th>revol_util</th>\n",
       "      <th>home_ownership</th>\n",
       "      <th>open_acc</th>\n",
       "      <th>loan_amnt</th>\n",
       "      <th>int_rate</th>\n",
       "      <th>grade</th>\n",
       "      <th>loan_status</th>\n",
       "    </tr>\n",
       "  </thead>\n",
       "  <tbody>\n",
       "    <tr>\n",
       "      <th>count</th>\n",
       "      <td>38475.000000</td>\n",
       "      <td>3.847500e+04</td>\n",
       "      <td>38475.000000</td>\n",
       "      <td>38475.000000</td>\n",
       "      <td>38475.000000</td>\n",
       "      <td>38475.000000</td>\n",
       "      <td>38475.000000</td>\n",
       "      <td>38475.000000</td>\n",
       "      <td>38475.000000</td>\n",
       "      <td>38475.000000</td>\n",
       "      <td>38475.000000</td>\n",
       "      <td>38475.000000</td>\n",
       "      <td>38475.000000</td>\n",
       "    </tr>\n",
       "    <tr>\n",
       "      <th>mean</th>\n",
       "      <td>11.629032</td>\n",
       "      <td>6.964306e+04</td>\n",
       "      <td>0.869656</td>\n",
       "      <td>0.053281</td>\n",
       "      <td>0.146693</td>\n",
       "      <td>13.338617</td>\n",
       "      <td>0.490246</td>\n",
       "      <td>0.973125</td>\n",
       "      <td>9.326004</td>\n",
       "      <td>11311.444444</td>\n",
       "      <td>0.120487</td>\n",
       "      <td>1.749292</td>\n",
       "      <td>0.195218</td>\n",
       "    </tr>\n",
       "    <tr>\n",
       "      <th>std</th>\n",
       "      <td>7.576324</td>\n",
       "      <td>6.428838e+04</td>\n",
       "      <td>1.069617</td>\n",
       "      <td>0.233894</td>\n",
       "      <td>0.491918</td>\n",
       "      <td>6.663076</td>\n",
       "      <td>0.283015</td>\n",
       "      <td>0.966188</td>\n",
       "      <td>4.393903</td>\n",
       "      <td>7461.485373</td>\n",
       "      <td>0.037167</td>\n",
       "      <td>1.693903</td>\n",
       "      <td>0.462806</td>\n",
       "    </tr>\n",
       "    <tr>\n",
       "      <th>min</th>\n",
       "      <td>0.000000</td>\n",
       "      <td>4.000000e+03</td>\n",
       "      <td>0.000000</td>\n",
       "      <td>0.000000</td>\n",
       "      <td>0.000000</td>\n",
       "      <td>0.000000</td>\n",
       "      <td>0.000000</td>\n",
       "      <td>0.000000</td>\n",
       "      <td>2.000000</td>\n",
       "      <td>500.000000</td>\n",
       "      <td>0.054200</td>\n",
       "      <td>0.000000</td>\n",
       "      <td>0.000000</td>\n",
       "    </tr>\n",
       "    <tr>\n",
       "      <th>25%</th>\n",
       "      <td>5.000000</td>\n",
       "      <td>4.152000e+04</td>\n",
       "      <td>0.000000</td>\n",
       "      <td>0.000000</td>\n",
       "      <td>0.000000</td>\n",
       "      <td>8.220000</td>\n",
       "      <td>0.257000</td>\n",
       "      <td>0.000000</td>\n",
       "      <td>6.000000</td>\n",
       "      <td>5600.000000</td>\n",
       "      <td>0.093200</td>\n",
       "      <td>0.000000</td>\n",
       "      <td>0.000000</td>\n",
       "    </tr>\n",
       "    <tr>\n",
       "      <th>50%</th>\n",
       "      <td>12.000000</td>\n",
       "      <td>6.000000e+04</td>\n",
       "      <td>1.000000</td>\n",
       "      <td>0.000000</td>\n",
       "      <td>0.000000</td>\n",
       "      <td>13.420000</td>\n",
       "      <td>0.495000</td>\n",
       "      <td>1.000000</td>\n",
       "      <td>9.000000</td>\n",
       "      <td>10000.000000</td>\n",
       "      <td>0.118600</td>\n",
       "      <td>1.000000</td>\n",
       "      <td>0.000000</td>\n",
       "    </tr>\n",
       "    <tr>\n",
       "      <th>75%</th>\n",
       "      <td>16.000000</td>\n",
       "      <td>8.320000e+04</td>\n",
       "      <td>1.000000</td>\n",
       "      <td>0.000000</td>\n",
       "      <td>0.000000</td>\n",
       "      <td>18.600000</td>\n",
       "      <td>0.725000</td>\n",
       "      <td>2.000000</td>\n",
       "      <td>12.000000</td>\n",
       "      <td>15000.000000</td>\n",
       "      <td>0.145900</td>\n",
       "      <td>2.000000</td>\n",
       "      <td>0.000000</td>\n",
       "    </tr>\n",
       "    <tr>\n",
       "      <th>max</th>\n",
       "      <td>34.000000</td>\n",
       "      <td>6.000000e+06</td>\n",
       "      <td>8.000000</td>\n",
       "      <td>4.000000</td>\n",
       "      <td>11.000000</td>\n",
       "      <td>29.990000</td>\n",
       "      <td>0.999000</td>\n",
       "      <td>4.000000</td>\n",
       "      <td>44.000000</td>\n",
       "      <td>35000.000000</td>\n",
       "      <td>0.245900</td>\n",
       "      <td>6.000000</td>\n",
       "      <td>2.000000</td>\n",
       "    </tr>\n",
       "  </tbody>\n",
       "</table>\n",
       "</div>"
      ],
      "text/plain": [
       "          sub_grade    annual_inc  inq_last_6mths       pub_rec   delinq_2yrs  \\\n",
       "count  38475.000000  3.847500e+04    38475.000000  38475.000000  38475.000000   \n",
       "mean      11.629032  6.964306e+04        0.869656      0.053281      0.146693   \n",
       "std        7.576324  6.428838e+04        1.069617      0.233894      0.491918   \n",
       "min        0.000000  4.000000e+03        0.000000      0.000000      0.000000   \n",
       "25%        5.000000  4.152000e+04        0.000000      0.000000      0.000000   \n",
       "50%       12.000000  6.000000e+04        1.000000      0.000000      0.000000   \n",
       "75%       16.000000  8.320000e+04        1.000000      0.000000      0.000000   \n",
       "max       34.000000  6.000000e+06        8.000000      4.000000     11.000000   \n",
       "\n",
       "                dti    revol_util  home_ownership      open_acc     loan_amnt  \\\n",
       "count  38475.000000  38475.000000    38475.000000  38475.000000  38475.000000   \n",
       "mean      13.338617      0.490246        0.973125      9.326004  11311.444444   \n",
       "std        6.663076      0.283015        0.966188      4.393903   7461.485373   \n",
       "min        0.000000      0.000000        0.000000      2.000000    500.000000   \n",
       "25%        8.220000      0.257000        0.000000      6.000000   5600.000000   \n",
       "50%       13.420000      0.495000        1.000000      9.000000  10000.000000   \n",
       "75%       18.600000      0.725000        2.000000     12.000000  15000.000000   \n",
       "max       29.990000      0.999000        4.000000     44.000000  35000.000000   \n",
       "\n",
       "           int_rate         grade   loan_status  \n",
       "count  38475.000000  38475.000000  38475.000000  \n",
       "mean       0.120487      1.749292      0.195218  \n",
       "std        0.037167      1.693903      0.462806  \n",
       "min        0.054200      0.000000      0.000000  \n",
       "25%        0.093200      0.000000      0.000000  \n",
       "50%        0.118600      1.000000      0.000000  \n",
       "75%        0.145900      2.000000      0.000000  \n",
       "max        0.245900      6.000000      2.000000  "
      ]
     },
     "execution_count": 71,
     "metadata": {},
     "output_type": "execute_result"
    }
   ],
   "source": [
    "og_data_final.describe()"
   ]
  },
  {
   "cell_type": "code",
   "execution_count": 72,
   "metadata": {},
   "outputs": [
    {
     "name": "stdout",
     "output_type": "stream",
     "text": [
      "<class 'pandas.core.frame.DataFrame'>\n",
      "Int64Index: 38475 entries, 0 to 39665\n",
      "Data columns (total 13 columns):\n",
      "sub_grade         38475 non-null int64\n",
      "annual_inc        38475 non-null float64\n",
      "inq_last_6mths    38475 non-null int64\n",
      "pub_rec           38475 non-null int64\n",
      "delinq_2yrs       38475 non-null int64\n",
      "dti               38475 non-null float64\n",
      "revol_util        38475 non-null float64\n",
      "home_ownership    38475 non-null int64\n",
      "open_acc          38475 non-null int64\n",
      "loan_amnt         38475 non-null int64\n",
      "int_rate          38475 non-null float64\n",
      "grade             38475 non-null int64\n",
      "loan_status       38475 non-null int64\n",
      "dtypes: float64(4), int64(9)\n",
      "memory usage: 4.1 MB\n"
     ]
    }
   ],
   "source": [
    "og_data_final.info(verbose=True)"
   ]
  },
  {
   "cell_type": "code",
   "execution_count": 73,
   "metadata": {},
   "outputs": [
    {
     "data": {
      "text/plain": [
       "<matplotlib.axes._subplots.AxesSubplot at 0x7f02c960a198>"
      ]
     },
     "execution_count": 73,
     "metadata": {},
     "output_type": "execute_result"
    },
    {
     "data": {
      "image/png": "[encoded data removed]",
      "text/plain": [
       "<Figure size 1296x360 with 1 Axes>"
      ]
     },
     "metadata": {
      "needs_background": "light"
     },
     "output_type": "display_data"
    }
   ],
   "source": [
    "plt.figure(figsize=(18,5))\n",
    "og_data_final.drop('loan_status',axis=1).boxplot()"
   ]
  },
  {
   "cell_type": "code",
   "execution_count": 74,
   "metadata": {},
   "outputs": [
    {
     "data": {
      "text/html": [
       "<div>\n",
       "<style scoped>\n",
       "    .dataframe tbody tr th:only-of-type {\n",
       "        vertical-align: middle;\n",
       "    }\n",
       "\n",
       "    .dataframe tbody tr th {\n",
       "        vertical-align: top;\n",
       "    }\n",
       "\n",
       "    .dataframe thead th {\n",
       "        text-align: right;\n",
       "    }\n",
       "</style>\n",
       "<table border=\"1\" class=\"dataframe\">\n",
       "  <thead>\n",
       "    <tr style=\"text-align: right;\">\n",
       "      <th></th>\n",
       "      <th>sub_grade</th>\n",
       "      <th>annual_inc</th>\n",
       "      <th>inq_last_6mths</th>\n",
       "      <th>pub_rec</th>\n",
       "      <th>delinq_2yrs</th>\n",
       "      <th>dti</th>\n",
       "      <th>revol_util</th>\n",
       "      <th>home_ownership</th>\n",
       "      <th>open_acc</th>\n",
       "      <th>loan_amnt</th>\n",
       "      <th>int_rate</th>\n",
       "      <th>grade</th>\n",
       "      <th>loan_status</th>\n",
       "    </tr>\n",
       "  </thead>\n",
       "  <tbody>\n",
       "    <tr>\n",
       "      <th>count</th>\n",
       "      <td>38475.000000</td>\n",
       "      <td>3.847500e+04</td>\n",
       "      <td>38475.000000</td>\n",
       "      <td>38475.000000</td>\n",
       "      <td>38475.000000</td>\n",
       "      <td>38475.000000</td>\n",
       "      <td>38475.000000</td>\n",
       "      <td>38475.000000</td>\n",
       "      <td>38475.000000</td>\n",
       "      <td>38475.000000</td>\n",
       "      <td>38475.000000</td>\n",
       "      <td>38475.000000</td>\n",
       "      <td>38475.000000</td>\n",
       "    </tr>\n",
       "    <tr>\n",
       "      <th>mean</th>\n",
       "      <td>11.629032</td>\n",
       "      <td>6.964306e+04</td>\n",
       "      <td>0.869656</td>\n",
       "      <td>0.053281</td>\n",
       "      <td>0.146693</td>\n",
       "      <td>13.338617</td>\n",
       "      <td>0.490246</td>\n",
       "      <td>0.973125</td>\n",
       "      <td>9.326004</td>\n",
       "      <td>11311.444444</td>\n",
       "      <td>0.120487</td>\n",
       "      <td>1.749292</td>\n",
       "      <td>0.195218</td>\n",
       "    </tr>\n",
       "    <tr>\n",
       "      <th>std</th>\n",
       "      <td>7.576324</td>\n",
       "      <td>6.428838e+04</td>\n",
       "      <td>1.069617</td>\n",
       "      <td>0.233894</td>\n",
       "      <td>0.491918</td>\n",
       "      <td>6.663076</td>\n",
       "      <td>0.283015</td>\n",
       "      <td>0.966188</td>\n",
       "      <td>4.393903</td>\n",
       "      <td>7461.485373</td>\n",
       "      <td>0.037167</td>\n",
       "      <td>1.693903</td>\n",
       "      <td>0.462806</td>\n",
       "    </tr>\n",
       "    <tr>\n",
       "      <th>min</th>\n",
       "      <td>0.000000</td>\n",
       "      <td>4.000000e+03</td>\n",
       "      <td>0.000000</td>\n",
       "      <td>0.000000</td>\n",
       "      <td>0.000000</td>\n",
       "      <td>0.000000</td>\n",
       "      <td>0.000000</td>\n",
       "      <td>0.000000</td>\n",
       "      <td>2.000000</td>\n",
       "      <td>500.000000</td>\n",
       "      <td>0.054200</td>\n",
       "      <td>0.000000</td>\n",
       "      <td>0.000000</td>\n",
       "    </tr>\n",
       "    <tr>\n",
       "      <th>25%</th>\n",
       "      <td>5.000000</td>\n",
       "      <td>4.152000e+04</td>\n",
       "      <td>0.000000</td>\n",
       "      <td>0.000000</td>\n",
       "      <td>0.000000</td>\n",
       "      <td>8.220000</td>\n",
       "      <td>0.257000</td>\n",
       "      <td>0.000000</td>\n",
       "      <td>6.000000</td>\n",
       "      <td>5600.000000</td>\n",
       "      <td>0.093200</td>\n",
       "      <td>0.000000</td>\n",
       "      <td>0.000000</td>\n",
       "    </tr>\n",
       "    <tr>\n",
       "      <th>50%</th>\n",
       "      <td>12.000000</td>\n",
       "      <td>6.000000e+04</td>\n",
       "      <td>1.000000</td>\n",
       "      <td>0.000000</td>\n",
       "      <td>0.000000</td>\n",
       "      <td>13.420000</td>\n",
       "      <td>0.495000</td>\n",
       "      <td>1.000000</td>\n",
       "      <td>9.000000</td>\n",
       "      <td>10000.000000</td>\n",
       "      <td>0.118600</td>\n",
       "      <td>1.000000</td>\n",
       "      <td>0.000000</td>\n",
       "    </tr>\n",
       "    <tr>\n",
       "      <th>75%</th>\n",
       "      <td>16.000000</td>\n",
       "      <td>8.320000e+04</td>\n",
       "      <td>1.000000</td>\n",
       "      <td>0.000000</td>\n",
       "      <td>0.000000</td>\n",
       "      <td>18.600000</td>\n",
       "      <td>0.725000</td>\n",
       "      <td>2.000000</td>\n",
       "      <td>12.000000</td>\n",
       "      <td>15000.000000</td>\n",
       "      <td>0.145900</td>\n",
       "      <td>2.000000</td>\n",
       "      <td>0.000000</td>\n",
       "    </tr>\n",
       "    <tr>\n",
       "      <th>max</th>\n",
       "      <td>34.000000</td>\n",
       "      <td>6.000000e+06</td>\n",
       "      <td>8.000000</td>\n",
       "      <td>4.000000</td>\n",
       "      <td>11.000000</td>\n",
       "      <td>29.990000</td>\n",
       "      <td>0.999000</td>\n",
       "      <td>4.000000</td>\n",
       "      <td>44.000000</td>\n",
       "      <td>35000.000000</td>\n",
       "      <td>0.245900</td>\n",
       "      <td>6.000000</td>\n",
       "      <td>2.000000</td>\n",
       "    </tr>\n",
       "  </tbody>\n",
       "</table>\n",
       "</div>"
      ],
      "text/plain": [
       "          sub_grade    annual_inc  inq_last_6mths       pub_rec   delinq_2yrs  \\\n",
       "count  38475.000000  3.847500e+04    38475.000000  38475.000000  38475.000000   \n",
       "mean      11.629032  6.964306e+04        0.869656      0.053281      0.146693   \n",
       "std        7.576324  6.428838e+04        1.069617      0.233894      0.491918   \n",
       "min        0.000000  4.000000e+03        0.000000      0.000000      0.000000   \n",
       "25%        5.000000  4.152000e+04        0.000000      0.000000      0.000000   \n",
       "50%       12.000000  6.000000e+04        1.000000      0.000000      0.000000   \n",
       "75%       16.000000  8.320000e+04        1.000000      0.000000      0.000000   \n",
       "max       34.000000  6.000000e+06        8.000000      4.000000     11.000000   \n",
       "\n",
       "                dti    revol_util  home_ownership      open_acc     loan_amnt  \\\n",
       "count  38475.000000  38475.000000    38475.000000  38475.000000  38475.000000   \n",
       "mean      13.338617      0.490246        0.973125      9.326004  11311.444444   \n",
       "std        6.663076      0.283015        0.966188      4.393903   7461.485373   \n",
       "min        0.000000      0.000000        0.000000      2.000000    500.000000   \n",
       "25%        8.220000      0.257000        0.000000      6.000000   5600.000000   \n",
       "50%       13.420000      0.495000        1.000000      9.000000  10000.000000   \n",
       "75%       18.600000      0.725000        2.000000     12.000000  15000.000000   \n",
       "max       29.990000      0.999000        4.000000     44.000000  35000.000000   \n",
       "\n",
       "           int_rate         grade   loan_status  \n",
       "count  38475.000000  38475.000000  38475.000000  \n",
       "mean       0.120487      1.749292      0.195218  \n",
       "std        0.037167      1.693903      0.462806  \n",
       "min        0.054200      0.000000      0.000000  \n",
       "25%        0.093200      0.000000      0.000000  \n",
       "50%        0.118600      1.000000      0.000000  \n",
       "75%        0.145900      2.000000      0.000000  \n",
       "max        0.245900      6.000000      2.000000  "
      ]
     },
     "execution_count": 74,
     "metadata": {},
     "output_type": "execute_result"
    }
   ],
   "source": [
    "og_data_final.describe()"
   ]
  },
  {
   "cell_type": "code",
   "execution_count": 75,
   "metadata": {},
   "outputs": [],
   "source": [
    "#We will remove outliers\n",
    "annual_inc_quant = og_data_final['annual_inc'].quantile(0.99)\n",
    "loan_amnt_quant = og_data_final['loan_amnt'].quantile(0.99)"
   ]
  },
  {
   "cell_type": "code",
   "execution_count": 76,
   "metadata": {},
   "outputs": [],
   "source": [
    "og_data_final = og_data_final[(og_data_final['annual_inc'] < annual_inc_quant)]\n",
    "og_data_final = og_data_final[(og_data_final['loan_amnt'] < loan_amnt_quant)]"
   ]
  },
  {
   "cell_type": "code",
   "execution_count": 77,
   "metadata": {},
   "outputs": [],
   "source": [
    "og_data_final = og_data_final[(og_data_final['loan_status']==0) | (og_data_final['loan_status'] ==1)]"
   ]
  },
  {
   "cell_type": "code",
   "execution_count": null,
   "metadata": {},
   "outputs": [],
   "source": []
  },
  {
   "cell_type": "code",
   "execution_count": 78,
   "metadata": {},
   "outputs": [],
   "source": [
    "X = og_data_final.drop('loan_status',axis=1)\n",
    "Y = og_data_final['loan_status']"
   ]
  },
  {
   "cell_type": "code",
   "execution_count": 79,
   "metadata": {},
   "outputs": [
    {
     "name": "stdout",
     "output_type": "stream",
     "text": [
      "<class 'pandas.core.frame.DataFrame'>\n",
      "RangeIndex: 36468 entries, 0 to 36467\n",
      "Data columns (total 13 columns):\n",
      "index             36468 non-null int64\n",
      "sub_grade         36468 non-null int64\n",
      "annual_inc        36468 non-null float64\n",
      "inq_last_6mths    36468 non-null int64\n",
      "pub_rec           36468 non-null int64\n",
      "delinq_2yrs       36468 non-null int64\n",
      "dti               36468 non-null float64\n",
      "revol_util        36468 non-null float64\n",
      "home_ownership    36468 non-null int64\n",
      "open_acc          36468 non-null int64\n",
      "loan_amnt         36468 non-null int64\n",
      "int_rate          36468 non-null float64\n",
      "grade             36468 non-null int64\n",
      "dtypes: float64(4), int64(9)\n",
      "memory usage: 3.6 MB\n"
     ]
    }
   ],
   "source": [
    "X,Y = X.reset_index(),Y.reset_index() \n",
    "X.info(verbose=True)"
   ]
  },
  {
   "cell_type": "code",
   "execution_count": 80,
   "metadata": {},
   "outputs": [],
   "source": [
    "def normalise(x):\n",
    "    return ( (x-np.min(x)) / (max(x) - min(x)))\n",
    "\n",
    "#Normalising\n",
    "Y.drop('index',axis=1,inplace=True)\n",
    "X.drop('index',axis=1,inplace=True)\n",
    "X = X.apply(normalise)"
   ]
  },
  {
   "cell_type": "code",
   "execution_count": 81,
   "metadata": {},
   "outputs": [
    {
     "data": {
      "text/html": [
       "<div>\n",
       "<style scoped>\n",
       "    .dataframe tbody tr th:only-of-type {\n",
       "        vertical-align: middle;\n",
       "    }\n",
       "\n",
       "    .dataframe tbody tr th {\n",
       "        vertical-align: top;\n",
       "    }\n",
       "\n",
       "    .dataframe thead th {\n",
       "        text-align: right;\n",
       "    }\n",
       "</style>\n",
       "<table border=\"1\" class=\"dataframe\">\n",
       "  <thead>\n",
       "    <tr style=\"text-align: right;\">\n",
       "      <th></th>\n",
       "      <th>sub_grade</th>\n",
       "      <th>annual_inc</th>\n",
       "      <th>inq_last_6mths</th>\n",
       "      <th>pub_rec</th>\n",
       "      <th>delinq_2yrs</th>\n",
       "      <th>dti</th>\n",
       "      <th>revol_util</th>\n",
       "      <th>home_ownership</th>\n",
       "      <th>open_acc</th>\n",
       "      <th>loan_amnt</th>\n",
       "      <th>int_rate</th>\n",
       "      <th>grade</th>\n",
       "    </tr>\n",
       "  </thead>\n",
       "  <tbody>\n",
       "    <tr>\n",
       "      <th>0</th>\n",
       "      <td>0.000000</td>\n",
       "      <td>0.086582</td>\n",
       "      <td>0.125</td>\n",
       "      <td>0.0</td>\n",
       "      <td>0.0</td>\n",
       "      <td>0.921974</td>\n",
       "      <td>0.837838</td>\n",
       "      <td>0.0</td>\n",
       "      <td>0.023810</td>\n",
       "      <td>0.131195</td>\n",
       "      <td>0.275553</td>\n",
       "      <td>0.000000</td>\n",
       "    </tr>\n",
       "    <tr>\n",
       "      <th>1</th>\n",
       "      <td>0.029412</td>\n",
       "      <td>0.112556</td>\n",
       "      <td>0.625</td>\n",
       "      <td>0.0</td>\n",
       "      <td>0.0</td>\n",
       "      <td>0.033344</td>\n",
       "      <td>0.094094</td>\n",
       "      <td>0.0</td>\n",
       "      <td>0.023810</td>\n",
       "      <td>0.058309</td>\n",
       "      <td>0.518967</td>\n",
       "      <td>0.166667</td>\n",
       "    </tr>\n",
       "    <tr>\n",
       "      <th>2</th>\n",
       "      <td>0.058824</td>\n",
       "      <td>0.035724</td>\n",
       "      <td>0.250</td>\n",
       "      <td>0.0</td>\n",
       "      <td>0.0</td>\n",
       "      <td>0.290764</td>\n",
       "      <td>0.985986</td>\n",
       "      <td>0.0</td>\n",
       "      <td>0.000000</td>\n",
       "      <td>0.055394</td>\n",
       "      <td>0.555321</td>\n",
       "      <td>0.166667</td>\n",
       "    </tr>\n",
       "    <tr>\n",
       "      <th>3</th>\n",
       "      <td>0.088235</td>\n",
       "      <td>0.195674</td>\n",
       "      <td>0.125</td>\n",
       "      <td>0.0</td>\n",
       "      <td>0.0</td>\n",
       "      <td>0.666889</td>\n",
       "      <td>0.210210</td>\n",
       "      <td>0.0</td>\n",
       "      <td>0.190476</td>\n",
       "      <td>0.276968</td>\n",
       "      <td>0.425184</td>\n",
       "      <td>0.166667</td>\n",
       "    </tr>\n",
       "    <tr>\n",
       "      <th>4</th>\n",
       "      <td>0.147059</td>\n",
       "      <td>0.138531</td>\n",
       "      <td>0.375</td>\n",
       "      <td>0.0</td>\n",
       "      <td>0.0</td>\n",
       "      <td>0.373458</td>\n",
       "      <td>0.283283</td>\n",
       "      <td>0.0</td>\n",
       "      <td>0.166667</td>\n",
       "      <td>0.131195</td>\n",
       "      <td>0.130664</td>\n",
       "      <td>0.333333</td>\n",
       "    </tr>\n",
       "  </tbody>\n",
       "</table>\n",
       "</div>"
      ],
      "text/plain": [
       "   sub_grade  annual_inc  inq_last_6mths  pub_rec  delinq_2yrs       dti  \\\n",
       "0   0.000000    0.086582           0.125      0.0          0.0  0.921974   \n",
       "1   0.029412    0.112556           0.625      0.0          0.0  0.033344   \n",
       "2   0.058824    0.035724           0.250      0.0          0.0  0.290764   \n",
       "3   0.088235    0.195674           0.125      0.0          0.0  0.666889   \n",
       "4   0.147059    0.138531           0.375      0.0          0.0  0.373458   \n",
       "\n",
       "   revol_util  home_ownership  open_acc  loan_amnt  int_rate     grade  \n",
       "0    0.837838             0.0  0.023810   0.131195  0.275553  0.000000  \n",
       "1    0.094094             0.0  0.023810   0.058309  0.518967  0.166667  \n",
       "2    0.985986             0.0  0.000000   0.055394  0.555321  0.166667  \n",
       "3    0.210210             0.0  0.190476   0.276968  0.425184  0.166667  \n",
       "4    0.283283             0.0  0.166667   0.131195  0.130664  0.333333  "
      ]
     },
     "execution_count": 81,
     "metadata": {},
     "output_type": "execute_result"
    }
   ],
   "source": [
    "X.head()"
   ]
  },
  {
   "cell_type": "code",
   "execution_count": 82,
   "metadata": {},
   "outputs": [
    {
     "data": {
      "text/html": [
       "<table class=\"simpletable\">\n",
       "<caption>Generalized Linear Model Regression Results</caption>\n",
       "<tr>\n",
       "  <th>Dep. Variable:</th>     <td>loan_status</td>   <th>  No. Observations:  </th>  <td> 24433</td>  \n",
       "</tr>\n",
       "<tr>\n",
       "  <th>Model:</th>                 <td>GLM</td>       <th>  Df Residuals:      </th>  <td> 24420</td>  \n",
       "</tr>\n",
       "<tr>\n",
       "  <th>Model Family:</th>       <td>Binomial</td>     <th>  Df Model:          </th>  <td>    12</td>  \n",
       "</tr>\n",
       "<tr>\n",
       "  <th>Link Function:</th>        <td>logit</td>      <th>  Scale:             </th> <td>  1.0000</td> \n",
       "</tr>\n",
       "<tr>\n",
       "  <th>Method:</th>               <td>IRLS</td>       <th>  Log-Likelihood:    </th> <td> -9245.1</td> \n",
       "</tr>\n",
       "<tr>\n",
       "  <th>Date:</th>           <td>Sun, 30 Jun 2019</td> <th>  Deviance:          </th> <td>  18490.</td> \n",
       "</tr>\n",
       "<tr>\n",
       "  <th>Time:</th>               <td>15:19:48</td>     <th>  Pearson chi2:      </th> <td>2.42e+04</td> \n",
       "</tr>\n",
       "<tr>\n",
       "  <th>No. Iterations:</th>         <td>6</td>        <th>  Covariance Type:   </th> <td>nonrobust</td>\n",
       "</tr>\n",
       "</table>\n",
       "<table class=\"simpletable\">\n",
       "<tr>\n",
       "         <td></td>           <th>coef</th>     <th>std err</th>      <th>z</th>      <th>P>|z|</th>  <th>[0.025</th>    <th>0.975]</th>  \n",
       "</tr>\n",
       "<tr>\n",
       "  <th>const</th>          <td>   -2.8761</td> <td>    0.073</td> <td>  -39.180</td> <td> 0.000</td> <td>   -3.020</td> <td>   -2.732</td>\n",
       "</tr>\n",
       "<tr>\n",
       "  <th>sub_grade</th>      <td>    0.0205</td> <td>    0.095</td> <td>    0.215</td> <td> 0.829</td> <td>   -0.166</td> <td>    0.207</td>\n",
       "</tr>\n",
       "<tr>\n",
       "  <th>annual_inc</th>     <td>   -2.2144</td> <td>    0.172</td> <td>  -12.906</td> <td> 0.000</td> <td>   -2.551</td> <td>   -1.878</td>\n",
       "</tr>\n",
       "<tr>\n",
       "  <th>inq_last_6mths</th> <td>    1.2160</td> <td>    0.140</td> <td>    8.658</td> <td> 0.000</td> <td>    0.941</td> <td>    1.491</td>\n",
       "</tr>\n",
       "<tr>\n",
       "  <th>pub_rec</th>        <td>    0.8770</td> <td>    0.280</td> <td>    3.132</td> <td> 0.002</td> <td>    0.328</td> <td>    1.426</td>\n",
       "</tr>\n",
       "<tr>\n",
       "  <th>delinq_2yrs</th>    <td>   -0.5286</td> <td>    0.414</td> <td>   -1.276</td> <td> 0.202</td> <td>   -1.340</td> <td>    0.283</td>\n",
       "</tr>\n",
       "<tr>\n",
       "  <th>dti</th>            <td>   -0.0203</td> <td>    0.099</td> <td>   -0.205</td> <td> 0.838</td> <td>   -0.214</td> <td>    0.174</td>\n",
       "</tr>\n",
       "<tr>\n",
       "  <th>revol_util</th>     <td>    0.2658</td> <td>    0.083</td> <td>    3.216</td> <td> 0.001</td> <td>    0.104</td> <td>    0.428</td>\n",
       "</tr>\n",
       "<tr>\n",
       "  <th>home_ownership</th> <td>    0.0870</td> <td>    0.085</td> <td>    1.027</td> <td> 0.304</td> <td>   -0.079</td> <td>    0.253</td>\n",
       "</tr>\n",
       "<tr>\n",
       "  <th>open_acc</th>       <td>    0.2817</td> <td>    0.200</td> <td>    1.407</td> <td> 0.159</td> <td>   -0.111</td> <td>    0.674</td>\n",
       "</tr>\n",
       "<tr>\n",
       "  <th>loan_amnt</th>      <td>    0.6340</td> <td>    0.110</td> <td>    5.789</td> <td> 0.000</td> <td>    0.419</td> <td>    0.849</td>\n",
       "</tr>\n",
       "<tr>\n",
       "  <th>int_rate</th>       <td>    2.8935</td> <td>    0.146</td> <td>   19.806</td> <td> 0.000</td> <td>    2.607</td> <td>    3.180</td>\n",
       "</tr>\n",
       "<tr>\n",
       "  <th>grade</th>          <td>   -0.0909</td> <td>    0.083</td> <td>   -1.101</td> <td> 0.271</td> <td>   -0.253</td> <td>    0.071</td>\n",
       "</tr>\n",
       "</table>"
      ],
      "text/plain": [
       "<class 'statsmodels.iolib.summary.Summary'>\n",
       "\"\"\"\n",
       "                 Generalized Linear Model Regression Results                  \n",
       "==============================================================================\n",
       "Dep. Variable:            loan_status   No. Observations:                24433\n",
       "Model:                            GLM   Df Residuals:                    24420\n",
       "Model Family:                Binomial   Df Model:                           12\n",
       "Link Function:                  logit   Scale:                          1.0000\n",
       "Method:                          IRLS   Log-Likelihood:                -9245.1\n",
       "Date:                Sun, 30 Jun 2019   Deviance:                       18490.\n",
       "Time:                        15:19:48   Pearson chi2:                 2.42e+04\n",
       "No. Iterations:                     6   Covariance Type:             nonrobust\n",
       "==================================================================================\n",
       "                     coef    std err          z      P>|z|      [0.025      0.975]\n",
       "----------------------------------------------------------------------------------\n",
       "const             -2.8761      0.073    -39.180      0.000      -3.020      -2.732\n",
       "sub_grade          0.0205      0.095      0.215      0.829      -0.166       0.207\n",
       "annual_inc        -2.2144      0.172    -12.906      0.000      -2.551      -1.878\n",
       "inq_last_6mths     1.2160      0.140      8.658      0.000       0.941       1.491\n",
       "pub_rec            0.8770      0.280      3.132      0.002       0.328       1.426\n",
       "delinq_2yrs       -0.5286      0.414     -1.276      0.202      -1.340       0.283\n",
       "dti               -0.0203      0.099     -0.205      0.838      -0.214       0.174\n",
       "revol_util         0.2658      0.083      3.216      0.001       0.104       0.428\n",
       "home_ownership     0.0870      0.085      1.027      0.304      -0.079       0.253\n",
       "open_acc           0.2817      0.200      1.407      0.159      -0.111       0.674\n",
       "loan_amnt          0.6340      0.110      5.789      0.000       0.419       0.849\n",
       "int_rate           2.8935      0.146     19.806      0.000       2.607       3.180\n",
       "grade             -0.0909      0.083     -1.101      0.271      -0.253       0.071\n",
       "==================================================================================\n",
       "\"\"\""
      ]
     },
     "execution_count": 82,
     "metadata": {},
     "output_type": "execute_result"
    }
   ],
   "source": [
    "from sklearn.model_selection import train_test_split\n",
    "x_train, x_test, y_train, y_test = train_test_split(X, Y, test_size=0.33, random_state=42)\n",
    "\n",
    "import statsmodels.api as sm\n",
    "\n",
    "logm1 = sm.GLM(y_train,(sm.add_constant(x_train)), family = sm.families.Binomial())\n",
    "logm1.fit().summary()"
   ]
  },
  {
   "cell_type": "markdown",
   "metadata": {},
   "source": [
    "Taking 5% significance level we will drop less significant significance"
   ]
  },
  {
   "cell_type": "markdown",
   "metadata": {},
   "source": [
    "We will use RFE to filter out most significant features"
   ]
  },
  {
   "cell_type": "code",
   "execution_count": 83,
   "metadata": {},
   "outputs": [
    {
     "name": "stderr",
     "output_type": "stream",
     "text": [
      "/home/dettrax/anaconda3/lib/python3.6/site-packages/sklearn/utils/validation.py:724: DataConversionWarning: A column-vector y was passed when a 1d array was expected. Please change the shape of y to (n_samples, ), for example using ravel().\n",
      "  y = column_or_1d(y, warn=True)\n",
      "/home/dettrax/anaconda3/lib/python3.6/site-packages/sklearn/linear_model/logistic.py:432: FutureWarning: Default solver will be changed to 'lbfgs' in 0.22. Specify a solver to silence this warning.\n",
      "  FutureWarning)\n",
      "/home/dettrax/anaconda3/lib/python3.6/site-packages/sklearn/linear_model/logistic.py:432: FutureWarning: Default solver will be changed to 'lbfgs' in 0.22. Specify a solver to silence this warning.\n",
      "  FutureWarning)\n"
     ]
    },
    {
     "name": "stdout",
     "output_type": "stream",
     "text": [
      "[False  True  True  True  True False  True  True  True  True  True  True]\n",
      "[3 1 1 1 1 2 1 1 1 1 1 1]\n"
     ]
    },
    {
     "name": "stderr",
     "output_type": "stream",
     "text": [
      "/home/dettrax/anaconda3/lib/python3.6/site-packages/sklearn/linear_model/logistic.py:432: FutureWarning: Default solver will be changed to 'lbfgs' in 0.22. Specify a solver to silence this warning.\n",
      "  FutureWarning)\n"
     ]
    }
   ],
   "source": [
    "from sklearn.linear_model import LogisticRegression\n",
    "logreg = LogisticRegression()\n",
    "from sklearn.feature_selection import RFE\n",
    "rfe = RFE(logreg, 10)             # running RFE with 13 variables as output\n",
    "rfe = rfe.fit(X,Y)\n",
    "print(rfe.support_)           # Printing the boolean results\n",
    "print(rfe.ranking_)           # Printing the ranking"
   ]
  },
  {
   "cell_type": "code",
   "execution_count": 84,
   "metadata": {},
   "outputs": [],
   "source": [
    "cols = X.columns[rfe.support_]"
   ]
  },
  {
   "cell_type": "code",
   "execution_count": null,
   "metadata": {},
   "outputs": [],
   "source": []
  },
  {
   "cell_type": "code",
   "execution_count": 85,
   "metadata": {},
   "outputs": [
    {
     "name": "stderr",
     "output_type": "stream",
     "text": [
      "/home/dettrax/anaconda3/lib/python3.6/site-packages/sklearn/linear_model/logistic.py:432: FutureWarning: Default solver will be changed to 'lbfgs' in 0.22. Specify a solver to silence this warning.\n",
      "  FutureWarning)\n",
      "/home/dettrax/anaconda3/lib/python3.6/site-packages/sklearn/utils/validation.py:724: DataConversionWarning: A column-vector y was passed when a 1d array was expected. Please change the shape of y to (n_samples, ), for example using ravel().\n",
      "  y = column_or_1d(y, warn=True)\n"
     ]
    },
    {
     "data": {
      "text/plain": [
       "LogisticRegression(C=1.0, class_weight=None, dual=False, fit_intercept=True,\n",
       "                   intercept_scaling=1, l1_ratio=None, max_iter=100,\n",
       "                   multi_class='warn', n_jobs=None, penalty='l2',\n",
       "                   random_state=None, solver='warn', tol=0.0001, verbose=0,\n",
       "                   warm_start=False)"
      ]
     },
     "execution_count": 85,
     "metadata": {},
     "output_type": "execute_result"
    }
   ],
   "source": [
    "# Let's run the model using the selected variables\n",
    "from sklearn.linear_model import LogisticRegression\n",
    "from sklearn import metrics\n",
    "logsk = LogisticRegression()\n",
    "logsk.fit(x_train[cols], y_train)"
   ]
  },
  {
   "cell_type": "code",
   "execution_count": 86,
   "metadata": {},
   "outputs": [
    {
     "data": {
      "text/html": [
       "<table class=\"simpletable\">\n",
       "<caption>Generalized Linear Model Regression Results</caption>\n",
       "<tr>\n",
       "  <th>Dep. Variable:</th>     <td>loan_status</td>   <th>  No. Observations:  </th>  <td> 24433</td>  \n",
       "</tr>\n",
       "<tr>\n",
       "  <th>Model:</th>                 <td>GLM</td>       <th>  Df Residuals:      </th>  <td> 24422</td>  \n",
       "</tr>\n",
       "<tr>\n",
       "  <th>Model Family:</th>       <td>Binomial</td>     <th>  Df Model:          </th>  <td>    10</td>  \n",
       "</tr>\n",
       "<tr>\n",
       "  <th>Link Function:</th>        <td>logit</td>      <th>  Scale:             </th> <td>  1.0000</td> \n",
       "</tr>\n",
       "<tr>\n",
       "  <th>Method:</th>               <td>IRLS</td>       <th>  Log-Likelihood:    </th> <td> -9245.2</td> \n",
       "</tr>\n",
       "<tr>\n",
       "  <th>Date:</th>           <td>Sun, 30 Jun 2019</td> <th>  Deviance:          </th> <td>  18490.</td> \n",
       "</tr>\n",
       "<tr>\n",
       "  <th>Time:</th>               <td>15:19:49</td>     <th>  Pearson chi2:      </th> <td>2.42e+04</td> \n",
       "</tr>\n",
       "<tr>\n",
       "  <th>No. Iterations:</th>         <td>6</td>        <th>  Covariance Type:   </th> <td>nonrobust</td>\n",
       "</tr>\n",
       "</table>\n",
       "<table class=\"simpletable\">\n",
       "<tr>\n",
       "         <td></td>           <th>coef</th>     <th>std err</th>      <th>z</th>      <th>P>|z|</th>  <th>[0.025</th>    <th>0.975]</th>  \n",
       "</tr>\n",
       "<tr>\n",
       "  <th>const</th>          <td>   -2.8786</td> <td>    0.067</td> <td>  -43.150</td> <td> 0.000</td> <td>   -3.009</td> <td>   -2.748</td>\n",
       "</tr>\n",
       "<tr>\n",
       "  <th>annual_inc</th>     <td>   -2.2065</td> <td>    0.168</td> <td>  -13.147</td> <td> 0.000</td> <td>   -2.535</td> <td>   -1.878</td>\n",
       "</tr>\n",
       "<tr>\n",
       "  <th>inq_last_6mths</th> <td>    1.2142</td> <td>    0.140</td> <td>    8.657</td> <td> 0.000</td> <td>    0.939</td> <td>    1.489</td>\n",
       "</tr>\n",
       "<tr>\n",
       "  <th>pub_rec</th>        <td>    0.8789</td> <td>    0.280</td> <td>    3.141</td> <td> 0.002</td> <td>    0.330</td> <td>    1.427</td>\n",
       "</tr>\n",
       "<tr>\n",
       "  <th>delinq_2yrs</th>    <td>   -0.5298</td> <td>    0.414</td> <td>   -1.279</td> <td> 0.201</td> <td>   -1.342</td> <td>    0.282</td>\n",
       "</tr>\n",
       "<tr>\n",
       "  <th>revol_util</th>     <td>    0.2595</td> <td>    0.078</td> <td>    3.316</td> <td> 0.001</td> <td>    0.106</td> <td>    0.413</td>\n",
       "</tr>\n",
       "<tr>\n",
       "  <th>home_ownership</th> <td>    0.0874</td> <td>    0.085</td> <td>    1.033</td> <td> 0.302</td> <td>   -0.078</td> <td>    0.253</td>\n",
       "</tr>\n",
       "<tr>\n",
       "  <th>open_acc</th>       <td>    0.2663</td> <td>    0.185</td> <td>    1.438</td> <td> 0.150</td> <td>   -0.097</td> <td>    0.629</td>\n",
       "</tr>\n",
       "<tr>\n",
       "  <th>loan_amnt</th>      <td>    0.6324</td> <td>    0.109</td> <td>    5.828</td> <td> 0.000</td> <td>    0.420</td> <td>    0.845</td>\n",
       "</tr>\n",
       "<tr>\n",
       "  <th>int_rate</th>       <td>    2.9001</td> <td>    0.144</td> <td>   20.116</td> <td> 0.000</td> <td>    2.617</td> <td>    3.183</td>\n",
       "</tr>\n",
       "<tr>\n",
       "  <th>grade</th>          <td>   -0.0833</td> <td>    0.075</td> <td>   -1.105</td> <td> 0.269</td> <td>   -0.231</td> <td>    0.064</td>\n",
       "</tr>\n",
       "</table>"
      ],
      "text/plain": [
       "<class 'statsmodels.iolib.summary.Summary'>\n",
       "\"\"\"\n",
       "                 Generalized Linear Model Regression Results                  \n",
       "==============================================================================\n",
       "Dep. Variable:            loan_status   No. Observations:                24433\n",
       "Model:                            GLM   Df Residuals:                    24422\n",
       "Model Family:                Binomial   Df Model:                           10\n",
       "Link Function:                  logit   Scale:                          1.0000\n",
       "Method:                          IRLS   Log-Likelihood:                -9245.2\n",
       "Date:                Sun, 30 Jun 2019   Deviance:                       18490.\n",
       "Time:                        15:19:49   Pearson chi2:                 2.42e+04\n",
       "No. Iterations:                     6   Covariance Type:             nonrobust\n",
       "==================================================================================\n",
       "                     coef    std err          z      P>|z|      [0.025      0.975]\n",
       "----------------------------------------------------------------------------------\n",
       "const             -2.8786      0.067    -43.150      0.000      -3.009      -2.748\n",
       "annual_inc        -2.2065      0.168    -13.147      0.000      -2.535      -1.878\n",
       "inq_last_6mths     1.2142      0.140      8.657      0.000       0.939       1.489\n",
       "pub_rec            0.8789      0.280      3.141      0.002       0.330       1.427\n",
       "delinq_2yrs       -0.5298      0.414     -1.279      0.201      -1.342       0.282\n",
       "revol_util         0.2595      0.078      3.316      0.001       0.106       0.413\n",
       "home_ownership     0.0874      0.085      1.033      0.302      -0.078       0.253\n",
       "open_acc           0.2663      0.185      1.438      0.150      -0.097       0.629\n",
       "loan_amnt          0.6324      0.109      5.828      0.000       0.420       0.845\n",
       "int_rate           2.9001      0.144     20.116      0.000       2.617       3.183\n",
       "grade             -0.0833      0.075     -1.105      0.269      -0.231       0.064\n",
       "==================================================================================\n",
       "\"\"\""
      ]
     },
     "execution_count": 86,
     "metadata": {},
     "output_type": "execute_result"
    }
   ],
   "source": [
    "#Comparing the model with StatsModels\n",
    "logm4 = sm.GLM(y_train,(sm.add_constant(x_train[cols])), family = sm.families.Binomial())\n",
    "logm4.fit().summary()"
   ]
  },
  {
   "cell_type": "code",
   "execution_count": 87,
   "metadata": {},
   "outputs": [],
   "source": [
    "def vif_cal(input_data, dependent_col):\n",
    "    vif_df = pd.DataFrame( columns = ['Var', 'Vif'])\n",
    "    x_vars=input_data.drop([dependent_col], axis=1)\n",
    "    xvar_names=x_vars.columns\n",
    "    for i in range(0,xvar_names.shape[0]):\n",
    "        y=x_vars[xvar_names[i]] \n",
    "        x=x_vars[xvar_names.drop(xvar_names[i])]\n",
    "        rsq=sm.OLS(y,x).fit().rsquared  \n",
    "        vif=round(1/(1-rsq),2)\n",
    "        vif_df.loc[i] = [xvar_names[i], vif]\n",
    "    return vif_df.sort_values(by = 'Vif', axis=0, ascending=False, inplace=False)"
   ]
  },
  {
   "cell_type": "code",
   "execution_count": 88,
   "metadata": {},
   "outputs": [
    {
     "data": {
      "text/html": [
       "<div>\n",
       "<style scoped>\n",
       "    .dataframe tbody tr th:only-of-type {\n",
       "        vertical-align: middle;\n",
       "    }\n",
       "\n",
       "    .dataframe tbody tr th {\n",
       "        vertical-align: top;\n",
       "    }\n",
       "\n",
       "    .dataframe thead th {\n",
       "        text-align: right;\n",
       "    }\n",
       "</style>\n",
       "<table border=\"1\" class=\"dataframe\">\n",
       "  <thead>\n",
       "    <tr style=\"text-align: right;\">\n",
       "      <th></th>\n",
       "      <th>Var</th>\n",
       "      <th>Vif</th>\n",
       "    </tr>\n",
       "  </thead>\n",
       "  <tbody>\n",
       "    <tr>\n",
       "      <th>8</th>\n",
       "      <td>int_rate</td>\n",
       "      <td>14.33</td>\n",
       "    </tr>\n",
       "    <tr>\n",
       "      <th>0</th>\n",
       "      <td>annual_inc</td>\n",
       "      <td>5.67</td>\n",
       "    </tr>\n",
       "    <tr>\n",
       "      <th>4</th>\n",
       "      <td>revol_util</td>\n",
       "      <td>5.41</td>\n",
       "    </tr>\n",
       "    <tr>\n",
       "      <th>6</th>\n",
       "      <td>open_acc</td>\n",
       "      <td>5.17</td>\n",
       "    </tr>\n",
       "    <tr>\n",
       "      <th>7</th>\n",
       "      <td>loan_amnt</td>\n",
       "      <td>4.71</td>\n",
       "    </tr>\n",
       "    <tr>\n",
       "      <th>9</th>\n",
       "      <td>grade</td>\n",
       "      <td>2.53</td>\n",
       "    </tr>\n",
       "    <tr>\n",
       "      <th>5</th>\n",
       "      <td>home_ownership</td>\n",
       "      <td>2.22</td>\n",
       "    </tr>\n",
       "    <tr>\n",
       "      <th>1</th>\n",
       "      <td>inq_last_6mths</td>\n",
       "      <td>1.76</td>\n",
       "    </tr>\n",
       "    <tr>\n",
       "      <th>3</th>\n",
       "      <td>delinq_2yrs</td>\n",
       "      <td>1.15</td>\n",
       "    </tr>\n",
       "    <tr>\n",
       "      <th>2</th>\n",
       "      <td>pub_rec</td>\n",
       "      <td>1.07</td>\n",
       "    </tr>\n",
       "  </tbody>\n",
       "</table>\n",
       "</div>"
      ],
      "text/plain": [
       "              Var    Vif\n",
       "8        int_rate  14.33\n",
       "0      annual_inc   5.67\n",
       "4      revol_util   5.41\n",
       "6        open_acc   5.17\n",
       "7       loan_amnt   4.71\n",
       "9           grade   2.53\n",
       "5  home_ownership   2.22\n",
       "1  inq_last_6mths   1.76\n",
       "3     delinq_2yrs   1.15\n",
       "2         pub_rec   1.07"
      ]
     },
     "execution_count": 88,
     "metadata": {},
     "output_type": "execute_result"
    }
   ],
   "source": [
    "vif_cal(input_data=og_data_final[cols].join(og_data_final['loan_status']), dependent_col='loan_status')"
   ]
  },
  {
   "cell_type": "markdown",
   "metadata": {},
   "source": [
    "Intrest rate has high multicollinearity, but I think we should keep that for now"
   ]
  },
  {
   "cell_type": "code",
   "execution_count": 89,
   "metadata": {},
   "outputs": [
    {
     "name": "stderr",
     "output_type": "stream",
     "text": [
      "/home/dettrax/anaconda3/lib/python3.6/site-packages/sklearn/linear_model/logistic.py:432: FutureWarning: Default solver will be changed to 'lbfgs' in 0.22. Specify a solver to silence this warning.\n",
      "  FutureWarning)\n",
      "/home/dettrax/anaconda3/lib/python3.6/site-packages/sklearn/utils/validation.py:724: DataConversionWarning: A column-vector y was passed when a 1d array was expected. Please change the shape of y to (n_samples, ), for example using ravel().\n",
      "  y = column_or_1d(y, warn=True)\n"
     ]
    },
    {
     "data": {
      "text/plain": [
       "LogisticRegression(C=1.0, class_weight=None, dual=False, fit_intercept=True,\n",
       "                   intercept_scaling=1, l1_ratio=None, max_iter=100,\n",
       "                   multi_class='warn', n_jobs=None, penalty='l2',\n",
       "                   random_state=None, solver='warn', tol=0.0001, verbose=0,\n",
       "                   warm_start=False)"
      ]
     },
     "execution_count": 89,
     "metadata": {},
     "output_type": "execute_result"
    }
   ],
   "source": [
    "from sklearn.linear_model import LogisticRegression\n",
    "from sklearn import metrics\n",
    "logsk = LogisticRegression()\n",
    "logsk.fit(x_train[cols], y_train)"
   ]
  },
  {
   "cell_type": "code",
   "execution_count": 90,
   "metadata": {},
   "outputs": [
    {
     "data": {
      "text/plain": [
       "array([[10320,     7],\n",
       "       [ 1700,     8]])"
      ]
     },
     "execution_count": 90,
     "metadata": {},
     "output_type": "execute_result"
    }
   ],
   "source": [
    "#Evaluation\n",
    "from sklearn import metrics\n",
    "confusion = metrics.confusion_matrix( y_test, logsk.predict(x_test[cols]))\n",
    "confusion"
   ]
  },
  {
   "cell_type": "code",
   "execution_count": 91,
   "metadata": {},
   "outputs": [
    {
     "data": {
      "text/plain": [
       "0.8581636892397175"
      ]
     },
     "execution_count": 91,
     "metadata": {},
     "output_type": "execute_result"
    }
   ],
   "source": [
    "metrics.accuracy_score( y_test, logsk.predict(x_test[cols]))"
   ]
  },
  {
   "cell_type": "code",
   "execution_count": 92,
   "metadata": {
    "scrolled": true
   },
   "outputs": [
    {
     "data": {
      "text/plain": [
       "<matplotlib.axes._subplots.AxesSubplot at 0x7f02c6f649e8>"
      ]
     },
     "execution_count": 92,
     "metadata": {},
     "output_type": "execute_result"
    },
    {
     "data": {
      "image/png": "[encoded data removed]",
      "text/plain": [
       "<Figure size 432x288 with 1 Axes>"
      ]
     },
     "metadata": {
      "needs_background": "light"
     },
     "output_type": "display_data"
    }
   ],
   "source": [
    "sns.countplot(Y['loan_status'])"
   ]
  },
  {
   "cell_type": "markdown",
   "metadata": {},
   "source": [
    "We have a problem here, model accuracy is high but \"false negetive\" is too high that means it classify potential defaulters as not likly to default.\n",
    "\n",
    "So we have to take care of the imbalanced data."
   ]
  },
  {
   "cell_type": "code",
   "execution_count": 93,
   "metadata": {},
   "outputs": [],
   "source": [
    "#Let's do oversampling\n",
    "class_0_count = len(og_data_final[og_data_final['loan_status']==0])\n",
    "class_1_count = len(og_data_final[og_data_final['loan_status']==1])"
   ]
  },
  {
   "cell_type": "code",
   "execution_count": 94,
   "metadata": {},
   "outputs": [],
   "source": [
    "df_class_1_over = og_data_final[og_data_final['loan_status']==1].sample(class_0_count, replace=True)\n",
    "df_test_over = pd.concat([og_data_final[og_data_final['loan_status']==0], df_class_1_over], axis=0)"
   ]
  },
  {
   "cell_type": "code",
   "execution_count": 95,
   "metadata": {},
   "outputs": [],
   "source": [
    "X = df_test_over.drop('loan_status',axis=1)\n",
    "Y = df_test_over['loan_status']\n",
    "X,Y = X.reset_index(),Y.reset_index() \n",
    "def normalise(x):\n",
    "    return ( (x-np.min(x)) / (max(x) - min(x)))\n",
    "\n",
    "#Normalising\n",
    "Y.drop('index',axis=1,inplace=True)\n",
    "X.drop('index',axis=1,inplace=True)\n",
    "X = X.apply(normalise)"
   ]
  },
  {
   "cell_type": "code",
   "execution_count": 96,
   "metadata": {},
   "outputs": [],
   "source": [
    "from sklearn.model_selection import train_test_split\n",
    "x_train, x_test, y_train, y_test = train_test_split(X, Y, test_size=0.33)"
   ]
  },
  {
   "cell_type": "code",
   "execution_count": 97,
   "metadata": {},
   "outputs": [
    {
     "name": "stderr",
     "output_type": "stream",
     "text": [
      "/home/dettrax/.local/lib/python3.6/site-packages/ipykernel_launcher.py:4: DataConversionWarning: A column-vector y was passed when a 1d array was expected. Please change the shape of y to (n_samples,), for example using ravel().\n",
      "  after removing the cwd from sys.path.\n"
     ]
    },
    {
     "data": {
      "text/plain": [
       "RandomForestClassifier(bootstrap=True, class_weight=None, criterion='gini',\n",
       "                       max_depth=None, max_features='auto', max_leaf_nodes=None,\n",
       "                       min_impurity_decrease=0.0, min_impurity_split=None,\n",
       "                       min_samples_leaf=1, min_samples_split=2,\n",
       "                       min_weight_fraction_leaf=0.0, n_estimators=20,\n",
       "                       n_jobs=None, oob_score=False, random_state=None,\n",
       "                       verbose=0, warm_start=False)"
      ]
     },
     "execution_count": 97,
     "metadata": {},
     "output_type": "execute_result"
    }
   ],
   "source": [
    "from sklearn.ensemble import RandomForestClassifier\n",
    "from sklearn import metrics\n",
    "logsk = RandomForestClassifier(n_estimators=20)\n",
    "logsk.fit(x_train[cols], y_train)"
   ]
  },
  {
   "cell_type": "code",
   "execution_count": 98,
   "metadata": {},
   "outputs": [
    {
     "data": {
      "text/plain": [
       "array([[ 9805,   678],\n",
       "       [  136, 10062]])"
      ]
     },
     "execution_count": 98,
     "metadata": {},
     "output_type": "execute_result"
    }
   ],
   "source": [
    "#Evaluation\n",
    "from sklearn import metrics\n",
    "confusion = metrics.confusion_matrix( y_test, logsk.predict(x_test[cols]))\n",
    "confusion"
   ]
  },
  {
   "cell_type": "code",
   "execution_count": 99,
   "metadata": {},
   "outputs": [
    {
     "data": {
      "text/plain": [
       "0.9606402011508147"
      ]
     },
     "execution_count": 99,
     "metadata": {},
     "output_type": "execute_result"
    }
   ],
   "source": [
    "metrics.accuracy_score( y_test, logsk.predict(x_test[cols]))"
   ]
  },
  {
   "cell_type": "code",
   "execution_count": 100,
   "metadata": {},
   "outputs": [],
   "source": [
    "#We can see we are getting good results on test data, Therefore we have a good model that can detect defaulters"
   ]
  },
  {
   "cell_type": "code",
   "execution_count": null,
   "metadata": {},
   "outputs": [],
   "source": []
  }
 ],
 "metadata": {
  "kernelspec": {
   "display_name": "Python 3",
   "language": "python",
   "name": "python3"
  },
  "language_info": {
   "codemirror_mode": {
    "name": "ipython",
    "version": 3
   },
   "file_extension": ".py",
   "mimetype": "text/x-python",
   "name": "python",
   "nbconvert_exporter": "python",
   "pygments_lexer": "ipython3",
   "version": "3.6.5"
  }
 },
 "nbformat": 4,
 "nbformat_minor": 2
}
