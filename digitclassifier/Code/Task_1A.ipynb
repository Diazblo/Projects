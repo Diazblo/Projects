{
 "cells": [
  {
   "cell_type": "code",
   "execution_count": 1,
   "metadata": {},
   "outputs": [],
   "source": [
    "import torch\n",
    "import torchvision.datasets as datasets\n",
    "import torchvision.transforms as transforms\n",
    "import warnings\n",
    "warnings.filterwarnings(\"ignore\")\n",
    "import math\n",
    "import matplotlib.pyplot as plt\n",
    "import seaborn as sns\n",
    "sns.set()"
   ]
  },
  {
   "cell_type": "code",
   "execution_count": 2,
   "metadata": {},
   "outputs": [],
   "source": [
    "dataset_train = datasets.MNIST('mnist_data', \n",
    "                                                          download=True, \n",
    "                                                          train=True,\n",
    "                                                          transform=transforms.Compose([\n",
    "                                                              transforms.ToTensor(), # first, convert image to PyTorch tensor\n",
    "                                                              transforms.Normalize((0.1307,), (0.3081,)) # first, convert image to PyTorch tensor\n",
    "                                                               # normalize inputs\n",
    "                                                          ]))\n",
    "dataset_test = datasets.MNIST('mnist_data', \n",
    "                                                          download=True, \n",
    "                                                          train=False,\n",
    "                                                          transform=transforms.Compose([\n",
    "                                                              transforms.ToTensor(), # first, convert image to PyTorch tensor\n",
    "                                                              transforms.Normalize((0.1307,), (0.3081,)) # normalize inputs\n",
    "                                                          ]))"
   ]
  },
  {
   "cell_type": "code",
   "execution_count": 3,
   "metadata": {},
   "outputs": [],
   "source": [
    "\n",
    "device = \"cuda:0\" if torch.cuda.is_available() else \"cpu\"\n",
    "trn_BATCH_SIZE = 4\n",
    "test_BATCH_SIZE = 100\n",
    "\n",
    "\n",
    "\n",
    "trainloader = torch.utils.data.DataLoader(datasets.MNIST('mnist_data', \n",
    "                                                          download=True, \n",
    "                                                          train=True,\n",
    "                                                          transform=transforms.Compose([\n",
    "                                                              transforms.ToTensor(), # first, convert image to PyTorch tensor\n",
    "                                                              transforms.Normalize((0.1307,), (0.3081,)) # normalize inputs\n",
    "                                                          ])),\n",
    "                                           \n",
    "                                           batch_size=trn_BATCH_SIZE, \n",
    "                                           shuffle=True)\n",
    "\n",
    "\n",
    "\n",
    "\n",
    "# download and transform test dataset\n",
    "test_loader = torch.utils.data.DataLoader(datasets.MNIST('mnist_data', \n",
    "                                                          download=True, \n",
    "                                                          train=False,\n",
    "                                                          transform=transforms.Compose([\n",
    "                                                              transforms.ToTensor(), # first, convert image to PyTorch tensor\n",
    "                                                              transforms.Normalize((0.1307,), (0.3081,)) # normalize inputs\n",
    "                                                          ])),  \n",
    "                                           \n",
    "                                           batch_size=test_BATCH_SIZE, \n",
    "shuffle=True)"
   ]
  },
  {
   "cell_type": "code",
   "execution_count": 4,
   "metadata": {},
   "outputs": [],
   "source": [
    "visualise_target = dataset_train.targets\n",
    "visualise_data = dataset_train.data"
   ]
  },
  {
   "cell_type": "markdown",
   "metadata": {},
   "source": [
    "# Lets visualise image in train set \n",
    "We take a random index and plot the img pixels using imshow() we reshape the data to a 28x28 matrix\n"
   ]
  },
  {
   "cell_type": "code",
   "execution_count": 5,
   "metadata": {},
   "outputs": [
    {
     "name": "stdout",
     "output_type": "stream",
     "text": [
      "tensor([7])\n"
     ]
    },
    {
     "data": {
      "image/png": "[encoded data removed]",
      "text/plain": [
       "<Figure size 432x288 with 1 Axes>"
      ]
     },
     "metadata": {
      "needs_background": "light"
     },
     "output_type": "display_data"
    }
   ],
   "source": [
    "random_generated_number = torch.LongTensor(1).random_(0,len(dataset_test.targets))\n",
    "img_pixel  = visualise_data[random_generated_number]\n",
    "img_label = visualise_target[random_generated_number]\n",
    "plt.imshow(img_pixel.reshape(28,28),cmap=\"gray\")\n",
    "print(img_label)"
   ]
  },
  {
   "cell_type": "code",
   "execution_count": 6,
   "metadata": {},
   "outputs": [
    {
     "data": {
      "text/plain": [
       "(array([5923., 6742., 5958., 6131., 5842., 5421., 5918., 6265., 5851.,\n",
       "        5949.]),\n",
       " array([0. , 0.9, 1.8, 2.7, 3.6, 4.5, 5.4, 6.3, 7.2, 8.1, 9. ]),\n",
       " <a list of 10 Patch objects>)"
      ]
     },
     "execution_count": 6,
     "metadata": {},
     "output_type": "execute_result"
    },
    {
     "data": {
      "image/png": "[encoded data removed]",
      "text/plain": [
       "<Figure size 432x288 with 1 Axes>"
      ]
     },
     "metadata": {
      "needs_background": "light"
     },
     "output_type": "display_data"
    }
   ],
   "source": [
    "plt.hist(visualise_target)"
   ]
  },
  {
   "cell_type": "markdown",
   "metadata": {},
   "source": [
    " This is a count plot of number distributions in image were image of number '1' been the highest around 6800 and number 5 is lowest, Even though the distribution is uneven we can still train out model efficently \n"
   ]
  },
  {
   "cell_type": "markdown",
   "metadata": {},
   "source": [
    "# Code for activation funtions\n",
    "\n",
    "activation funtions are resposible to add non linearity to layers as, linear models are not good at handling classification data\n",
    "We first  define sigmoid funtion which will convert any given number in range between 0 - 1.\n",
    "Then we defined derivative of sigmoid funtion, that we will use later while calculating cost funtions\n",
    "At last Softmax funtions that will convert the input tensors to a probablity distribution for each number."
   ]
  },
  {
   "cell_type": "code",
   "execution_count": 7,
   "metadata": {},
   "outputs": [],
   "source": [
    "\n",
    "def sigmoid(z):\n",
    "    \"\"\"Calculates sigmoid values for tensors\n",
    "\n",
    "    \"\"\"\n",
    "    result = 1.0 / (1 + torch.exp(-z))\n",
    "    return result\n",
    "\n",
    "\"\"\" The derivative of sigmoid can be written as exp(-z) * ( 1 / (1 + exp(-z)**2))\n",
    "    on further simplifying (subraction of inner bracket value by 1 and taking sigmoid funtion common) \n",
    "    we get sigmoid(1 - sigmoid)\"\"\"\n",
    "def delta_sigmoid(z):\n",
    "    \"\"\"Calculates derivative of sigmoid function\n",
    "\n",
    "    \"\"\"\n",
    "    grad_sigmoid = sigmoid(z) * ( 1 - sigmoid(z))\n",
    "    return grad_sigmoid\n",
    "\n",
    "\"\"\" The Softmax outputs 0 or near zero value when overflow of exp occurs\n",
    "    to tackle this we add a constant c to parameter and pass to funtion\n",
    "    subracting max value from parameter leaves only the non-positive entries,\n",
    "    thus ruling out overflow problem\"\"\"\n",
    "def softmax(x):\n",
    "    \"\"\"Calculates stable softmax (minor difference from normal softmax) values for tensors\n",
    "\n",
    "    \"\"\"\n",
    "    m = x.shape[0]\n",
    "    z = x - torch.max(x)\n",
    "    numerator = torch.exp(z)\n",
    "    denominator = torch.sum(numerator,1)\n",
    "    stable_softmax = numerator/denominator.reshape(m,1)\n",
    "  \n",
    "    return stable_softmax\n"
   ]
  },
  {
   "cell_type": "markdown",
   "metadata": {},
   "source": [
    "# Code for loss funtion 'Cross entropy loss',\n",
    "We have used our loss funtion of cross entropy loss for multiclass classification.\n"
   ]
  },
  {
   "cell_type": "code",
   "execution_count": 8,
   "metadata": {},
   "outputs": [],
   "source": [
    "def cross_entropy_loss(outputs, labels):\n",
    "    \"\"\"Calculates cross entropy loss given outputs and actual labels\n",
    "\n",
    "    \"\"\" \n",
    "    \"\"\"One hot ending for labels and output reshaping\"\"\"\n",
    "    \n",
    "    m = outputs.shape[0]\n",
    "    n = outputs.shape[1]\n",
    "    temp_labels = torch.zeros(m,n)\n",
    "    for i in range(m):\n",
    "        temp_labels[i][labels[i]] = 1\n",
    "    creloss = -(1/m)*torch.sum( temp_labels * torch.log(outputs)  )\n",
    "\n",
    "\n",
    "    return creloss.item()   # should return float not tensor\n",
    "\n",
    "    \n",
    "\"\"\"We calculated the derivative of negetive likehood w.r.t to softmax and multiplied it\n",
    "   with  derivative of softmax w.r.t to output from last previous activation funtion\"\"\"  \n",
    "    \n",
    "def delta_cross_entropy_softmax(outputs, labels):\n",
    "    \"\"\"Calculates derivative of cross entropy loss (C) w.r.t. weighted sum of inputs (Z). \n",
    "    \n",
    "    \"\"\"\n",
    "    \n",
    "    '''processing labels(One-hot encoding) and outputs(resizing) argument  '''\n",
    "    m = outputs.shape[0]\n",
    "    n = outputs.shape[1]\n",
    "    \n",
    "    temp_labels = torch.zeros(m,n)\n",
    "    for i in range(m):\n",
    "        temp_labels[i][labels[i]] = 1\n",
    "    \n",
    "    avg_grads = outputs - temp_labels\n",
    "    \n",
    "    return avg_grads*(1/m)\n"
   ]
  },
  {
   "cell_type": "markdown",
   "metadata": {},
   "source": [
    "# Code for updating parameter.\n",
    "We then,update neural network parameter(weight and baises) after the gradients are recived from backpropagation"
   ]
  },
  {
   "cell_type": "code",
   "execution_count": 9,
   "metadata": {},
   "outputs": [],
   "source": [
    "\n",
    "\"\"\" Updating weights by subracting the product of cost derivative w.r.t to parameters\n",
    "     and learning rate\"\"\"\n",
    "\n",
    "def mbgd(weights, biases, dw1, db1, dw2, db2, dw3, db3, lr):\n",
    "    \"\"\"Mini-batch gradient descent\n",
    "    \"\"\"\n",
    "    new_weights = {'w1':0,'w2':0,'w3':0}\n",
    "    new_biases = {'b1':0,'b2':0,'b3':0}\n",
    "    new_weights['w1'] = weights['w1'] - lr * dw1\n",
    "    new_weights['w2'] = weights['w2'] - lr * dw2\n",
    "    new_weights['w3'] = weights['w3'] - lr * dw3\n",
    "    new_biases['b1'] =  biases['b1'] - lr * db1\n",
    "    new_biases['b2'] = biases['b2'] - lr * db2\n",
    "    new_biases['b3'] = biases['b3'] - lr * db3\n",
    "\n",
    "    return new_weights, new_biases\n"
   ]
  },
  {
   "cell_type": "markdown",
   "metadata": {},
   "source": [
    "# Code for neural network model.\n",
    "Then we code a fully connected neural network, in the model we have the following layer:\n",
    "        \n",
    "        1.Input layer : dataset(784)\n",
    "        \n",
    "        2.Hidden Layer1 :(256) input from layer 1 passed to a linear funtion, activation funtion used: sigmoid(to apply non linearity)\n",
    "        \n",
    "        3.Hidden Layer2 :(256) input from layer 2 passed to a linear funtion, activation funtion used: sigmoid(to apply non linearity)\n",
    "        \n",
    "        4.Output Layer :(10) input from layer 3 passed to a linear funtion, activation funtion used: softmax(to get probablity for every number)"
   ]
  },
  {
   "cell_type": "code",
   "execution_count": 10,
   "metadata": {},
   "outputs": [],
   "source": [
    "# import math\n",
    "import torch\n",
    "\n",
    "class FullyConnected:\n",
    "    \"\"\"Constructs the Neural Network architecture.\n",
    "\n",
    "    Args:\n",
    "        N_in (int): input size\n",
    "        N_h1 (int): hidden layer 1 size\n",
    "        N_h2 (int): hidden layer 2 size\n",
    "        N_out (int): output size\n",
    "        device (str, optional): selects device to execute code. Defaults to 'cpu'\n",
    "    \n",
    "    Examples:\n",
    "        >>> network = model.FullyConnected(2000, 512, 256, 5, device='cpu')\n",
    "        >>> creloss, accuracy, outputs = network.train(inputs, labels)\n",
    "    \"\"\"\n",
    "\n",
    "    def __init__(self, N_in, N_h1, N_h2, N_out, device='cpu'):\n",
    "        \"\"\"Initializes weights and biases, and construct neural network architecture.\n",
    "        \n",
    "        One [recommended](http://jmlr.org/proceedings/papers/v9/glorot10a/glorot10a.pdf) approach is to initialize weights randomly but uniformly in the interval from [-1/n^0.5, 1/n^0.5] where 'n' is number of neurons from incoming layer. For example, number of neurons in incoming layer is 784, then weights should be initialized randomly in uniform interval between [-1/784^0.5, 1/784^0.5].\n",
    "        \n",
    "        You should maintain a list of weights and biases which will be initalized here. They should be torch tensors.\n",
    "\n",
    "        Optionally, you can maintain a list of activations and weighted sum of neurons in a dictionary named Cache to avoid recalculation of those. If tensors are too large it could be an issue.\n",
    "        \"\"\"\n",
    "        self.N_in = N_in\n",
    "        self.N_h1 = N_h1\n",
    "        self.N_h2 = N_h2\n",
    "        self.N_out = N_out\n",
    "\n",
    "        self.device = torch.device(device)\n",
    "\n",
    "        w1 = torch.Tensor(N_h1,N_in).uniform_(-1/math.pow(N_in,0.5), 1/math.pow(N_in,0.5)).float()\n",
    "        w2 = torch.Tensor(N_h2,N_h1).uniform_(-1/math.pow(N_h1,0.5), 1/math.pow(N_h1,0.5)).float()\n",
    "        w3 = torch.Tensor(N_out,N_h2).uniform_(-1/math.pow(N_h2,0.5), 1/math.pow(N_h2,0.5)).float()\n",
    "        self.weights = {'w1': w1, 'w2': w2, 'w3': w3}\n",
    "              \n",
    "        b1 = torch.Tensor(N_h1).uniform_(-1/math.pow(N_in,0.5), 1/math.pow(N_in,0.5)).float()\n",
    "        b2 = torch.Tensor(N_h2).uniform_(-1/math.pow(N_h1,0.5), 1/math.pow(N_h1,0.5)).float()\n",
    "        b3 = torch.Tensor(N_out).uniform_(-1/math.pow(N_h2,0.5), 1/math.pow(N_h2,0.5)).float()\n",
    "        self.biases = {'b1': b1, 'b2': b2, 'b3': b3}\n",
    "        \n",
    "        self.cache = {'z1': 0, 'z2': 0, 'z3': 0,'a1':0, 'a2' : 0 , 'a3' : 0}\n",
    "\n",
    "    def train(self, inputs, labels, lr=0.001, debug=False):\n",
    "        \"\"\"Trains the neural network on given inputs and labels.\n",
    "\n",
    "        This function will train the neural network on given inputs and minimize the loss by backpropagating and adjusting weights with some optimizer.\n",
    "\n",
    "        Args:\n",
    "            inputs (torch.tensor): inputs to train neural network. Size (batch_size, N_in) \n",
    "            labels (torch.tensor): correct labels. Size (batch_size)\n",
    "            lr (float, optional): learning rate for training. Defaults to 0.001\n",
    "            debug (bool, optional): prints loss and accuracy on each update. Defaults to False\n",
    "\n",
    "        Returns:\n",
    "            creloss (float): average cross entropy loss\n",
    "            accuracy (float): ratio of correctly classified to total samples\n",
    "            outputs (torch.tensor): predictions from neural network. Size (batch_size, N_out)\n",
    "        \"\"\"\n",
    "        \"\"\"This condition is for training on train set as the validation set\n",
    "            should not be trained, so we applied check condition(debug)\n",
    "            debug : True -> validation set\n",
    "            debug : False -> trainset\n",
    "            The for loop will take samples from minibatch and train the network\"\"\"\n",
    "            \n",
    "        outputs = self.forward(inputs)\n",
    "        dw1, db1, dw2, db2, dw3, db3 = self.backward(inputs, labels, outputs)\n",
    "        self.weights, self.biases = mbgd(self.weights, self.biases, dw1, db1, dw2, db2, dw3, db3, lr)\n",
    "        creloss = cross_entropy_loss(outputs,labels)\n",
    "        accuracy = self.accuracy(outputs,labels)\n",
    "         \n",
    "        \n",
    "        if debug:\n",
    "            print('Training loss ',creloss)\n",
    "            print('training accuracy: ',accuracy*100,'%')\n",
    "          \n",
    "         \n",
    "        \n",
    "        return creloss,accuracy, outputs.type(torch.FloatTensor)\n",
    "\n",
    "    def predict(self, inputs):\n",
    "        \"\"\"Predicts output probability and index of most activating neuron\n",
    "\n",
    "        This function is used to predict output given inputs. You can then use index in classes to show which class got activated. For example, if in case of MNIST fifth neuron has highest firing probability, then class[5] is the label of input.\n",
    "\n",
    "        Args:\n",
    "            inputs (torch.tensor): inputs to train neural network. Size (batch_size, N_in) \n",
    "\n",
    "        Returns:\n",
    "            score (torch.tensor): max score for each class. Size (batch_size)\n",
    "            idx (torch.tensor): index of most activating neuron. Size (batch_size)  \n",
    "        \"\"\"\n",
    "        outputs = self.forward(inputs) # forward pass\n",
    "        \n",
    "        score , idx = torch.max(outputs,1)[0],torch.argmax(outputs,1)\n",
    "        return score.type(torch.FloatTensor), idx.type(torch.LongTensor)\n",
    "\n",
    "    def eval(self, inputs, labels, debug=False):\n",
    "        \"\"\"Evaluate performance of neural network on inputs with labels.\n",
    "\n",
    "        This function is used to evaluate loss and accuracy of neural network on new examples. Unlike predict(), this function will not only predict but also calculate and return loss and accuracy w.r.t given inputs and labels.\n",
    "\n",
    "        Args:\n",
    "            inputs (torch.tensor): inputs to train neural network. Size (batch_size, N_in) \n",
    "            labels (torch.tensor): correct labels. Size (batch_size)\n",
    "            debug (bool, optional): print loss and accuracy on every iteration. Defaults to False\n",
    "\n",
    "        Returns:\n",
    "            loss (float): average cross entropy loss\n",
    "            accuracy (float): ratio of correctly to uncorrectly classified samples\n",
    "            outputs (torch.tensor): predictions from neural network. Size (batch_size, N_out)\n",
    "        \"\"\"\n",
    "        \"\"\"We first take the average of loss and accuracy of every batch and \n",
    "            return\"\"\"\n",
    "        temp_cre = 0\n",
    "        temp_acc = 0\n",
    "        outputs = 0\n",
    "        m = inputs.shape[0]\n",
    "        outputs = self.forward(inputs)\n",
    "        for i in range(m):\n",
    "            temp_cre += cross_entropy_loss(outputs[i].reshape(1,-1),labels[i])\n",
    "            temp_acc += self.accuracy(outputs[i].reshape(1,-1),labels[i])\n",
    "         \n",
    "            if debug:\n",
    "                print('loss: ', temp_cre/(i+1))\n",
    "                print('accuracy: ', temp_acc*100/(i+1))\n",
    "        return temp_cre/m, temp_acc*100/m, outputs\n",
    "\n",
    "    def accuracy(self, outputs, labels):\n",
    "        \"\"\"Accuracy of neural network for given outputs and labels.\n",
    "        \n",
    "        Calculates ratio of number of correct outputs to total number of examples.\n",
    "\n",
    "        Args:\n",
    "            outputs (torch.tensor): outputs predicted by neural network. Size (batch_size, N_out)\n",
    "            labels (torch.tensor): correct labels. Size (batch_size)\n",
    "        \n",
    "        Returns:\n",
    "            accuracy (float): accuracy score \n",
    "        \"\"\"\n",
    "        \"\"\"The index with the max value in output tensor will be \n",
    "            considered as number prediction from the trained network\n",
    "            then it is compared with the label and the correct numbers are \n",
    "            incremented, at last we average the corrrect prediction\"\"\"\n",
    "        correct = 0\n",
    "        m = outputs.shape[0]\n",
    "        for i in range(m):\n",
    "            temp = torch.argmax(outputs[i])\n",
    "            if (temp.item() == labels[i].item()):\n",
    "                correct+=1\n",
    "        accuracy = correct/m\n",
    "        return accuracy\n",
    "\n",
    "    def forward(self, inputs):\n",
    "        \"\"\"Forward pass of neural network\n",
    "\n",
    "        Calculates score for each class.\n",
    "\n",
    "        Args:\n",
    "            inputs (torch.tensor): inputs to train neural network. Size (batch_size, N_in) \n",
    "\n",
    "        Returns:\n",
    "            outputs (torch.tensor): predictions from neural network. Size (batch_size, N_out)\n",
    "        \"\"\"\n",
    "        \"\"\"The linear outputs are first calculated at every layer then a \n",
    "            non linear funtion is applied to it and stored in cache for furter use\"\"\"\n",
    "        self.cache['z1'] = self.weighted_sum(inputs,self.weights['w1'],self.biases['b1'])\n",
    "        a1 = sigmoid(self.cache['z1'])\n",
    "        self.cache['z2'] = self.weighted_sum(a1,self.weights['w2'],self.biases['b2']) \n",
    "        a2 = sigmoid(self.cache['z2'])\n",
    "        self.cache['z3'] = self.weighted_sum(a2,self.weights['w3'],self.biases['b3'])\n",
    "        \n",
    "        outputs = softmax(self.cache['z3']) \n",
    "        self.cache['a1'] = a1\n",
    "        self.cache['a2'] = a2\n",
    "        self.cache['a3'] = outputs\n",
    "        \n",
    "        return outputs\n",
    "\n",
    "    def weighted_sum(self, X, w, b):\n",
    "        \"\"\"Weighted sum at neuron\n",
    "        \n",
    "        Args:\n",
    "            X (torch.tensor): matrix of Size (K, L)\n",
    "            w (torch.tensor): weight matrix of Size (J, L)\n",
    "            b (torch.tensor): vector of Size (J)\n",
    "\n",
    "        Returns:\n",
    "            result (torch.tensor): w*X + b of Size (K, J)\n",
    "        \"\"\"\n",
    "        mm = torch.mm(X,w.t())\n",
    "        result = torch.add(mm,b)\n",
    "        return result\n",
    "\n",
    "    def backward(self, inputs, labels, outputs):\n",
    "        \"\"\"Backward pass of neural network\n",
    "        \n",
    "        Changes weights and biases of each layer to reduce loss\n",
    "        \n",
    "        Args:\n",
    "            inputs (torch.tensor): inputs to train neural network. Size (batch_size, N_in) \n",
    "            labels (torch.tensor): correct labels. Size (batch_size)\n",
    "            outputs (torch.tensor): outputs predicted by neural network. Size (batch_size, N_out)\n",
    "        \n",
    "        Returns:\n",
    "            dw1 (torch.tensor): Gradient of loss w.r.t. w1. Size like w1\n",
    "            db1 (torch.tensor): Gradient of loss w.r.t. b1. Size like b1\n",
    "            dw2 (torch.tensor): Gradient of loss w.r.t. w2. Size like w2\n",
    "            db2 (torch.tensor): Gradient of loss w.r.t. b2. Size like b2\n",
    "            dw3 (torch.tensor): Gradient of loss w.r.t. w3. Size like w3\n",
    "            db3 (torch.tensor): Gradient of loss w.r.t. b3. Size like b3\n",
    "        \"\"\"\n",
    "        # Calculating derivative of loss w.r.t weighted sum\n",
    "        \"\"\"Calculating error to loss from outputs and labels\"\"\"\n",
    "        dout = delta_cross_entropy_softmax(outputs , labels)\n",
    "        \"\"\"Second layer error\"\"\"\n",
    "        d2 = torch.mm(dout , self.weights['w3']) * delta_sigmoid(self.cache['z2'])\n",
    "        \"\"\"First layer error\"\"\"\n",
    "        d1 = torch.mm(d2 , self.weights['w2'] ) * delta_sigmoid(self.cache['z1'])\n",
    "        \n",
    "        \"\"\"Gradients for after backpropogation \"\"\"\n",
    "        dw1, db1, dw2, db2, dw3, db3 = self.calculate_grad(inputs, d1, d2, dout)# calculate all gradients\n",
    "        return dw1, db1, dw2, db2, dw3, db3\n",
    "\n",
    "    def calculate_grad(self, inputs, d1, d2, dout):\n",
    "        \"\"\"Calculates gradients for backpropagation\n",
    "        \n",
    "        This function is used to calculate gradients like loss w.r.t. weights and biases.\n",
    "\n",
    "        Args:\n",
    "            inputs (torch.tensor): inputs to train neural network. Size (batch_size, N_in) \n",
    "            dout (torch.tensor): error at output. Size like aout or a3 (or z3)\n",
    "            d2 (torch.tensor): error at hidden layer 2. Size like a2 (or z2)\n",
    "            d1 (torch.tensor): error at hidden layer 1. Size like a1 (or z1)\n",
    "\n",
    "        Returns:\n",
    "            dw1 (torch.tensor): Gradient of loss w.r.t. w1. Size like w1\n",
    "            db1 (torch.tensor): Gradient of loss w.r.t. b1. Size like b1\n",
    "            dw2 (torch.tensor): Gradient of loss w.r.t. w2. Size like w2\n",
    "            db2 (torch.tensor): Gradient of loss w.r.t. b2. Size like b2\n",
    "            dw3 (torch.tensor): Gradient of loss w.r.t. w3. Size like w3\n",
    "            db3 (torch.tensor): Gradient of loss w.r.t. b3. Size like b3\n",
    "        \"\"\"\n",
    "        \"\"\"Updating weight gradients (dependent of previous layers)\"\"\"\n",
    "        \n",
    "        dw3 = torch.mm(dout.t(),self.cache['a2'])\n",
    "        dw2 = torch.mm(d2.t() , self.cache['a1']) \n",
    "        dw1 = torch.mm(d1.t() , inputs)\n",
    "        \n",
    "        \"\"\"Updating baises gradients (independent for previous layer)\n",
    "            flatten method is used for 1D conversion\"\"\"\n",
    "        db3 = torch.sum(dout ,0, True).flatten()\n",
    "        db2 = torch.sum(d2 ,0, True).flatten() \n",
    "        db1 = torch.sum(d1 ,0, True).flatten() \n",
    "        return dw1, db1, dw2, db2, dw3, db3\n",
    "\n"
   ]
  },
  {
   "cell_type": "markdown",
   "metadata": {},
   "source": [
    "# Setting up the hyper parameter to construct our neural network \n"
   ]
  },
  {
   "cell_type": "code",
   "execution_count": 11,
   "metadata": {},
   "outputs": [],
   "source": [
    "# Layer size\n",
    "N_in = 28 * 28 # Input size\n",
    "N_h1 = 256 # Hidden Layer 1 size\n",
    "N_h2 = 256 # Hidden Layer 2 size\n",
    "N_out = 10 # Output size\n",
    "# Learning rate\n",
    "lr = 0.001\n"
   ]
  },
  {
   "cell_type": "markdown",
   "metadata": {},
   "source": [
    "# The warning supressor was used as to supress the .item() warning from python, as from  pytorch 0.5 the retirival for retriving data we have to compulory use .item() method,But this will cause no problem to our model therefore we decided to supress it."
   ]
  },
  {
   "cell_type": "code",
   "execution_count": 12,
   "metadata": {},
   "outputs": [],
   "source": [
    "net = FullyConnected(N_in, N_h1, N_h2, N_out, device=device)\n",
    "N_epoch = 2 \n",
    "\n",
    "#This parameter wil decide wheather to show training accuracy and loss on every iteration(Default has been set to False, as to make things look cleaner)\n",
    "debug = False"
   ]
  },
  {
   "cell_type": "markdown",
   "metadata": {},
   "source": [
    "# Instead of slipting validation set from training set we set a condition check to auto filter data for validation set we set check to 5 as the total iteration in one epoch will be (60000/4) = 15000 and every 5th batch will be a validation batch so total training dataset is been split into 80/20 ratio with validation set as 12000 and training as 48000 dataset.\n"
   ]
  },
  {
   "cell_type": "code",
   "execution_count": 13,
   "metadata": {},
   "outputs": [
    {
     "name": "stdout",
     "output_type": "stream",
     "text": [
      "Epoch:  1  Validation loss  0.35903891126081  accuracy:  89.925\n",
      "Epoch:  2  Validation loss  0.2588192576973015  accuracy:  92.35\n"
     ]
    }
   ],
   "source": [
    "import warnings\n",
    "warnings.filterwarnings(\"ignore\")\n",
    "loss_train = []\n",
    "loss_valid = []\n",
    "acc_train = []\n",
    "acc_valid = []\n",
    "temp_idx = 0\n",
    "temp_idx1 = 0\n",
    "for i in range(N_epoch):\n",
    "    j = 0\n",
    "    \n",
    "    for batch_idx, (x, target) in enumerate(trainloader):\n",
    "        j+=1\n",
    "        x, target = x, target\n",
    "        x = x.reshape(trn_BATCH_SIZE,-1)\n",
    "        if (j%5!=0):\n",
    "            temp_idx+=1\n",
    "            creloss, accuracy, outputs = net.train(x, target, lr=0.01,debug=False)\n",
    "            if(temp_idx%1000 == 0):\n",
    "                loss_train.append(creloss)\n",
    "                acc_train.append(accuracy)\n",
    "    j=0\n",
    "    k=0\n",
    "    \n",
    "    \"\"\"Validation Set\"\"\"\n",
    "    validation_loss = validation_accuracy = 0\n",
    "    for batch_idx, (x, target) in enumerate(trainloader):\n",
    "        j+=1\n",
    "        x, target = x, target\n",
    "        x = x.reshape(trn_BATCH_SIZE,-1)\n",
    "        if (j%5==0):\n",
    "            k+=1\n",
    "            temp_idx1+=1\n",
    "            valid_loss,valid_acc,outputs = net.eval(x,target)\n",
    "            validation_loss+=valid_loss\n",
    "            validation_accuracy+=valid_acc\n",
    "            if(temp_idx1%400 == 0):\n",
    "                loss_valid.append(valid_loss)\n",
    "                acc_valid.append(valid_acc)\n",
    "            \n",
    "    print('Epoch: ',i+1,' Validation loss ',validation_loss/k,' accuracy: ',validation_accuracy/k)\n"
   ]
  },
  {
   "cell_type": "markdown",
   "metadata": {},
   "source": [
    "The split in the validation was made as to overcome over fitting.\n",
    "The model is designed to reduce the loss of training data, so it is obviouse given a right implementation, the loss in traing set will reduce and accuracy will increase on training set, but this will lead to overfitting(the model will be too much trained to recognise only previously seen data), so the solution is to make a small validation set from training data , that will validate wheather our model is overfitting or not, if the accuracy in the validation set is increasing the model is doing well.\n",
    "\n",
    "From the above data we can make conclusions that our parameter initialization, and hyperparameters setting are correct, to make this model fit well and not overfit, as we have used mini batch SGD the common problem arises is the stucking of gradients at local minimma or saddle points but as our loss has decreased significantly we can conclude that our optimizer worked well at updating parameters, if you want to see loss decreasing live set debug to True and run the above block. "
   ]
  },
  {
   "cell_type": "code",
   "execution_count": 14,
   "metadata": {},
   "outputs": [
    {
     "data": {
      "text/plain": [
       "Text(0.5,1,'Training loss ')"
      ]
     },
     "execution_count": 14,
     "metadata": {},
     "output_type": "execute_result"
    },
    {
     "data": {
      "image/png": "[encoded data removed]",
      "text/plain": [
       "<Figure size 432x288 with 1 Axes>"
      ]
     },
     "metadata": {
      "needs_background": "light"
     },
     "output_type": "display_data"
    }
   ],
   "source": [
    "plt.plot(range(len(loss_train)) ,loss_train )\n",
    "plt.xlabel('Iterations(normalized)')\n",
    "plt.ylabel('Loss')\n",
    "plt.title('Training loss ')"
   ]
  },
  {
   "cell_type": "markdown",
   "metadata": {},
   "source": [
    "As per the curve the is seen to decrease steadily until the spike, the spike is generated because of gradient fluctuation as gradient desent won't decrease loss at every iteration,\n",
    "as our funtion is not a perfect convex funtion spikes in loss is normal."
   ]
  },
  {
   "cell_type": "code",
   "execution_count": 15,
   "metadata": {},
   "outputs": [
    {
     "data": {
      "text/plain": [
       "Text(0.5,1,'validation loss ')"
      ]
     },
     "execution_count": 15,
     "metadata": {},
     "output_type": "execute_result"
    },
    {
     "data": {
      "image/png": "[encoded data removed]",
      "text/plain": [
       "<Figure size 432x288 with 1 Axes>"
      ]
     },
     "metadata": {
      "needs_background": "light"
     },
     "output_type": "display_data"
    }
   ],
   "source": [
    "plt.plot(range(len(loss_valid)) ,loss_valid )\n",
    "plt.xlabel('Iterations(normalized)')\n",
    "plt.ylabel('Loss')\n",
    "plt.title('validation loss ')"
   ]
  },
  {
   "cell_type": "markdown",
   "metadata": {},
   "source": [
    "This is the validation loss curve as our model is trying to minimise training loss ,this set was introduced as to check over fitting but as the validation accuracy curve is steadily increasing(plotted below) we can conclude that our model is not overfitted, it is doing well on new data."
   ]
  },
  {
   "cell_type": "code",
   "execution_count": 16,
   "metadata": {},
   "outputs": [
    {
     "data": {
      "text/plain": [
       "Text(0.5,1,'Training accuracy ')"
      ]
     },
     "execution_count": 16,
     "metadata": {},
     "output_type": "execute_result"
    },
    {
     "data": {
      "image/png": "[encoded data removed]",
      "text/plain": [
       "<Figure size 432x288 with 1 Axes>"
      ]
     },
     "metadata": {
      "needs_background": "light"
     },
     "output_type": "display_data"
    }
   ],
   "source": [
    "plt.plot(range(len(acc_train)) ,acc_train )\n",
    "plt.xlabel('Iterations(normalized)')\n",
    "plt.ylabel('Accuracy')\n",
    "plt.title('Training accuracy ')"
   ]
  },
  {
   "cell_type": "markdown",
   "metadata": {},
   "source": [
    "The fluctuation in training accuracy was caused by the fluctuaion in loss as explained in above markdown.\n",
    "But as in last our model has around 100% accuracy.\n",
    "This shows our model has trained well on training set."
   ]
  },
  {
   "cell_type": "code",
   "execution_count": 17,
   "metadata": {
    "scrolled": false
   },
   "outputs": [
    {
     "data": {
      "text/plain": [
       "Text(0.5,1,'Validation accuracy ')"
      ]
     },
     "execution_count": 17,
     "metadata": {},
     "output_type": "execute_result"
    },
    {
     "data": {
      "image/png": "[encoded data removed]",
      "text/plain": [
       "<Figure size 432x288 with 1 Axes>"
      ]
     },
     "metadata": {
      "needs_background": "light"
     },
     "output_type": "display_data"
    }
   ],
   "source": [
    "plt.plot(range(len(acc_valid)) ,acc_valid )\n",
    "plt.xlabel('Iterations(normalized)')\n",
    "plt.ylabel('Accuracy')\n",
    "plt.title('Validation accuracy ')"
   ]
  },
  {
   "cell_type": "markdown",
   "metadata": {},
   "source": [
    "This is the validation accuracy to check overfitting of model, as the accuracy curve is steadily incresing we can conclude that our model is doing fine on new data.\n",
    "We can make our final assumption of accuracy on testing data."
   ]
  },
  {
   "cell_type": "markdown",
   "metadata": {},
   "source": [
    "# Test the model\n",
    "As earlier we have created a seperate dataset, one the model has never seen before, and we will use this set to test our model for accuracy"
   ]
  },
  {
   "cell_type": "code",
   "execution_count": 18,
   "metadata": {},
   "outputs": [
    {
     "name": "stdout",
     "output_type": "stream",
     "text": [
      "Test set accuray  tensor(92) %\n"
     ]
    }
   ],
   "source": [
    "accuracy_test = 0\n",
    "j = 0\n",
    "for batch_idx, (x, target) in enumerate(test_loader):\n",
    "    j+=1\n",
    "    x, target = x, target\n",
    "    x = x.reshape(test_BATCH_SIZE,-1)\n",
    "    score,idx = net.predict(x)\n",
    "    accuracy_test += torch.sum( idx == target )\n",
    "print('Test set accuray ',accuracy_test/j,'%')\n"
   ]
  },
  {
   "cell_type": "markdown",
   "metadata": {},
   "source": [
    "# Let's test  our model by visualizing results "
   ]
  },
  {
   "cell_type": "markdown",
   "metadata": {},
   "source": [
    "Actually we have our trained model, what we will do is pass some random data from test set and pass it through forward pass,\n",
    "then plot the pixels(inputs) and see if the image matchs the label or not. "
   ]
  },
  {
   "cell_type": "code",
   "execution_count": 19,
   "metadata": {},
   "outputs": [
    {
     "name": "stdout",
     "output_type": "stream",
     "text": [
      "Actual Value is  tensor([0])\n",
      "Model predicts that probablity of image been number  tensor(0)  is  tensor(0.9975)\n"
     ]
    },
    {
     "data": {
      "image/png": "[encoded data removed]",
      "text/plain": [
       "<Figure size 432x288 with 1 Axes>"
      ]
     },
     "metadata": {
      "needs_background": "light"
     },
     "output_type": "display_data"
    }
   ],
   "source": [
    "random_generated_image = torch.LongTensor(1).random_(0,len(dataset_test.targets))\n",
    "test_visualise_data = dataset_test.data\n",
    "test_visualise_target = dataset_test.targets\n",
    "plt.imshow(test_visualise_data[random_generated_image].reshape(28,28),cmap=\"gray\")\n",
    "print('Actual Value is ',test_visualise_target[random_generated_image])\n",
    "score,idx = net.predict(test_visualise_data[random_generated_image].type(torch.FloatTensor).reshape(1,-1))\n",
    "print('Model predicts that probablity of image been number ',idx[0],' is ',score[0])"
   ]
  },
  {
   "cell_type": "code",
   "execution_count": 20,
   "metadata": {},
   "outputs": [
    {
     "name": "stdout",
     "output_type": "stream",
     "text": [
      "Actual Value is  tensor([1])\n",
      "Model predicts that probablity of image been number  tensor(1)  is  tensor(0.9550)\n"
     ]
    },
    {
     "data": {
      "image/png": "[encoded data removed]",
      "text/plain": [
       "<Figure size 432x288 with 1 Axes>"
      ]
     },
     "metadata": {
      "needs_background": "light"
     },
     "output_type": "display_data"
    }
   ],
   "source": [
    "random_generated_image = torch.LongTensor(1).random_(0,len(dataset_test.targets))\n",
    "test_visualise_data = dataset_test.data\n",
    "test_visualise_target = dataset_test.targets\n",
    "plt.imshow(test_visualise_data[random_generated_image].reshape(28,28),cmap=\"gray\")\n",
    "print('Actual Value is ',test_visualise_target[random_generated_image])\n",
    "score,idx = net.predict(test_visualise_data[random_generated_image].type(torch.FloatTensor).reshape(1,-1))\n",
    "print('Model predicts that probablity of image been number ',idx[0],' is ',score[0])"
   ]
  },
  {
   "cell_type": "code",
   "execution_count": 21,
   "metadata": {},
   "outputs": [
    {
     "name": "stdout",
     "output_type": "stream",
     "text": [
      "Actual Value is  tensor([5])\n",
      "Model predicts that probablity of image been number  tensor(5)  is  tensor(0.7697)\n"
     ]
    },
    {
     "data": {
      "image/png": "[encoded data removed]",
      "text/plain": [
       "<Figure size 432x288 with 1 Axes>"
      ]
     },
     "metadata": {
      "needs_background": "light"
     },
     "output_type": "display_data"
    }
   ],
   "source": [
    "random_generated_image = torch.LongTensor(1).random_(0,len(dataset_test.targets))\n",
    "test_visualise_data = dataset_test.data\n",
    "test_visualise_target = dataset_test.targets\n",
    "plt.imshow(test_visualise_data[random_generated_image].reshape(28,28),cmap=\"gray\")\n",
    "print('Actual Value is ',test_visualise_target[random_generated_image])\n",
    "score,idx = net.predict(test_visualise_data[random_generated_image].type(torch.FloatTensor).reshape(1,-1))\n",
    "print('Model predicts that probablity of image been number ',idx[0],' is ',score[0])"
   ]
  },
  {
   "cell_type": "markdown",
   "metadata": {},
   "source": [
    "# As we saw the model is making great predictions on new data"
   ]
  },
  {
   "cell_type": "code",
   "execution_count": null,
   "metadata": {},
   "outputs": [],
   "source": []
  }
 ],
 "metadata": {
  "kernelspec": {
   "display_name": "Python 3",
   "language": "python",
   "name": "python3"
  },
  "language_info": {
   "codemirror_mode": {
    "name": "ipython",
    "version": 3
   },
   "file_extension": ".py",
   "mimetype": "text/x-python",
   "name": "python",
   "nbconvert_exporter": "python",
   "pygments_lexer": "ipython3",
   "version": "3.6.5"
  }
 },
 "nbformat": 4,
 "nbformat_minor": 2
}
